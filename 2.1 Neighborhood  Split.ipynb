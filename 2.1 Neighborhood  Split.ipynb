{
 "cells": [
  {
   "cell_type": "markdown",
   "id": "f123369f",
   "metadata": {},
   "source": [
    "# Neighborhood Split (Feature Engineering)\n",
    "    \n",
    "In this notebook, we woyuld do some cleaning of data on the location feature in our various datasets.\n",
    "\n",
    "The objective is to extract as much information to make the homes specific.\n",
    "\n",
    "We would focus on extracting City and Neighborhood/area of home, we would have extracted info like street but not all listings have and it would give us a lot of None/ Missing values that would make it hard for model bulinf and more data cleaning later"
   ]
  },
  {
   "cell_type": "code",
   "execution_count": 196,
   "id": "223c6496",
   "metadata": {},
   "outputs": [],
   "source": [
    "import pandas as pd"
   ]
  },
  {
   "cell_type": "markdown",
   "id": "1a18f9db",
   "metadata": {},
   "source": [
    "# Ikeja"
   ]
  },
  {
   "cell_type": "markdown",
   "id": "675952be",
   "metadata": {},
   "source": [
    "## Import Dataset and Check Basic Info"
   ]
  },
  {
   "cell_type": "code",
   "execution_count": 197,
   "id": "76fa4295",
   "metadata": {},
   "outputs": [],
   "source": [
    "ikeja = pd.read_csv(\"dirty/ikeja.csv\")"
   ]
  },
  {
   "cell_type": "code",
   "execution_count": 198,
   "id": "addbb38f",
   "metadata": {},
   "outputs": [
    {
     "data": {
      "text/html": [
       "<div>\n",
       "<style scoped>\n",
       "    .dataframe tbody tr th:only-of-type {\n",
       "        vertical-align: middle;\n",
       "    }\n",
       "\n",
       "    .dataframe tbody tr th {\n",
       "        vertical-align: top;\n",
       "    }\n",
       "\n",
       "    .dataframe thead th {\n",
       "        text-align: right;\n",
       "    }\n",
       "</style>\n",
       "<table border=\"1\" class=\"dataframe\">\n",
       "  <thead>\n",
       "    <tr style=\"text-align: right;\">\n",
       "      <th></th>\n",
       "      <th>Title</th>\n",
       "      <th>Location</th>\n",
       "      <th>Currency</th>\n",
       "      <th>Price</th>\n",
       "      <th>Serviced</th>\n",
       "      <th>Newly Built</th>\n",
       "      <th>Furnished</th>\n",
       "      <th>Bedrooms</th>\n",
       "      <th>Bathrooms</th>\n",
       "      <th>Toilets</th>\n",
       "    </tr>\n",
       "  </thead>\n",
       "  <tbody>\n",
       "    <tr>\n",
       "      <th>0</th>\n",
       "      <td>Shops</td>\n",
       "      <td>Allen Avenue Roundabout Allen Avenue Ikeja Lagos</td>\n",
       "      <td>₦</td>\n",
       "      <td>750,000/sqm</td>\n",
       "      <td>1</td>\n",
       "      <td>0</td>\n",
       "      <td>0</td>\n",
       "      <td>0 beds</td>\n",
       "      <td>0 baths</td>\n",
       "      <td>0 Toilets</td>\n",
       "    </tr>\n",
       "    <tr>\n",
       "      <th>1</th>\n",
       "      <td>Newly Built 5 Bedrooms Detached Triplex</td>\n",
       "      <td>Eso Close, Off Oduduwa Crescent, Gra Ikeja, La...</td>\n",
       "      <td>₦</td>\n",
       "      <td>280,000,000/year</td>\n",
       "      <td>0</td>\n",
       "      <td>1</td>\n",
       "      <td>0</td>\n",
       "      <td>5 beds</td>\n",
       "      <td>5 baths</td>\n",
       "      <td>6 Toilets</td>\n",
       "    </tr>\n",
       "    <tr>\n",
       "      <th>2</th>\n",
       "      <td>1800m2 Land</td>\n",
       "      <td>Off Adedayo Banjo Street Opebi Ikeja Lagos</td>\n",
       "      <td>₦</td>\n",
       "      <td>220,000,000</td>\n",
       "      <td>0</td>\n",
       "      <td>0</td>\n",
       "      <td>0</td>\n",
       "      <td>0 beds</td>\n",
       "      <td>0 baths</td>\n",
       "      <td>0 Toilets</td>\n",
       "    </tr>\n",
       "    <tr>\n",
       "      <th>3</th>\n",
       "      <td>5 Bedroom Fully Detached Duplex</td>\n",
       "      <td>Magodo Ikeja Lagos</td>\n",
       "      <td>₦</td>\n",
       "      <td>300,000,000</td>\n",
       "      <td>0</td>\n",
       "      <td>1</td>\n",
       "      <td>0</td>\n",
       "      <td>5 beds</td>\n",
       "      <td>6 baths</td>\n",
       "      <td>6 Toilets</td>\n",
       "    </tr>\n",
       "    <tr>\n",
       "      <th>4</th>\n",
       "      <td>Luxury Built 4bedroom Fully Detached Duplex</td>\n",
       "      <td>Ikeja Lagos</td>\n",
       "      <td>₦</td>\n",
       "      <td>295,000,000</td>\n",
       "      <td>1</td>\n",
       "      <td>1</td>\n",
       "      <td>0</td>\n",
       "      <td>4 beds</td>\n",
       "      <td>5 baths</td>\n",
       "      <td>5 Toilets</td>\n",
       "    </tr>\n",
       "  </tbody>\n",
       "</table>\n",
       "</div>"
      ],
      "text/plain": [
       "                                         Title  \\\n",
       "0                                        Shops   \n",
       "1      Newly Built 5 Bedrooms Detached Triplex   \n",
       "2                                  1800m2 Land   \n",
       "3              5 Bedroom Fully Detached Duplex   \n",
       "4  Luxury Built 4bedroom Fully Detached Duplex   \n",
       "\n",
       "                                            Location Currency  \\\n",
       "0   Allen Avenue Roundabout Allen Avenue Ikeja Lagos        ₦   \n",
       "1  Eso Close, Off Oduduwa Crescent, Gra Ikeja, La...        ₦   \n",
       "2         Off Adedayo Banjo Street Opebi Ikeja Lagos        ₦   \n",
       "3                                 Magodo Ikeja Lagos        ₦   \n",
       "4                                        Ikeja Lagos        ₦   \n",
       "\n",
       "              Price  Serviced  Newly Built  Furnished Bedrooms Bathrooms  \\\n",
       "0       750,000/sqm         1            0          0   0 beds   0 baths   \n",
       "1  280,000,000/year         0            1          0   5 beds   5 baths   \n",
       "2       220,000,000         0            0          0   0 beds   0 baths   \n",
       "3       300,000,000         0            1          0   5 beds   6 baths   \n",
       "4       295,000,000         1            1          0   4 beds   5 baths   \n",
       "\n",
       "     Toilets  \n",
       "0  0 Toilets  \n",
       "1  6 Toilets  \n",
       "2  0 Toilets  \n",
       "3  6 Toilets  \n",
       "4  5 Toilets  "
      ]
     },
     "execution_count": 198,
     "metadata": {},
     "output_type": "execute_result"
    }
   ],
   "source": [
    "ikeja.head()"
   ]
  },
  {
   "cell_type": "markdown",
   "id": "40bf6ed2",
   "metadata": {},
   "source": [
    "## Testing a Split\n",
    "\n",
    "We can see if we split the data and convert it to a list, the last item would be the state, second to the last the city and third and sometimes forth to the last contains the neighborhood.\n",
    "\n",
    "We would create a function that would get third and fourth to the last, compare them and manually create a feature that has both of their info"
   ]
  },
  {
   "cell_type": "code",
   "execution_count": 199,
   "id": "f1df82f3",
   "metadata": {},
   "outputs": [
    {
     "data": {
      "text/plain": [
       "['Allen', 'Avenue', 'Roundabout', 'Allen', 'Avenue', 'Ikeja', 'Lagos']"
      ]
     },
     "execution_count": 199,
     "metadata": {},
     "output_type": "execute_result"
    }
   ],
   "source": [
    "ikeja[\"Location\"][0].split()"
   ]
  },
  {
   "cell_type": "code",
   "execution_count": 200,
   "id": "51e9b2a4",
   "metadata": {},
   "outputs": [],
   "source": [
    "# Get Third to the last word in location data\n",
    "def neighborhood1(col):\n",
    "    # Create a list\n",
    "    final = []\n",
    "    \n",
    "    # For each value in Location data, get the third to last word \n",
    "    # append it to list\n",
    "    # If it doesnt have one, replace it with None\n",
    "    for value in col:\n",
    "        try:\n",
    "            final.append(value.split()[-3])\n",
    "        except:\n",
    "            final.append(\"None\")\n",
    "            \n",
    "    return final\n",
    "\n",
    "# Get Fourth to the last word in location data\n",
    "def neighborhood2(col):\n",
    "    #Create a list\n",
    "    final = []\n",
    "    \n",
    "    # For each value in Location data, get the fourth to last word\n",
    "    # Append it to list\n",
    "    # If it doesnt have one, replace it with None\n",
    "    for value in col:\n",
    "        try:\n",
    "            final.append(value.split()[-4])\n",
    "        except:\n",
    "            final.append(\"None\")\n",
    "            \n",
    "    return final"
   ]
  },
  {
   "cell_type": "code",
   "execution_count": 201,
   "id": "4f20e230",
   "metadata": {},
   "outputs": [],
   "source": [
    "# Apply the function and extract it to two seperate features\n",
    "ikeja[\"Neighborhood1\"] = neighborhood1(ikeja[\"Location\"])\n",
    "ikeja[\"Neighborhood2\"] = neighborhood2(ikeja[\"Location\"])"
   ]
  },
  {
   "cell_type": "code",
   "execution_count": 202,
   "id": "0fe9b52f",
   "metadata": {},
   "outputs": [
    {
     "data": {
      "text/html": [
       "<div>\n",
       "<style scoped>\n",
       "    .dataframe tbody tr th:only-of-type {\n",
       "        vertical-align: middle;\n",
       "    }\n",
       "\n",
       "    .dataframe tbody tr th {\n",
       "        vertical-align: top;\n",
       "    }\n",
       "\n",
       "    .dataframe thead th {\n",
       "        text-align: right;\n",
       "    }\n",
       "</style>\n",
       "<table border=\"1\" class=\"dataframe\">\n",
       "  <thead>\n",
       "    <tr style=\"text-align: right;\">\n",
       "      <th></th>\n",
       "      <th>Neighborhood1</th>\n",
       "      <th>Neighborhood2</th>\n",
       "    </tr>\n",
       "  </thead>\n",
       "  <tbody>\n",
       "    <tr>\n",
       "      <th>0</th>\n",
       "      <td>Avenue</td>\n",
       "      <td>Allen</td>\n",
       "    </tr>\n",
       "    <tr>\n",
       "      <th>1</th>\n",
       "      <td>Gra</td>\n",
       "      <td>Ikeja</td>\n",
       "    </tr>\n",
       "    <tr>\n",
       "      <th>2</th>\n",
       "      <td>Opebi</td>\n",
       "      <td>Street</td>\n",
       "    </tr>\n",
       "    <tr>\n",
       "      <th>3</th>\n",
       "      <td>Magodo</td>\n",
       "      <td>None</td>\n",
       "    </tr>\n",
       "    <tr>\n",
       "      <th>4</th>\n",
       "      <td>None</td>\n",
       "      <td>None</td>\n",
       "    </tr>\n",
       "    <tr>\n",
       "      <th>...</th>\n",
       "      <td>...</td>\n",
       "      <td>...</td>\n",
       "    </tr>\n",
       "    <tr>\n",
       "      <th>6648</th>\n",
       "      <td>Ikeja</td>\n",
       "      <td>Street.</td>\n",
       "    </tr>\n",
       "    <tr>\n",
       "      <th>6649</th>\n",
       "      <td>Ikeja</td>\n",
       "      <td>Street.</td>\n",
       "    </tr>\n",
       "    <tr>\n",
       "      <th>6650</th>\n",
       "      <td>Ikeja</td>\n",
       "      <td>Crescent,</td>\n",
       "    </tr>\n",
       "    <tr>\n",
       "      <th>6651</th>\n",
       "      <td>Ikeja</td>\n",
       "      <td>Gra,</td>\n",
       "    </tr>\n",
       "    <tr>\n",
       "      <th>6652</th>\n",
       "      <td>Ikeja</td>\n",
       "      <td>Estate</td>\n",
       "    </tr>\n",
       "  </tbody>\n",
       "</table>\n",
       "<p>6653 rows × 2 columns</p>\n",
       "</div>"
      ],
      "text/plain": [
       "     Neighborhood1 Neighborhood2\n",
       "0           Avenue         Allen\n",
       "1              Gra         Ikeja\n",
       "2            Opebi        Street\n",
       "3           Magodo          None\n",
       "4             None          None\n",
       "...            ...           ...\n",
       "6648         Ikeja       Street.\n",
       "6649         Ikeja       Street.\n",
       "6650         Ikeja     Crescent,\n",
       "6651         Ikeja          Gra,\n",
       "6652         Ikeja        Estate\n",
       "\n",
       "[6653 rows x 2 columns]"
      ]
     },
     "execution_count": 202,
     "metadata": {},
     "output_type": "execute_result"
    }
   ],
   "source": [
    "ikeja[[\"Neighborhood1\", \"Neighborhood2\"]]"
   ]
  },
  {
   "cell_type": "markdown",
   "id": "51d1565e",
   "metadata": {},
   "source": [
    "As we can see from looking at the unique values below and my further research of different areas in the Ikeja axis, I compared what i found to the cities in the unique and manually map them to their corresponfing cities.\n",
    "\n",
    "The ones that didnt have i added them to the most frequent neighborhood wihich was GRA"
   ]
  },
  {
   "cell_type": "code",
   "execution_count": 203,
   "id": "78535dea",
   "metadata": {},
   "outputs": [],
   "source": [
    "# ikeja[\"Neighborhood1\"].unique()"
   ]
  },
  {
   "cell_type": "code",
   "execution_count": 204,
   "id": "f44fc61e",
   "metadata": {},
   "outputs": [],
   "source": [
    "# ikeja[\"Neighborhood2\"].unique()"
   ]
  },
  {
   "cell_type": "code",
   "execution_count": 205,
   "id": "115af51e",
   "metadata": {},
   "outputs": [],
   "source": [
    "def extract_neigh(feature):\n",
    "    total = {}\n",
    "    for value in feature:\n",
    "        if (\"Avenue\" in value) or (\"allen\" in value.lower()):\n",
    "            total[value] = \"Allen Avenue\"\n",
    "        elif (\"gra\" in value.lower()) or (\"g.r.\" in value.lower()):\n",
    "            total[value] = \"GRA\"\n",
    "        elif \"opebi\" in value.lower():\n",
    "            total[value] = \"Opebi\"\n",
    "        # elif \"Alausa\" in value:\n",
    "        #     total[value] = \"Alausa\"\n",
    "        # elif \"Maryland\" in value:\n",
    "        #     total[value] = \"Maryland\"\n",
    "        # elif (\"road\" in value.lower()) or (\"highway\" in value.lower()) or (\"Airport\" in value):\n",
    "        #     total[value] = \"Airport Road\"\n",
    "        elif \"Alausa\" in value:\n",
    "            total[value] = \"Alausa\"\n",
    "        elif \"Maryland\" in value:\n",
    "            total[value] = \"Maryland\"\n",
    "        elif (\"road\" in value.lower()) or (\"highway\" in value.lower()) or (\"Airport\" in value):\n",
    "            total[value] = \"Airport Road\"\n",
    "        elif (\"Way\" in value) or (\"Way,\" in value):\n",
    "            total[value] = \"Awolowo Way\"\n",
    "        elif \"jones\" in value.lower():\n",
    "            total[value] = \"Adeniyi Jones\"\n",
    "        # elif \"Oregun\" in value:\n",
    "        #     total[value] = \"Oregun\"\n",
    "        # elif (\"1\" in value) or (\"2\" in value) or (\"Omole\" in value):\n",
    "        #     total[value] = \"Omole\"\n",
    "        # elif \"Agidingbi\" in value:\n",
    "        #     total[value] = \"Agidingbi\"\n",
    "        elif \"Oregun\" in value:\n",
    "            total[value] = \"Oregun\"\n",
    "        elif (\"1\" in value) or (\"2\" in value) or (\"Omole\" in value):\n",
    "            total[value] = \"Omole\"\n",
    "        elif \"Agidingbi\" in value:\n",
    "            total[value] = \"Agidingbi\"\n",
    "        else:\n",
    "            total[value] = \"Other Ikeja\"\n",
    "    return total"
   ]
  },
  {
   "cell_type": "code",
   "execution_count": 206,
   "id": "f5518ca0",
   "metadata": {},
   "outputs": [],
   "source": [
    "neighborhood = extract_neigh(ikeja[\"Neighborhood1\"])"
   ]
  },
  {
   "cell_type": "code",
   "execution_count": 207,
   "id": "f99edb6e",
   "metadata": {},
   "outputs": [],
   "source": [
    "ikeja[\"Neighborhood\"] = ikeja[\"Neighborhood1\"].map(neighborhood)\n",
    "ikeja.drop([\"Neighborhood1\", \"Neighborhood2\"], axis=1, inplace=True)"
   ]
  },
  {
   "cell_type": "code",
   "execution_count": 208,
   "id": "6c6080f5",
   "metadata": {},
   "outputs": [
    {
     "data": {
      "text/plain": [
       "GRA              28.393206\n",
       "Other Ikeja      18.713362\n",
       "Adeniyi Jones    12.956561\n",
       "Opebi             9.860213\n",
       "Allen Avenue      7.650684\n",
       "Awolowo Way       5.486247\n",
       "Oregun            4.509244\n",
       "Alausa            3.532241\n",
       "Airport Road      2.450023\n",
       "Agidingbi         2.450023\n",
       "Maryland          2.134375\n",
       "Omole             1.863821\n",
       "Name: Neighborhood, dtype: float64"
      ]
     },
     "execution_count": 208,
     "metadata": {},
     "output_type": "execute_result"
    }
   ],
   "source": [
    "ikeja[\"Neighborhood\"].value_counts(normalize=True) * 100"
   ]
  },
  {
   "cell_type": "code",
   "execution_count": 209,
   "id": "8248e9e6",
   "metadata": {},
   "outputs": [],
   "source": [
    "ikeja.to_csv(\"clean/ikeja.csv\")"
   ]
  },
  {
   "cell_type": "markdown",
   "id": "bdccd828",
   "metadata": {},
   "source": [
    "# Ikoyi"
   ]
  },
  {
   "cell_type": "code",
   "execution_count": 210,
   "id": "7e7f158a",
   "metadata": {},
   "outputs": [],
   "source": [
    "ikoyi = pd.read_csv(\"dirty/ikoyi.csv\")"
   ]
  },
  {
   "cell_type": "code",
   "execution_count": 211,
   "id": "dce07f5e",
   "metadata": {},
   "outputs": [
    {
     "data": {
      "text/html": [
       "<div>\n",
       "<style scoped>\n",
       "    .dataframe tbody tr th:only-of-type {\n",
       "        vertical-align: middle;\n",
       "    }\n",
       "\n",
       "    .dataframe tbody tr th {\n",
       "        vertical-align: top;\n",
       "    }\n",
       "\n",
       "    .dataframe thead th {\n",
       "        text-align: right;\n",
       "    }\n",
       "</style>\n",
       "<table border=\"1\" class=\"dataframe\">\n",
       "  <thead>\n",
       "    <tr style=\"text-align: right;\">\n",
       "      <th></th>\n",
       "      <th>Title</th>\n",
       "      <th>Location</th>\n",
       "      <th>Currency</th>\n",
       "      <th>Price</th>\n",
       "      <th>Serviced</th>\n",
       "      <th>Newly Built</th>\n",
       "      <th>Furnished</th>\n",
       "      <th>Bedrooms</th>\n",
       "      <th>Bathrooms</th>\n",
       "      <th>Toilets</th>\n",
       "    </tr>\n",
       "  </thead>\n",
       "  <tbody>\n",
       "    <tr>\n",
       "      <th>0</th>\n",
       "      <td>Newly Built 5 Bedroom Fully Detached Duplex</td>\n",
       "      <td>Oniru Estate Victoria Island, Awolowo Road Iko...</td>\n",
       "      <td>₦</td>\n",
       "      <td>250,000,000</td>\n",
       "      <td>1</td>\n",
       "      <td>1</td>\n",
       "      <td>1</td>\n",
       "      <td>5 beds</td>\n",
       "      <td>6 baths</td>\n",
       "      <td>6 Toilets</td>\n",
       "    </tr>\n",
       "    <tr>\n",
       "      <th>1</th>\n",
       "      <td>Luxury 5 Bedroom Terrace With Private Elevator...</td>\n",
       "      <td>Banana Island Estate Banana Island Ikoyi Lagos</td>\n",
       "      <td>$</td>\n",
       "      <td>2,000,000</td>\n",
       "      <td>1</td>\n",
       "      <td>1</td>\n",
       "      <td>0</td>\n",
       "      <td>5 beds</td>\n",
       "      <td>7 baths</td>\n",
       "      <td>7 Toilets</td>\n",
       "    </tr>\n",
       "    <tr>\n",
       "      <th>2</th>\n",
       "      <td>Luxury 5 Bedroom Triplex Penthouse With Privat...</td>\n",
       "      <td>Banana Island Estate Banana Island Ikoyi Lagos</td>\n",
       "      <td>$</td>\n",
       "      <td>4,000,000</td>\n",
       "      <td>1</td>\n",
       "      <td>1</td>\n",
       "      <td>0</td>\n",
       "      <td>5 beds</td>\n",
       "      <td>8 baths</td>\n",
       "      <td>8 Toilets</td>\n",
       "    </tr>\n",
       "    <tr>\n",
       "      <th>3</th>\n",
       "      <td>5 Bedroom Detached Duplex With 2 Staff Quarter...</td>\n",
       "      <td>Off Cameron Road Ikoyi Lagos</td>\n",
       "      <td>₦</td>\n",
       "      <td>850,000,000</td>\n",
       "      <td>0</td>\n",
       "      <td>0</td>\n",
       "      <td>0</td>\n",
       "      <td>5 beds</td>\n",
       "      <td>8 baths</td>\n",
       "      <td>9 Toilets</td>\n",
       "    </tr>\n",
       "    <tr>\n",
       "      <th>4</th>\n",
       "      <td>Land Size: 1800 Sqm + Waterfront Dry Bareland</td>\n",
       "      <td>Zone Q, Banana Island, Ikoyi Lagos. Banana Isl...</td>\n",
       "      <td>₦</td>\n",
       "      <td>1,200,000/sqm</td>\n",
       "      <td>0</td>\n",
       "      <td>0</td>\n",
       "      <td>0</td>\n",
       "      <td>0 beds</td>\n",
       "      <td>0 baths</td>\n",
       "      <td>0 Toilets</td>\n",
       "    </tr>\n",
       "  </tbody>\n",
       "</table>\n",
       "</div>"
      ],
      "text/plain": [
       "                                               Title  \\\n",
       "0        Newly Built 5 Bedroom Fully Detached Duplex   \n",
       "1  Luxury 5 Bedroom Terrace With Private Elevator...   \n",
       "2  Luxury 5 Bedroom Triplex Penthouse With Privat...   \n",
       "3  5 Bedroom Detached Duplex With 2 Staff Quarter...   \n",
       "4      Land Size: 1800 Sqm + Waterfront Dry Bareland   \n",
       "\n",
       "                                            Location Currency          Price  \\\n",
       "0  Oniru Estate Victoria Island, Awolowo Road Iko...        ₦    250,000,000   \n",
       "1     Banana Island Estate Banana Island Ikoyi Lagos        $      2,000,000   \n",
       "2     Banana Island Estate Banana Island Ikoyi Lagos        $      4,000,000   \n",
       "3                       Off Cameron Road Ikoyi Lagos        ₦    850,000,000   \n",
       "4  Zone Q, Banana Island, Ikoyi Lagos. Banana Isl...        ₦  1,200,000/sqm   \n",
       "\n",
       "   Serviced  Newly Built  Furnished Bedrooms Bathrooms    Toilets  \n",
       "0         1            1          1   5 beds   6 baths  6 Toilets  \n",
       "1         1            1          0   5 beds   7 baths  7 Toilets  \n",
       "2         1            1          0   5 beds   8 baths  8 Toilets  \n",
       "3         0            0          0   5 beds   8 baths  9 Toilets  \n",
       "4         0            0          0   0 beds   0 baths  0 Toilets  "
      ]
     },
     "execution_count": 211,
     "metadata": {},
     "output_type": "execute_result"
    }
   ],
   "source": [
    "ikoyi.head()"
   ]
  },
  {
   "cell_type": "code",
   "execution_count": 212,
   "id": "6c8e3b0c",
   "metadata": {},
   "outputs": [
    {
     "data": {
      "text/plain": [
       "8143    Bourdillon Bourdillon Ikoyi Lagos\n",
       "Name: Location, dtype: object"
      ]
     },
     "execution_count": 212,
     "metadata": {},
     "output_type": "execute_result"
    }
   ],
   "source": [
    "ikoyi[\"Location\"].sample()"
   ]
  },
  {
   "cell_type": "code",
   "execution_count": 213,
   "id": "0c253190",
   "metadata": {},
   "outputs": [],
   "source": [
    "ikoyi[\"Neighborhood1\"] = neighborhood1(ikoyi[\"Location\"])\n",
    "ikoyi[\"Neighborhood2\"] = neighborhood2(ikoyi[\"Location\"])"
   ]
  },
  {
   "cell_type": "code",
   "execution_count": 214,
   "id": "17148d19",
   "metadata": {},
   "outputs": [
    {
     "data": {
      "text/html": [
       "<div>\n",
       "<style scoped>\n",
       "    .dataframe tbody tr th:only-of-type {\n",
       "        vertical-align: middle;\n",
       "    }\n",
       "\n",
       "    .dataframe tbody tr th {\n",
       "        vertical-align: top;\n",
       "    }\n",
       "\n",
       "    .dataframe thead th {\n",
       "        text-align: right;\n",
       "    }\n",
       "</style>\n",
       "<table border=\"1\" class=\"dataframe\">\n",
       "  <thead>\n",
       "    <tr style=\"text-align: right;\">\n",
       "      <th></th>\n",
       "      <th>Neighborhood1</th>\n",
       "      <th>Neighborhood2</th>\n",
       "    </tr>\n",
       "  </thead>\n",
       "  <tbody>\n",
       "    <tr>\n",
       "      <th>0</th>\n",
       "      <td>Road</td>\n",
       "      <td>Awolowo</td>\n",
       "    </tr>\n",
       "    <tr>\n",
       "      <th>1</th>\n",
       "      <td>Island</td>\n",
       "      <td>Banana</td>\n",
       "    </tr>\n",
       "    <tr>\n",
       "      <th>2</th>\n",
       "      <td>Island</td>\n",
       "      <td>Banana</td>\n",
       "    </tr>\n",
       "    <tr>\n",
       "      <th>3</th>\n",
       "      <td>Road</td>\n",
       "      <td>Cameron</td>\n",
       "    </tr>\n",
       "    <tr>\n",
       "      <th>4</th>\n",
       "      <td>Island</td>\n",
       "      <td>Banana</td>\n",
       "    </tr>\n",
       "    <tr>\n",
       "      <th>...</th>\n",
       "      <td>...</td>\n",
       "      <td>...</td>\n",
       "    </tr>\n",
       "    <tr>\n",
       "      <th>9270</th>\n",
       "      <td>Estate</td>\n",
       "      <td>Onikoyi</td>\n",
       "    </tr>\n",
       "    <tr>\n",
       "      <th>9271</th>\n",
       "      <td>Estate</td>\n",
       "      <td>Onikoyi</td>\n",
       "    </tr>\n",
       "    <tr>\n",
       "      <th>9272</th>\n",
       "      <td>Estate</td>\n",
       "      <td>Onikoyi</td>\n",
       "    </tr>\n",
       "    <tr>\n",
       "      <th>9273</th>\n",
       "      <td>Estate</td>\n",
       "      <td>Onikoyi</td>\n",
       "    </tr>\n",
       "    <tr>\n",
       "      <th>9274</th>\n",
       "      <td>Estate</td>\n",
       "      <td>Onikoyi</td>\n",
       "    </tr>\n",
       "  </tbody>\n",
       "</table>\n",
       "<p>9275 rows × 2 columns</p>\n",
       "</div>"
      ],
      "text/plain": [
       "     Neighborhood1 Neighborhood2\n",
       "0             Road       Awolowo\n",
       "1           Island        Banana\n",
       "2           Island        Banana\n",
       "3             Road       Cameron\n",
       "4           Island        Banana\n",
       "...            ...           ...\n",
       "9270        Estate       Onikoyi\n",
       "9271        Estate       Onikoyi\n",
       "9272        Estate       Onikoyi\n",
       "9273        Estate       Onikoyi\n",
       "9274        Estate       Onikoyi\n",
       "\n",
       "[9275 rows x 2 columns]"
      ]
     },
     "execution_count": 214,
     "metadata": {},
     "output_type": "execute_result"
    }
   ],
   "source": [
    "ikoyi[[\"Neighborhood1\", \"Neighborhood2\"]]"
   ]
  },
  {
   "cell_type": "code",
   "execution_count": 215,
   "id": "750144c9",
   "metadata": {},
   "outputs": [],
   "source": [
    "# ikoyi[\"Neighborhood1\"].unique()"
   ]
  },
  {
   "cell_type": "code",
   "execution_count": 216,
   "id": "2f2a2a0f",
   "metadata": {},
   "outputs": [],
   "source": [
    "# ikoyi[\"Neighborhood2\"].unique()"
   ]
  },
  {
   "cell_type": "code",
   "execution_count": 217,
   "id": "e11dd30a",
   "metadata": {},
   "outputs": [],
   "source": [
    "def extract_neigh(feature):\n",
    "    final = {}\n",
    "    for value in feature:\n",
    "        if ('Banana' in value) or ('Island' in value):\n",
    "            final[value] = 'Banana Island'\n",
    "        elif 'Old' in value:\n",
    "            final[value] = 'Old Ikoyi'\n",
    "        elif 'Parkview' in value:\n",
    "            final[value] = 'Parkview'\n",
    "        elif 'Foreshore' in value:\n",
    "            final[value] = 'Foreshore'\n",
    "        elif 'Onikoyi' in value:\n",
    "            final[value] = 'Onikoyi'\n",
    "        else:\n",
    "            final[value] = 'Other Ikoyi'\n",
    "    return final"
   ]
  },
  {
   "cell_type": "code",
   "execution_count": 218,
   "id": "428e2dc7",
   "metadata": {},
   "outputs": [],
   "source": [
    "neighborhood = extract_neigh(ikoyi[\"Neighborhood2\"])"
   ]
  },
  {
   "cell_type": "code",
   "execution_count": 219,
   "id": "12473f7e",
   "metadata": {},
   "outputs": [],
   "source": [
    "ikoyi[\"Neighborhood\"] = ikoyi[\"Neighborhood2\"].map(neighborhood)\n",
    "ikoyi.drop([\"Neighborhood1\", \"Neighborhood2\"], axis=1, inplace=True)"
   ]
  },
  {
   "cell_type": "code",
   "execution_count": 220,
   "id": "37a43cd7",
   "metadata": {},
   "outputs": [
    {
     "data": {
      "text/plain": [
       "Other Ikoyi      35.061995\n",
       "Banana Island    30.630728\n",
       "Old Ikoyi        17.358491\n",
       "Parkview          6.835580\n",
       "Foreshore         6.123989\n",
       "Onikoyi           3.989218\n",
       "Name: Neighborhood, dtype: float64"
      ]
     },
     "execution_count": 220,
     "metadata": {},
     "output_type": "execute_result"
    }
   ],
   "source": [
    "ikoyi[\"Neighborhood\"].value_counts(normalize=True) * 100"
   ]
  },
  {
   "cell_type": "code",
   "execution_count": 221,
   "id": "8d461263",
   "metadata": {},
   "outputs": [],
   "source": [
    "ikoyi.to_csv(\"clean/ikoyi.csv\")"
   ]
  },
  {
   "cell_type": "markdown",
   "id": "1df471b5",
   "metadata": {},
   "source": [
    "# Lekki"
   ]
  },
  {
   "cell_type": "code",
   "execution_count": 222,
   "id": "0af8b918",
   "metadata": {},
   "outputs": [],
   "source": [
    "lekki = pd.read_csv(\"dirty/lekki.csv\")"
   ]
  },
  {
   "cell_type": "code",
   "execution_count": 223,
   "id": "6f6b3a87",
   "metadata": {},
   "outputs": [
    {
     "data": {
      "text/html": [
       "<div>\n",
       "<style scoped>\n",
       "    .dataframe tbody tr th:only-of-type {\n",
       "        vertical-align: middle;\n",
       "    }\n",
       "\n",
       "    .dataframe tbody tr th {\n",
       "        vertical-align: top;\n",
       "    }\n",
       "\n",
       "    .dataframe thead th {\n",
       "        text-align: right;\n",
       "    }\n",
       "</style>\n",
       "<table border=\"1\" class=\"dataframe\">\n",
       "  <thead>\n",
       "    <tr style=\"text-align: right;\">\n",
       "      <th></th>\n",
       "      <th>Title</th>\n",
       "      <th>Location</th>\n",
       "      <th>Currency</th>\n",
       "      <th>Price</th>\n",
       "      <th>Serviced</th>\n",
       "      <th>Newly Built</th>\n",
       "      <th>Furnished</th>\n",
       "      <th>Bedrooms</th>\n",
       "      <th>Bathrooms</th>\n",
       "      <th>Toilets</th>\n",
       "    </tr>\n",
       "  </thead>\n",
       "  <tbody>\n",
       "    <tr>\n",
       "      <th>0</th>\n",
       "      <td>Newly Built 4bedroom Apartment</td>\n",
       "      <td>Emcel Court Along Lafiaja Road Adjacent To Pri...</td>\n",
       "      <td>₦</td>\n",
       "      <td>57,000,000</td>\n",
       "      <td>0</td>\n",
       "      <td>1</td>\n",
       "      <td>0</td>\n",
       "      <td>4 beds</td>\n",
       "      <td>4 baths</td>\n",
       "      <td>5 Toilets</td>\n",
       "    </tr>\n",
       "    <tr>\n",
       "      <th>1</th>\n",
       "      <td>3 Bedroom Maisonette</td>\n",
       "      <td>Lekki Lagos</td>\n",
       "      <td>₦</td>\n",
       "      <td>79,000,000</td>\n",
       "      <td>0</td>\n",
       "      <td>1</td>\n",
       "      <td>0</td>\n",
       "      <td>3 beds</td>\n",
       "      <td>4 baths</td>\n",
       "      <td>4 Toilets</td>\n",
       "    </tr>\n",
       "    <tr>\n",
       "      <th>2</th>\n",
       "      <td>Exquisitely Built 4 Terrace Duplex For With Pr...</td>\n",
       "      <td>Chevron Lekki Lagos</td>\n",
       "      <td>₦</td>\n",
       "      <td>60,000,000</td>\n",
       "      <td>0</td>\n",
       "      <td>1</td>\n",
       "      <td>0</td>\n",
       "      <td>4 beds</td>\n",
       "      <td>4 baths</td>\n",
       "      <td>5 Toilets</td>\n",
       "    </tr>\n",
       "    <tr>\n",
       "      <th>3</th>\n",
       "      <td>Most Affordable 4 Bedroom Detached Duplex For ...</td>\n",
       "      <td>Lekki Conservation Lekki Lagos</td>\n",
       "      <td>₦</td>\n",
       "      <td>85,000,000</td>\n",
       "      <td>0</td>\n",
       "      <td>1</td>\n",
       "      <td>0</td>\n",
       "      <td>4 beds</td>\n",
       "      <td>4 baths</td>\n",
       "      <td>5 Toilets</td>\n",
       "    </tr>\n",
       "    <tr>\n",
       "      <th>4</th>\n",
       "      <td>Brand New 5 Bedroom Semi Detached Duplex</td>\n",
       "      <td>Oral Estate Lekki Lagos</td>\n",
       "      <td>₦</td>\n",
       "      <td>85,000,000</td>\n",
       "      <td>0</td>\n",
       "      <td>1</td>\n",
       "      <td>0</td>\n",
       "      <td>5 beds</td>\n",
       "      <td>5 baths</td>\n",
       "      <td>6 Toilets</td>\n",
       "    </tr>\n",
       "  </tbody>\n",
       "</table>\n",
       "</div>"
      ],
      "text/plain": [
       "                                               Title  \\\n",
       "0                     Newly Built 4bedroom Apartment   \n",
       "1                               3 Bedroom Maisonette   \n",
       "2  Exquisitely Built 4 Terrace Duplex For With Pr...   \n",
       "3  Most Affordable 4 Bedroom Detached Duplex For ...   \n",
       "4           Brand New 5 Bedroom Semi Detached Duplex   \n",
       "\n",
       "                                            Location Currency       Price  \\\n",
       "0  Emcel Court Along Lafiaja Road Adjacent To Pri...        ₦  57,000,000   \n",
       "1                                        Lekki Lagos        ₦  79,000,000   \n",
       "2                                Chevron Lekki Lagos        ₦  60,000,000   \n",
       "3                     Lekki Conservation Lekki Lagos        ₦  85,000,000   \n",
       "4                            Oral Estate Lekki Lagos        ₦  85,000,000   \n",
       "\n",
       "   Serviced  Newly Built  Furnished Bedrooms Bathrooms    Toilets  \n",
       "0         0            1          0   4 beds   4 baths  5 Toilets  \n",
       "1         0            1          0   3 beds   4 baths  4 Toilets  \n",
       "2         0            1          0   4 beds   4 baths  5 Toilets  \n",
       "3         0            1          0   4 beds   4 baths  5 Toilets  \n",
       "4         0            1          0   5 beds   5 baths  6 Toilets  "
      ]
     },
     "execution_count": 223,
     "metadata": {},
     "output_type": "execute_result"
    }
   ],
   "source": [
    "lekki.head()"
   ]
  },
  {
   "cell_type": "code",
   "execution_count": 224,
   "id": "0227d63d",
   "metadata": {},
   "outputs": [
    {
     "data": {
      "text/plain": [
       "14719    Ikate Elegushi Street Ikate Lekki Lagos\n",
       "Name: Location, dtype: object"
      ]
     },
     "execution_count": 224,
     "metadata": {},
     "output_type": "execute_result"
    }
   ],
   "source": [
    "lekki[\"Location\"].sample()"
   ]
  },
  {
   "cell_type": "code",
   "execution_count": 225,
   "id": "ce38c03b",
   "metadata": {},
   "outputs": [],
   "source": [
    "lekki[\"Neighborhood1\"] = neighborhood1(lekki[\"Location\"])\n",
    "lekki[\"Neighborhood2\"] = neighborhood2(lekki[\"Location\"])"
   ]
  },
  {
   "cell_type": "code",
   "execution_count": 226,
   "id": "50812645",
   "metadata": {},
   "outputs": [
    {
     "data": {
      "text/html": [
       "<div>\n",
       "<style scoped>\n",
       "    .dataframe tbody tr th:only-of-type {\n",
       "        vertical-align: middle;\n",
       "    }\n",
       "\n",
       "    .dataframe tbody tr th {\n",
       "        vertical-align: top;\n",
       "    }\n",
       "\n",
       "    .dataframe thead th {\n",
       "        text-align: right;\n",
       "    }\n",
       "</style>\n",
       "<table border=\"1\" class=\"dataframe\">\n",
       "  <thead>\n",
       "    <tr style=\"text-align: right;\">\n",
       "      <th></th>\n",
       "      <th>Neighborhood1</th>\n",
       "      <th>Neighborhood2</th>\n",
       "    </tr>\n",
       "  </thead>\n",
       "  <tbody>\n",
       "    <tr>\n",
       "      <th>0</th>\n",
       "      <td>1</td>\n",
       "      <td>Phase</td>\n",
       "    </tr>\n",
       "    <tr>\n",
       "      <th>1</th>\n",
       "      <td>None</td>\n",
       "      <td>None</td>\n",
       "    </tr>\n",
       "    <tr>\n",
       "      <th>2</th>\n",
       "      <td>Chevron</td>\n",
       "      <td>None</td>\n",
       "    </tr>\n",
       "    <tr>\n",
       "      <th>3</th>\n",
       "      <td>Conservation</td>\n",
       "      <td>Lekki</td>\n",
       "    </tr>\n",
       "    <tr>\n",
       "      <th>4</th>\n",
       "      <td>Estate</td>\n",
       "      <td>Oral</td>\n",
       "    </tr>\n",
       "    <tr>\n",
       "      <th>...</th>\n",
       "      <td>...</td>\n",
       "      <td>...</td>\n",
       "    </tr>\n",
       "    <tr>\n",
       "      <th>45992</th>\n",
       "      <td>Lekki</td>\n",
       "      <td>District,</td>\n",
       "    </tr>\n",
       "    <tr>\n",
       "      <th>45993</th>\n",
       "      <td>Lekki</td>\n",
       "      <td>Estate,</td>\n",
       "    </tr>\n",
       "    <tr>\n",
       "      <th>45994</th>\n",
       "      <td>Lekki</td>\n",
       "      <td>1,</td>\n",
       "    </tr>\n",
       "    <tr>\n",
       "      <th>45995</th>\n",
       "      <td>Lekki</td>\n",
       "      <td>Marwa,</td>\n",
       "    </tr>\n",
       "    <tr>\n",
       "      <th>45996</th>\n",
       "      <td>Estate,</td>\n",
       "      <td>Homes</td>\n",
       "    </tr>\n",
       "  </tbody>\n",
       "</table>\n",
       "<p>45997 rows × 2 columns</p>\n",
       "</div>"
      ],
      "text/plain": [
       "      Neighborhood1 Neighborhood2\n",
       "0                 1         Phase\n",
       "1              None          None\n",
       "2           Chevron          None\n",
       "3      Conservation         Lekki\n",
       "4            Estate          Oral\n",
       "...             ...           ...\n",
       "45992         Lekki     District,\n",
       "45993         Lekki       Estate,\n",
       "45994         Lekki            1,\n",
       "45995         Lekki        Marwa,\n",
       "45996       Estate,         Homes\n",
       "\n",
       "[45997 rows x 2 columns]"
      ]
     },
     "execution_count": 226,
     "metadata": {},
     "output_type": "execute_result"
    }
   ],
   "source": [
    "lekki[[\"Neighborhood1\", \"Neighborhood2\"]]"
   ]
  },
  {
   "cell_type": "code",
   "execution_count": 227,
   "id": "6b6178eb",
   "metadata": {},
   "outputs": [],
   "source": [
    "# lekki[\"Neighvborhood1\"].value_counts()"
   ]
  },
  {
   "cell_type": "code",
   "execution_count": 228,
   "id": "af64bce5",
   "metadata": {},
   "outputs": [],
   "source": [
    "# lekki[\"Neighborhood2\"].unique()"
   ]
  },
  {
   "cell_type": "code",
   "execution_count": 229,
   "id": "e1640478",
   "metadata": {},
   "outputs": [
    {
     "data": {
      "text/html": [
       "<div>\n",
       "<style scoped>\n",
       "    .dataframe tbody tr th:only-of-type {\n",
       "        vertical-align: middle;\n",
       "    }\n",
       "\n",
       "    .dataframe tbody tr th {\n",
       "        vertical-align: top;\n",
       "    }\n",
       "\n",
       "    .dataframe thead th {\n",
       "        text-align: right;\n",
       "    }\n",
       "</style>\n",
       "<table border=\"1\" class=\"dataframe\">\n",
       "  <thead>\n",
       "    <tr style=\"text-align: right;\">\n",
       "      <th></th>\n",
       "      <th>Neighborhood1</th>\n",
       "      <th>Neighborhood2</th>\n",
       "      <th>Location</th>\n",
       "    </tr>\n",
       "  </thead>\n",
       "  <tbody>\n",
       "    <tr>\n",
       "      <th>24</th>\n",
       "      <td>London</td>\n",
       "      <td>Osapa</td>\n",
       "      <td>Osapa London Lekki Lagos</td>\n",
       "    </tr>\n",
       "    <tr>\n",
       "      <th>34</th>\n",
       "      <td>London</td>\n",
       "      <td>Osapa</td>\n",
       "      <td>Osapa London Lekki Lagos</td>\n",
       "    </tr>\n",
       "    <tr>\n",
       "      <th>37</th>\n",
       "      <td>London</td>\n",
       "      <td>Osapa</td>\n",
       "      <td>Osapa Osapa London Lekki Lagos</td>\n",
       "    </tr>\n",
       "    <tr>\n",
       "      <th>38</th>\n",
       "      <td>London</td>\n",
       "      <td>Osapa</td>\n",
       "      <td>Osapa Osapa London Lekki Lagos</td>\n",
       "    </tr>\n",
       "    <tr>\n",
       "      <th>39</th>\n",
       "      <td>London</td>\n",
       "      <td>Osapa</td>\n",
       "      <td>Osapa Osapa London Lekki Lagos</td>\n",
       "    </tr>\n",
       "    <tr>\n",
       "      <th>...</th>\n",
       "      <td>...</td>\n",
       "      <td>...</td>\n",
       "      <td>...</td>\n",
       "    </tr>\n",
       "    <tr>\n",
       "      <th>45497</th>\n",
       "      <td>London</td>\n",
       "      <td>Osapa</td>\n",
       "      <td>Osapa London Osapa London Lekki Lagos</td>\n",
       "    </tr>\n",
       "    <tr>\n",
       "      <th>45508</th>\n",
       "      <td>London</td>\n",
       "      <td>Osapa</td>\n",
       "      <td>Osapa London Osapa London Lekki Lagos</td>\n",
       "    </tr>\n",
       "    <tr>\n",
       "      <th>45540</th>\n",
       "      <td>London</td>\n",
       "      <td>Osapa</td>\n",
       "      <td>Victory Park Estate, By Shoprite Roundabout Os...</td>\n",
       "    </tr>\n",
       "    <tr>\n",
       "      <th>45549</th>\n",
       "      <td>London</td>\n",
       "      <td>Osapa</td>\n",
       "      <td>Chike Mba Street Osapa London Lekki Lagos</td>\n",
       "    </tr>\n",
       "    <tr>\n",
       "      <th>45555</th>\n",
       "      <td>London</td>\n",
       "      <td>Osapa</td>\n",
       "      <td>Pinnock Beach Estate Osapa London Lekki Lagos</td>\n",
       "    </tr>\n",
       "  </tbody>\n",
       "</table>\n",
       "<p>4412 rows × 3 columns</p>\n",
       "</div>"
      ],
      "text/plain": [
       "      Neighborhood1 Neighborhood2  \\\n",
       "24           London         Osapa   \n",
       "34           London         Osapa   \n",
       "37           London         Osapa   \n",
       "38           London         Osapa   \n",
       "39           London         Osapa   \n",
       "...             ...           ...   \n",
       "45497        London         Osapa   \n",
       "45508        London         Osapa   \n",
       "45540        London         Osapa   \n",
       "45549        London         Osapa   \n",
       "45555        London         Osapa   \n",
       "\n",
       "                                                Location  \n",
       "24                              Osapa London Lekki Lagos  \n",
       "34                              Osapa London Lekki Lagos  \n",
       "37                        Osapa Osapa London Lekki Lagos  \n",
       "38                        Osapa Osapa London Lekki Lagos  \n",
       "39                        Osapa Osapa London Lekki Lagos  \n",
       "...                                                  ...  \n",
       "45497              Osapa London Osapa London Lekki Lagos  \n",
       "45508              Osapa London Osapa London Lekki Lagos  \n",
       "45540  Victory Park Estate, By Shoprite Roundabout Os...  \n",
       "45549          Chike Mba Street Osapa London Lekki Lagos  \n",
       "45555      Pinnock Beach Estate Osapa London Lekki Lagos  \n",
       "\n",
       "[4412 rows x 3 columns]"
      ]
     },
     "execution_count": 229,
     "metadata": {},
     "output_type": "execute_result"
    }
   ],
   "source": [
    "lekki[lekki[\"Neighborhood1\"] == \"London\"][[\"Neighborhood1\",\"Neighborhood2\", \"Location\"]]"
   ]
  },
  {
   "cell_type": "code",
   "execution_count": 230,
   "id": "e11dd30a",
   "metadata": {},
   "outputs": [],
   "source": [
    "def extract_neigh(feature):\n",
    "    final = {}\n",
    "    for value in feature:\n",
    "        if 'chevron' in value.lower():\n",
    "            final[value] = 'Chevron'\n",
    "        elif '2' in value:\n",
    "            final[value] = 'Lekki Phase 2'\n",
    "        elif '1' in value:\n",
    "            final[value] = 'Lekki Phase 1'\n",
    "        elif 'Ikota' in value:\n",
    "            final[value] = 'Ikota'\n",
    "        elif 'Ikate' in value:\n",
    "            final[value] = 'Ikate'\n",
    "        elif 'Agungi' in value:\n",
    "            final[value] = 'Agungi'\n",
    "        elif 'Ologolo' in value:\n",
    "            final[value] = 'Ologolo'\n",
    "        elif 'Vgc' in value:\n",
    "            final[value] = 'Victoria Garden City'\n",
    "        elif ('London' in value) or ('Osapa' in value):\n",
    "            final[value] = 'Osapa London'\n",
    "        else:\n",
    "            final[value] = 'Other Lekki'\n",
    "    return final"
   ]
  },
  {
   "cell_type": "code",
   "execution_count": 231,
   "id": "428e2dc7",
   "metadata": {},
   "outputs": [],
   "source": [
    "neighborhood = extract_neigh(lekki[\"Neighborhood1\"])"
   ]
  },
  {
   "cell_type": "code",
   "execution_count": 232,
   "id": "6b1d3244",
   "metadata": {},
   "outputs": [],
   "source": [
    "lekki[\"Neighborhood\"] = lekki[\"Neighborhood1\"].map(neighborhood)\n",
    "lekki.drop([\"Neighborhood1\", \"Neighborhood2\"], axis=1, inplace=True)"
   ]
  },
  {
   "cell_type": "code",
   "execution_count": 233,
   "id": "e5ba40af",
   "metadata": {},
   "outputs": [
    {
     "data": {
      "text/plain": [
       "Other Lekki             18.844707\n",
       "Chevron                 16.468465\n",
       "Lekki Phase 1           16.392373\n",
       "Ikota                   13.670457\n",
       "Ikate                   11.457269\n",
       "Osapa London             9.768028\n",
       "Lekki Phase 2            4.650303\n",
       "Agungi                   3.428484\n",
       "Ologolo                  2.671913\n",
       "Victoria Garden City     2.647999\n",
       "Name: Neighborhood, dtype: float64"
      ]
     },
     "execution_count": 233,
     "metadata": {},
     "output_type": "execute_result"
    }
   ],
   "source": [
    "lekki[\"Neighborhood\"].value_counts(normalize=True) * 100"
   ]
  },
  {
   "cell_type": "code",
   "execution_count": 234,
   "id": "777a4dca",
   "metadata": {},
   "outputs": [],
   "source": [
    "lekki.to_csv(\"clean/lekki.csv\")"
   ]
  },
  {
   "cell_type": "markdown",
   "id": "7f5ac447",
   "metadata": {},
   "source": [
    "# Victoria Island"
   ]
  },
  {
   "cell_type": "code",
   "execution_count": 235,
   "id": "3fb67304",
   "metadata": {},
   "outputs": [],
   "source": [
    "island = pd.read_csv(\"dirty/vi.csv\")"
   ]
  },
  {
   "cell_type": "code",
   "execution_count": 236,
   "id": "79aff409",
   "metadata": {},
   "outputs": [
    {
     "data": {
      "text/html": [
       "<div>\n",
       "<style scoped>\n",
       "    .dataframe tbody tr th:only-of-type {\n",
       "        vertical-align: middle;\n",
       "    }\n",
       "\n",
       "    .dataframe tbody tr th {\n",
       "        vertical-align: top;\n",
       "    }\n",
       "\n",
       "    .dataframe thead th {\n",
       "        text-align: right;\n",
       "    }\n",
       "</style>\n",
       "<table border=\"1\" class=\"dataframe\">\n",
       "  <thead>\n",
       "    <tr style=\"text-align: right;\">\n",
       "      <th></th>\n",
       "      <th>Title</th>\n",
       "      <th>Location</th>\n",
       "      <th>Currency</th>\n",
       "      <th>Price</th>\n",
       "      <th>Serviced</th>\n",
       "      <th>Newly Built</th>\n",
       "      <th>Furnished</th>\n",
       "      <th>Bedrooms</th>\n",
       "      <th>Bathrooms</th>\n",
       "      <th>Toilets</th>\n",
       "    </tr>\n",
       "  </thead>\n",
       "  <tbody>\n",
       "    <tr>\n",
       "      <th>0</th>\n",
       "      <td>Luxury 3 Bedroom Apartment With Excellent Fini...</td>\n",
       "      <td>Off Ligali Ayorinde Victoria Island Lagos</td>\n",
       "      <td>₦</td>\n",
       "      <td>125,000,000</td>\n",
       "      <td>1</td>\n",
       "      <td>1</td>\n",
       "      <td>0</td>\n",
       "      <td>3 beds</td>\n",
       "      <td>3 baths</td>\n",
       "      <td>4 Toilets</td>\n",
       "    </tr>\n",
       "    <tr>\n",
       "      <th>1</th>\n",
       "      <td>Ultra Luxury 3 Bedroom Apartment</td>\n",
       "      <td>Victoria Island Victoria Island Extension Vict...</td>\n",
       "      <td>₦</td>\n",
       "      <td>180,000,000</td>\n",
       "      <td>1</td>\n",
       "      <td>1</td>\n",
       "      <td>0</td>\n",
       "      <td>3 beds</td>\n",
       "      <td>4 baths</td>\n",
       "      <td>4 Toilets</td>\n",
       "    </tr>\n",
       "    <tr>\n",
       "      <th>2</th>\n",
       "      <td>Luxury 2 Bedrooms Apartment With Bq</td>\n",
       "      <td>Victoria Island Victoria Island Extension Vict...</td>\n",
       "      <td>₦</td>\n",
       "      <td>120,000,000</td>\n",
       "      <td>1</td>\n",
       "      <td>1</td>\n",
       "      <td>0</td>\n",
       "      <td>2 beds</td>\n",
       "      <td>4 baths</td>\n",
       "      <td>3 Toilets</td>\n",
       "    </tr>\n",
       "    <tr>\n",
       "      <th>3</th>\n",
       "      <td>Brand New Specious Luxury 6 Bedroom Fully Deta...</td>\n",
       "      <td>Victoria Island Adeola Odeku Victoria Island L...</td>\n",
       "      <td>₦</td>\n",
       "      <td>590,000,000</td>\n",
       "      <td>0</td>\n",
       "      <td>1</td>\n",
       "      <td>0</td>\n",
       "      <td>6 beds</td>\n",
       "      <td>6 baths</td>\n",
       "      <td>7 Toilets</td>\n",
       "    </tr>\n",
       "    <tr>\n",
       "      <th>4</th>\n",
       "      <td>Exquisite 3bedroom Apartment</td>\n",
       "      <td>Oniru Victoria Island Lagos</td>\n",
       "      <td>₦</td>\n",
       "      <td>150,000,000</td>\n",
       "      <td>0</td>\n",
       "      <td>1</td>\n",
       "      <td>0</td>\n",
       "      <td>3 beds</td>\n",
       "      <td>3 baths</td>\n",
       "      <td>4 Toilets</td>\n",
       "    </tr>\n",
       "  </tbody>\n",
       "</table>\n",
       "</div>"
      ],
      "text/plain": [
       "                                               Title  \\\n",
       "0  Luxury 3 Bedroom Apartment With Excellent Fini...   \n",
       "1                   Ultra Luxury 3 Bedroom Apartment   \n",
       "2                Luxury 2 Bedrooms Apartment With Bq   \n",
       "3  Brand New Specious Luxury 6 Bedroom Fully Deta...   \n",
       "4                       Exquisite 3bedroom Apartment   \n",
       "\n",
       "                                            Location Currency        Price  \\\n",
       "0          Off Ligali Ayorinde Victoria Island Lagos        ₦  125,000,000   \n",
       "1  Victoria Island Victoria Island Extension Vict...        ₦  180,000,000   \n",
       "2  Victoria Island Victoria Island Extension Vict...        ₦  120,000,000   \n",
       "3  Victoria Island Adeola Odeku Victoria Island L...        ₦  590,000,000   \n",
       "4                        Oniru Victoria Island Lagos        ₦  150,000,000   \n",
       "\n",
       "   Serviced  Newly Built  Furnished Bedrooms Bathrooms    Toilets  \n",
       "0         1            1          0   3 beds   3 baths  4 Toilets  \n",
       "1         1            1          0   3 beds   4 baths  4 Toilets  \n",
       "2         1            1          0   2 beds   4 baths  3 Toilets  \n",
       "3         0            1          0   6 beds   6 baths  7 Toilets  \n",
       "4         0            1          0   3 beds   3 baths  4 Toilets  "
      ]
     },
     "execution_count": 236,
     "metadata": {},
     "output_type": "execute_result"
    }
   ],
   "source": [
    "island.head()"
   ]
  },
  {
   "cell_type": "code",
   "execution_count": 237,
   "id": "ff045729",
   "metadata": {},
   "outputs": [
    {
     "data": {
      "text/plain": [
       "1132    Oniru Victoria Island Oniru Victoria Island Lagos\n",
       "Name: Location, dtype: object"
      ]
     },
     "execution_count": 237,
     "metadata": {},
     "output_type": "execute_result"
    }
   ],
   "source": [
    "island[\"Location\"].sample()"
   ]
  },
  {
   "cell_type": "code",
   "execution_count": 238,
   "id": "96f60902",
   "metadata": {},
   "outputs": [],
   "source": [
    "island[\"Neighborhood1\"] = neighborhood1(island[\"Location\"])\n",
    "island[\"Neighborhood2\"] = neighborhood2(island[\"Location\"])"
   ]
  },
  {
   "cell_type": "code",
   "execution_count": 239,
   "id": "a376e7b0",
   "metadata": {},
   "outputs": [
    {
     "data": {
      "text/html": [
       "<div>\n",
       "<style scoped>\n",
       "    .dataframe tbody tr th:only-of-type {\n",
       "        vertical-align: middle;\n",
       "    }\n",
       "\n",
       "    .dataframe tbody tr th {\n",
       "        vertical-align: top;\n",
       "    }\n",
       "\n",
       "    .dataframe thead th {\n",
       "        text-align: right;\n",
       "    }\n",
       "</style>\n",
       "<table border=\"1\" class=\"dataframe\">\n",
       "  <thead>\n",
       "    <tr style=\"text-align: right;\">\n",
       "      <th></th>\n",
       "      <th>Neighborhood1</th>\n",
       "      <th>Neighborhood2</th>\n",
       "    </tr>\n",
       "  </thead>\n",
       "  <tbody>\n",
       "    <tr>\n",
       "      <th>0</th>\n",
       "      <td>Victoria</td>\n",
       "      <td>Ayorinde</td>\n",
       "    </tr>\n",
       "    <tr>\n",
       "      <th>1</th>\n",
       "      <td>Victoria</td>\n",
       "      <td>Extension</td>\n",
       "    </tr>\n",
       "    <tr>\n",
       "      <th>2</th>\n",
       "      <td>Victoria</td>\n",
       "      <td>Extension</td>\n",
       "    </tr>\n",
       "    <tr>\n",
       "      <th>3</th>\n",
       "      <td>Victoria</td>\n",
       "      <td>Odeku</td>\n",
       "    </tr>\n",
       "    <tr>\n",
       "      <th>4</th>\n",
       "      <td>Victoria</td>\n",
       "      <td>Oniru</td>\n",
       "    </tr>\n",
       "    <tr>\n",
       "      <th>...</th>\n",
       "      <td>...</td>\n",
       "      <td>...</td>\n",
       "    </tr>\n",
       "    <tr>\n",
       "      <th>4453</th>\n",
       "      <td>Victoria</td>\n",
       "      <td>Island</td>\n",
       "    </tr>\n",
       "    <tr>\n",
       "      <th>4454</th>\n",
       "      <td>Victoria</td>\n",
       "      <td>Island</td>\n",
       "    </tr>\n",
       "    <tr>\n",
       "      <th>4455</th>\n",
       "      <td>Victoria</td>\n",
       "      <td>Lagos</td>\n",
       "    </tr>\n",
       "    <tr>\n",
       "      <th>4456</th>\n",
       "      <td>Victoria</td>\n",
       "      <td>Island</td>\n",
       "    </tr>\n",
       "    <tr>\n",
       "      <th>4457</th>\n",
       "      <td>Victoria</td>\n",
       "      <td>Island</td>\n",
       "    </tr>\n",
       "  </tbody>\n",
       "</table>\n",
       "<p>4458 rows × 2 columns</p>\n",
       "</div>"
      ],
      "text/plain": [
       "     Neighborhood1 Neighborhood2\n",
       "0         Victoria      Ayorinde\n",
       "1         Victoria     Extension\n",
       "2         Victoria     Extension\n",
       "3         Victoria         Odeku\n",
       "4         Victoria         Oniru\n",
       "...            ...           ...\n",
       "4453      Victoria        Island\n",
       "4454      Victoria        Island\n",
       "4455      Victoria         Lagos\n",
       "4456      Victoria        Island\n",
       "4457      Victoria        Island\n",
       "\n",
       "[4458 rows x 2 columns]"
      ]
     },
     "execution_count": 239,
     "metadata": {},
     "output_type": "execute_result"
    }
   ],
   "source": [
    "island[[\"Neighborhood1\", \"Neighborhood2\"]]"
   ]
  },
  {
   "cell_type": "code",
   "execution_count": 240,
   "id": "78b70fdf",
   "metadata": {},
   "outputs": [],
   "source": [
    "# island[\"Neighborhood1\"].unique()"
   ]
  },
  {
   "cell_type": "code",
   "execution_count": 241,
   "id": "009875b2",
   "metadata": {},
   "outputs": [],
   "source": [
    "# island[\"Neighborhood2\"].value_counts(normalize=True).head(30)"
   ]
  },
  {
   "cell_type": "code",
   "execution_count": 242,
   "id": "f3f0c03d",
   "metadata": {},
   "outputs": [
    {
     "data": {
      "text/html": [
       "<div>\n",
       "<style scoped>\n",
       "    .dataframe tbody tr th:only-of-type {\n",
       "        vertical-align: middle;\n",
       "    }\n",
       "\n",
       "    .dataframe tbody tr th {\n",
       "        vertical-align: top;\n",
       "    }\n",
       "\n",
       "    .dataframe thead th {\n",
       "        text-align: right;\n",
       "    }\n",
       "</style>\n",
       "<table border=\"1\" class=\"dataframe\">\n",
       "  <thead>\n",
       "    <tr style=\"text-align: right;\">\n",
       "      <th></th>\n",
       "      <th>Neighborhood1</th>\n",
       "      <th>Neighborhood2</th>\n",
       "      <th>Location</th>\n",
       "    </tr>\n",
       "  </thead>\n",
       "  <tbody>\n",
       "    <tr>\n",
       "      <th>5</th>\n",
       "      <td>Victoria</td>\n",
       "      <td>1004</td>\n",
       "      <td>Cluster D1 1004 Victoria Island Lagos</td>\n",
       "    </tr>\n",
       "    <tr>\n",
       "      <th>135</th>\n",
       "      <td>Victoria</td>\n",
       "      <td>1004</td>\n",
       "      <td>1004 Victoria Island Lagos</td>\n",
       "    </tr>\n",
       "    <tr>\n",
       "      <th>159</th>\n",
       "      <td>Victoria</td>\n",
       "      <td>1004</td>\n",
       "      <td>1004 Victoria Island Lagos</td>\n",
       "    </tr>\n",
       "    <tr>\n",
       "      <th>220</th>\n",
       "      <td>Victoria</td>\n",
       "      <td>1004</td>\n",
       "      <td>1004 Victoria Island Lagos</td>\n",
       "    </tr>\n",
       "    <tr>\n",
       "      <th>390</th>\n",
       "      <td>Victoria</td>\n",
       "      <td>1004</td>\n",
       "      <td>Cluster C6 1004 Victoria Island 1004 Victoria ...</td>\n",
       "    </tr>\n",
       "    <tr>\n",
       "      <th>...</th>\n",
       "      <td>...</td>\n",
       "      <td>...</td>\n",
       "      <td>...</td>\n",
       "    </tr>\n",
       "    <tr>\n",
       "      <th>4009</th>\n",
       "      <td>Victoria</td>\n",
       "      <td>1004</td>\n",
       "      <td>Ozumba Nbadiwe 1004 Victoria Island Lagos</td>\n",
       "    </tr>\n",
       "    <tr>\n",
       "      <th>4138</th>\n",
       "      <td>Victoria</td>\n",
       "      <td>1004</td>\n",
       "      <td>Ademola Adetokunbo 1004 Victoria Island Lagos</td>\n",
       "    </tr>\n",
       "    <tr>\n",
       "      <th>4286</th>\n",
       "      <td>Victoria</td>\n",
       "      <td>1004</td>\n",
       "      <td>1004 Estate Victoria Island Lagos 1004 Victori...</td>\n",
       "    </tr>\n",
       "    <tr>\n",
       "      <th>4296</th>\n",
       "      <td>Victoria</td>\n",
       "      <td>1004</td>\n",
       "      <td>Muri Okunola,v.i 1004 Victoria Island Lagos</td>\n",
       "    </tr>\n",
       "    <tr>\n",
       "      <th>4350</th>\n",
       "      <td>Victoria</td>\n",
       "      <td>1004</td>\n",
       "      <td>Ozumba Mbadiwe 1004 Victoria Island Lagos</td>\n",
       "    </tr>\n",
       "  </tbody>\n",
       "</table>\n",
       "<p>80 rows × 3 columns</p>\n",
       "</div>"
      ],
      "text/plain": [
       "     Neighborhood1 Neighborhood2  \\\n",
       "5         Victoria          1004   \n",
       "135       Victoria          1004   \n",
       "159       Victoria          1004   \n",
       "220       Victoria          1004   \n",
       "390       Victoria          1004   \n",
       "...            ...           ...   \n",
       "4009      Victoria          1004   \n",
       "4138      Victoria          1004   \n",
       "4286      Victoria          1004   \n",
       "4296      Victoria          1004   \n",
       "4350      Victoria          1004   \n",
       "\n",
       "                                               Location  \n",
       "5                 Cluster D1 1004 Victoria Island Lagos  \n",
       "135                          1004 Victoria Island Lagos  \n",
       "159                          1004 Victoria Island Lagos  \n",
       "220                          1004 Victoria Island Lagos  \n",
       "390   Cluster C6 1004 Victoria Island 1004 Victoria ...  \n",
       "...                                                 ...  \n",
       "4009          Ozumba Nbadiwe 1004 Victoria Island Lagos  \n",
       "4138      Ademola Adetokunbo 1004 Victoria Island Lagos  \n",
       "4286  1004 Estate Victoria Island Lagos 1004 Victori...  \n",
       "4296        Muri Okunola,v.i 1004 Victoria Island Lagos  \n",
       "4350          Ozumba Mbadiwe 1004 Victoria Island Lagos  \n",
       "\n",
       "[80 rows x 3 columns]"
      ]
     },
     "execution_count": 242,
     "metadata": {},
     "output_type": "execute_result"
    }
   ],
   "source": [
    "island[island[\"Neighborhood2\"] == \"1004\"][[\"Neighborhood1\",\"Neighborhood2\", \"Location\"]]"
   ]
  },
  {
   "cell_type": "code",
   "execution_count": 243,
   "id": "e11dd30a",
   "metadata": {},
   "outputs": [],
   "source": [
    "def extract_neigh(feature):\n",
    "    final = {}\n",
    "    for value in feature:\n",
    "        if 'oniru' in value.lower():\n",
    "            final[value] = 'Oniru'\n",
    "        elif 'Extension' in value:\n",
    "            final[value] = 'Victoria Island Extension'\n",
    "        elif 'Odeku' in value:\n",
    "            final[value] = 'Waziri Adeola Odeku'\n",
    "        else:\n",
    "            final[value] = 'Other Victoria Island'\n",
    "    return final"
   ]
  },
  {
   "cell_type": "code",
   "execution_count": 244,
   "id": "428e2dc7",
   "metadata": {},
   "outputs": [],
   "source": [
    "neighborhood = extract_neigh(island[\"Neighborhood2\"])"
   ]
  },
  {
   "cell_type": "code",
   "execution_count": 245,
   "id": "631a53a6",
   "metadata": {},
   "outputs": [],
   "source": [
    "island[\"Neighborhood\"] = island[\"Neighborhood2\"].map(neighborhood)\n",
    "island.drop([\"Neighborhood1\", \"Neighborhood2\"], axis=1, inplace=True)"
   ]
  },
  {
   "cell_type": "code",
   "execution_count": 246,
   "id": "655e75a2",
   "metadata": {},
   "outputs": [
    {
     "data": {
      "text/plain": [
       "Other Victoria Island        47.846568\n",
       "Oniru                        36.316734\n",
       "Victoria Island Extension    11.148497\n",
       "Waziri Adeola Odeku           4.688201\n",
       "Name: Neighborhood, dtype: float64"
      ]
     },
     "execution_count": 246,
     "metadata": {},
     "output_type": "execute_result"
    }
   ],
   "source": [
    "island[\"Neighborhood\"].value_counts(normalize=True) * 100"
   ]
  },
  {
   "cell_type": "code",
   "execution_count": 247,
   "id": "2efae4fc",
   "metadata": {},
   "outputs": [],
   "source": [
    "island.to_csv(\"clean/vi.csv\")"
   ]
  }
 ],
 "metadata": {
  "kernelspec": {
   "display_name": "Python 3.9.12 ('base')",
   "language": "python",
   "name": "python3"
  },
  "language_info": {
   "codemirror_mode": {
    "name": "ipython",
    "version": 3
   },
   "file_extension": ".py",
   "mimetype": "text/x-python",
   "name": "python",
   "nbconvert_exporter": "python",
   "pygments_lexer": "ipython3",
   "version": "3.9.12"
  },
  "toc": {
   "base_numbering": 1,
   "nav_menu": {},
   "number_sections": true,
   "sideBar": true,
   "skip_h1_title": false,
   "title_cell": "Table of Contents",
   "title_sidebar": "Contents",
   "toc_cell": false,
   "toc_position": {
    "height": "calc(100% - 180px)",
    "left": "10px",
    "top": "150px",
    "width": "290.909px"
   },
   "toc_section_display": true,
   "toc_window_display": false
  },
  "vscode": {
   "interpreter": {
    "hash": "397fa5c989aefacd265b089cd9fa90a007575229207dba4eead3a1aa550249df"
   }
  }
 },
 "nbformat": 4,
 "nbformat_minor": 5
}
