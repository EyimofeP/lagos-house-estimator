{
 "cells": [
  {
   "cell_type": "markdown",
   "metadata": {},
   "source": [
    "# Dataset Concantenator\n",
    "   \n",
    "Here we are concantenating (adding row by row) our  various datasets into one main data set that we will use in my project"
   ]
  },
  {
   "cell_type": "code",
   "execution_count": 10,
   "metadata": {},
   "outputs": [],
   "source": [
    "import pandas as pd "
   ]
  },
  {
   "cell_type": "code",
   "execution_count": 11,
   "metadata": {},
   "outputs": [],
   "source": [
    "ikeja = pd.read_csv(\"clean/ikeja.csv\")"
   ]
  },
  {
   "cell_type": "code",
   "execution_count": 12,
   "metadata": {},
   "outputs": [],
   "source": [
    "ikoyi = pd.read_csv(\"clean/ikoyi.csv\")"
   ]
  },
  {
   "cell_type": "code",
   "execution_count": 13,
   "metadata": {},
   "outputs": [],
   "source": [
    "lekki = pd.read_csv(\"clean/lekki.csv\")"
   ]
  },
  {
   "cell_type": "code",
   "execution_count": 14,
   "metadata": {},
   "outputs": [],
   "source": [
    "victoria = pd.read_csv(\"clean/vi.csv\")"
   ]
  },
  {
   "cell_type": "code",
   "execution_count": 15,
   "metadata": {},
   "outputs": [],
   "source": [
    "lagos = pd.concat([ikeja, ikoyi, lekki, victoria])"
   ]
  },
  {
   "cell_type": "code",
   "execution_count": 16,
   "metadata": {},
   "outputs": [
    {
     "name": "stdout",
     "output_type": "stream",
     "text": [
      "<class 'pandas.core.frame.DataFrame'>\n",
      "Int64Index: 66383 entries, 0 to 4457\n",
      "Data columns (total 12 columns):\n",
      " #   Column        Non-Null Count  Dtype \n",
      "---  ------        --------------  ----- \n",
      " 0   Unnamed: 0    66383 non-null  int64 \n",
      " 1   Title         66382 non-null  object\n",
      " 2   Location      66383 non-null  object\n",
      " 3   Currency      66383 non-null  object\n",
      " 4   Price         66383 non-null  object\n",
      " 5   Serviced      66383 non-null  int64 \n",
      " 6   Newly Built   66383 non-null  int64 \n",
      " 7   Furnished     66383 non-null  int64 \n",
      " 8   Bedrooms      66383 non-null  object\n",
      " 9   Bathrooms     66383 non-null  object\n",
      " 10  Toilets       66383 non-null  object\n",
      " 11  Neighborhood  66383 non-null  object\n",
      "dtypes: int64(4), object(8)\n",
      "memory usage: 6.6+ MB\n"
     ]
    }
   ],
   "source": [
    "lagos.info()"
   ]
  },
  {
   "cell_type": "code",
   "execution_count": 17,
   "id": "ba9aaf22",
   "metadata": {},
   "outputs": [],
   "source": [
    "lagos.drop('Unnamed: 0', axis=1, inplace=True)"
   ]
  },
  {
   "cell_type": "code",
   "execution_count": 18,
   "metadata": {},
   "outputs": [],
   "source": [
    "lagos.to_csv(\"clean/lagos.csv\", index=False)"
   ]
  }
 ],
 "metadata": {
  "kernelspec": {
   "display_name": "Python 3.9.12 ('base')",
   "language": "python",
   "name": "python3"
  },
  "language_info": {
   "codemirror_mode": {
    "name": "ipython",
    "version": 3
   },
   "file_extension": ".py",
   "mimetype": "text/x-python",
   "name": "python",
   "nbconvert_exporter": "python",
   "pygments_lexer": "ipython3",
   "version": "3.9.12"
  },
  "toc": {
   "base_numbering": 1,
   "nav_menu": {},
   "number_sections": true,
   "sideBar": true,
   "skip_h1_title": false,
   "title_cell": "Table of Contents",
   "title_sidebar": "Contents",
   "toc_cell": false,
   "toc_position": {},
   "toc_section_display": true,
   "toc_window_display": false
  },
  "vscode": {
   "interpreter": {
    "hash": "397fa5c989aefacd265b089cd9fa90a007575229207dba4eead3a1aa550249df"
   }
  }
 },
 "nbformat": 4,
 "nbformat_minor": 5
}
