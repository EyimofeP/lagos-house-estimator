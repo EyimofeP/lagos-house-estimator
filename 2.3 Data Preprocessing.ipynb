{
 "cells": [
  {
   "cell_type": "markdown",
   "metadata": {},
   "source": [
    "# Data Preprocessing"
   ]
  },
  {
   "cell_type": "markdown",
   "id": "0211fced",
   "metadata": {},
   "source": [
    "## Import Libraries and Dataset"
   ]
  },
  {
   "cell_type": "markdown",
   "metadata": {},
   "source": [
    "We first would import the necessary libraries we need at the moment, we will import others as when they are needed"
   ]
  },
  {
   "cell_type": "code",
   "execution_count": 68,
   "id": "3410fac8",
   "metadata": {},
   "outputs": [],
   "source": [
    "import pandas as pd # for data manipulation\n",
    "import joblib # for saving tools"
   ]
  },
  {
   "cell_type": "markdown",
   "id": "79ead21d",
   "metadata": {},
   "source": [
    "Import dataset"
   ]
  },
  {
   "cell_type": "code",
   "execution_count": 69,
   "id": "9412bf95",
   "metadata": {},
   "outputs": [],
   "source": [
    "lagos = pd.read_csv(\"clean/lagos.csv\")"
   ]
  },
  {
   "cell_type": "code",
   "execution_count": 70,
   "id": "6a8d7e18",
   "metadata": {},
   "outputs": [
    {
     "data": {
      "text/html": [
       "<div>\n",
       "<style scoped>\n",
       "    .dataframe tbody tr th:only-of-type {\n",
       "        vertical-align: middle;\n",
       "    }\n",
       "\n",
       "    .dataframe tbody tr th {\n",
       "        vertical-align: top;\n",
       "    }\n",
       "\n",
       "    .dataframe thead th {\n",
       "        text-align: right;\n",
       "    }\n",
       "</style>\n",
       "<table border=\"1\" class=\"dataframe\">\n",
       "  <thead>\n",
       "    <tr style=\"text-align: right;\">\n",
       "      <th></th>\n",
       "      <th>Title</th>\n",
       "      <th>Location</th>\n",
       "      <th>Currency</th>\n",
       "      <th>Price</th>\n",
       "      <th>Serviced</th>\n",
       "      <th>Newly Built</th>\n",
       "      <th>Furnished</th>\n",
       "      <th>Bedrooms</th>\n",
       "      <th>Bathrooms</th>\n",
       "      <th>Toilets</th>\n",
       "      <th>Neighborhood</th>\n",
       "    </tr>\n",
       "  </thead>\n",
       "  <tbody>\n",
       "    <tr>\n",
       "      <th>0</th>\n",
       "      <td>Shops</td>\n",
       "      <td>Allen Avenue Roundabout Allen Avenue Ikeja Lagos</td>\n",
       "      <td>₦</td>\n",
       "      <td>750,000/sqm</td>\n",
       "      <td>1</td>\n",
       "      <td>0</td>\n",
       "      <td>0</td>\n",
       "      <td>0 beds</td>\n",
       "      <td>0 baths</td>\n",
       "      <td>0 Toilets</td>\n",
       "      <td>Allen Avenue</td>\n",
       "    </tr>\n",
       "    <tr>\n",
       "      <th>1</th>\n",
       "      <td>Newly Built 5 Bedrooms Detached Triplex</td>\n",
       "      <td>Eso Close, Off Oduduwa Crescent, Gra Ikeja, La...</td>\n",
       "      <td>₦</td>\n",
       "      <td>280,000,000/year</td>\n",
       "      <td>0</td>\n",
       "      <td>1</td>\n",
       "      <td>0</td>\n",
       "      <td>5 beds</td>\n",
       "      <td>5 baths</td>\n",
       "      <td>6 Toilets</td>\n",
       "      <td>GRA</td>\n",
       "    </tr>\n",
       "    <tr>\n",
       "      <th>2</th>\n",
       "      <td>1800m2 Land</td>\n",
       "      <td>Off Adedayo Banjo Street Opebi Ikeja Lagos</td>\n",
       "      <td>₦</td>\n",
       "      <td>220,000,000</td>\n",
       "      <td>0</td>\n",
       "      <td>0</td>\n",
       "      <td>0</td>\n",
       "      <td>0 beds</td>\n",
       "      <td>0 baths</td>\n",
       "      <td>0 Toilets</td>\n",
       "      <td>Opebi</td>\n",
       "    </tr>\n",
       "    <tr>\n",
       "      <th>3</th>\n",
       "      <td>5 Bedroom Fully Detached Duplex</td>\n",
       "      <td>Magodo Ikeja Lagos</td>\n",
       "      <td>₦</td>\n",
       "      <td>300,000,000</td>\n",
       "      <td>0</td>\n",
       "      <td>1</td>\n",
       "      <td>0</td>\n",
       "      <td>5 beds</td>\n",
       "      <td>6 baths</td>\n",
       "      <td>6 Toilets</td>\n",
       "      <td>Other Ikeja</td>\n",
       "    </tr>\n",
       "    <tr>\n",
       "      <th>4</th>\n",
       "      <td>Luxury Built 4bedroom Fully Detached Duplex</td>\n",
       "      <td>Ikeja Lagos</td>\n",
       "      <td>₦</td>\n",
       "      <td>295,000,000</td>\n",
       "      <td>1</td>\n",
       "      <td>1</td>\n",
       "      <td>0</td>\n",
       "      <td>4 beds</td>\n",
       "      <td>5 baths</td>\n",
       "      <td>5 Toilets</td>\n",
       "      <td>Other Ikeja</td>\n",
       "    </tr>\n",
       "  </tbody>\n",
       "</table>\n",
       "</div>"
      ],
      "text/plain": [
       "                                         Title  \\\n",
       "0                                        Shops   \n",
       "1      Newly Built 5 Bedrooms Detached Triplex   \n",
       "2                                  1800m2 Land   \n",
       "3              5 Bedroom Fully Detached Duplex   \n",
       "4  Luxury Built 4bedroom Fully Detached Duplex   \n",
       "\n",
       "                                            Location Currency  \\\n",
       "0   Allen Avenue Roundabout Allen Avenue Ikeja Lagos        ₦   \n",
       "1  Eso Close, Off Oduduwa Crescent, Gra Ikeja, La...        ₦   \n",
       "2         Off Adedayo Banjo Street Opebi Ikeja Lagos        ₦   \n",
       "3                                 Magodo Ikeja Lagos        ₦   \n",
       "4                                        Ikeja Lagos        ₦   \n",
       "\n",
       "              Price  Serviced  Newly Built  Furnished Bedrooms Bathrooms  \\\n",
       "0       750,000/sqm         1            0          0   0 beds   0 baths   \n",
       "1  280,000,000/year         0            1          0   5 beds   5 baths   \n",
       "2       220,000,000         0            0          0   0 beds   0 baths   \n",
       "3       300,000,000         0            1          0   5 beds   6 baths   \n",
       "4       295,000,000         1            1          0   4 beds   5 baths   \n",
       "\n",
       "     Toilets  Neighborhood  \n",
       "0  0 Toilets  Allen Avenue  \n",
       "1  6 Toilets           GRA  \n",
       "2  0 Toilets         Opebi  \n",
       "3  6 Toilets   Other Ikeja  \n",
       "4  5 Toilets   Other Ikeja  "
      ]
     },
     "execution_count": 70,
     "metadata": {},
     "output_type": "execute_result"
    }
   ],
   "source": [
    "# show first 5 rows\n",
    "lagos.head()"
   ]
  },
  {
   "cell_type": "code",
   "execution_count": 71,
   "id": "a520021c",
   "metadata": {},
   "outputs": [
    {
     "name": "stdout",
     "output_type": "stream",
     "text": [
      "<class 'pandas.core.frame.DataFrame'>\n",
      "RangeIndex: 66383 entries, 0 to 66382\n",
      "Data columns (total 11 columns):\n",
      " #   Column        Non-Null Count  Dtype \n",
      "---  ------        --------------  ----- \n",
      " 0   Title         66382 non-null  object\n",
      " 1   Location      66383 non-null  object\n",
      " 2   Currency      66383 non-null  object\n",
      " 3   Price         66383 non-null  object\n",
      " 4   Serviced      66383 non-null  int64 \n",
      " 5   Newly Built   66383 non-null  int64 \n",
      " 6   Furnished     66383 non-null  int64 \n",
      " 7   Bedrooms      66383 non-null  object\n",
      " 8   Bathrooms     66383 non-null  object\n",
      " 9   Toilets       66383 non-null  object\n",
      " 10  Neighborhood  66383 non-null  object\n",
      "dtypes: int64(3), object(8)\n",
      "memory usage: 5.6+ MB\n"
     ]
    }
   ],
   "source": [
    "# shoe basic information of the dataset\n",
    "lagos.info()"
   ]
  },
  {
   "cell_type": "markdown",
   "id": "aa989309",
   "metadata": {},
   "source": [
    "We can see from the data above we have 10 features as our Target Variable is **Price**"
   ]
  },
  {
   "cell_type": "code",
   "execution_count": 72,
   "id": "5d989bbb",
   "metadata": {},
   "outputs": [
    {
     "data": {
      "text/plain": [
       "Index(['Title', 'Location', 'Currency', 'Price', 'Serviced', 'Newly Built',\n",
       "       'Furnished', 'Bedrooms', 'Bathrooms', 'Toilets', 'Neighborhood'],\n",
       "      dtype='object')"
      ]
     },
     "execution_count": 72,
     "metadata": {},
     "output_type": "execute_result"
    }
   ],
   "source": [
    "lagos.columns"
   ]
  },
  {
   "cell_type": "markdown",
   "id": "8202dc7c",
   "metadata": {},
   "source": [
    "## Feature Engineering"
   ]
  },
  {
   "cell_type": "markdown",
   "metadata": {},
   "source": [
    "#### Extracting Type of Property from Title"
   ]
  },
  {
   "cell_type": "markdown",
   "id": "9d26ec3c",
   "metadata": {},
   "source": [
    "Since we are selling homes, let's parse out the three main types of Property Types from the title column: land, duplex and apartment"
   ]
  },
  {
   "cell_type": "code",
   "execution_count": 73,
   "id": "157746bc",
   "metadata": {},
   "outputs": [],
   "source": [
    "def house_type(serie):\n",
    "    final = []\n",
    "    \n",
    "    # Extract property name from title\n",
    "    for title in list(serie):\n",
    "        # convert all titles to lowercase trings\n",
    "        title = str(title).lower()\n",
    "        if \"land\" in title:\n",
    "            final.append(\"land\")\n",
    "        elif (\"duplex\" in title) or (\"massionette\" in title):\n",
    "            final.append(\"duplex\")\n",
    "        else:\n",
    "            final.append(\"apartment\")\n",
    "    return final"
   ]
  },
  {
   "cell_type": "code",
   "execution_count": 74,
   "id": "8d8f6409",
   "metadata": {},
   "outputs": [],
   "source": [
    "lagos[\"Property Type\"] = house_type(lagos[\"Title\"])"
   ]
  },
  {
   "cell_type": "code",
   "execution_count": 75,
   "id": "3f273d11",
   "metadata": {},
   "outputs": [
    {
     "data": {
      "text/html": [
       "<div>\n",
       "<style scoped>\n",
       "    .dataframe tbody tr th:only-of-type {\n",
       "        vertical-align: middle;\n",
       "    }\n",
       "\n",
       "    .dataframe tbody tr th {\n",
       "        vertical-align: top;\n",
       "    }\n",
       "\n",
       "    .dataframe thead th {\n",
       "        text-align: right;\n",
       "    }\n",
       "</style>\n",
       "<table border=\"1\" class=\"dataframe\">\n",
       "  <thead>\n",
       "    <tr style=\"text-align: right;\">\n",
       "      <th></th>\n",
       "      <th>Title</th>\n",
       "      <th>Property Type</th>\n",
       "    </tr>\n",
       "  </thead>\n",
       "  <tbody>\n",
       "    <tr>\n",
       "      <th>14799</th>\n",
       "      <td>Water Front Land</td>\n",
       "      <td>land</td>\n",
       "    </tr>\n",
       "    <tr>\n",
       "      <th>49906</th>\n",
       "      <td>Just Built 5 Bedroom Fully Detached Smart Home...</td>\n",
       "      <td>duplex</td>\n",
       "    </tr>\n",
       "    <tr>\n",
       "      <th>40611</th>\n",
       "      <td>4 Bedroom Fully Detached Duplexes</td>\n",
       "      <td>duplex</td>\n",
       "    </tr>\n",
       "    <tr>\n",
       "      <th>62736</th>\n",
       "      <td>Urban City Tastefully Finished 3 Bedroom Apart...</td>\n",
       "      <td>apartment</td>\n",
       "    </tr>\n",
       "    <tr>\n",
       "      <th>49415</th>\n",
       "      <td>5 Bedroom Detached Duplex With A Bq</td>\n",
       "      <td>duplex</td>\n",
       "    </tr>\n",
       "  </tbody>\n",
       "</table>\n",
       "</div>"
      ],
      "text/plain": [
       "                                                   Title Property Type\n",
       "14799                                   Water Front Land          land\n",
       "49906  Just Built 5 Bedroom Fully Detached Smart Home...        duplex\n",
       "40611                  4 Bedroom Fully Detached Duplexes        duplex\n",
       "62736  Urban City Tastefully Finished 3 Bedroom Apart...     apartment\n",
       "49415                5 Bedroom Detached Duplex With A Bq        duplex"
      ]
     },
     "execution_count": 75,
     "metadata": {},
     "output_type": "execute_result"
    }
   ],
   "source": [
    "lagos[[\"Title\",\"Property Type\"]].sample(5)"
   ]
  },
  {
   "cell_type": "markdown",
   "metadata": {},
   "source": [
    "We only need duplex properties, so it will be set"
   ]
  },
  {
   "cell_type": "code",
   "execution_count": 76,
   "id": "2c705e4f",
   "metadata": {},
   "outputs": [],
   "source": [
    "lagos = lagos[lagos[\"Property Type\"] == \"duplex\"].copy()"
   ]
  },
  {
   "cell_type": "markdown",
   "metadata": {},
   "source": [
    "#### Extracting Type of Duplex from Title"
   ]
  },
  {
   "cell_type": "markdown",
   "id": "bc1bd5cc",
   "metadata": {},
   "source": [
    "We can see different types of homes like detached duplex, semi detached etc, lets extract that"
   ]
  },
  {
   "cell_type": "code",
   "execution_count": 77,
   "id": "2fb91bcf",
   "metadata": {},
   "outputs": [
    {
     "data": {
      "text/plain": [
       "4 Bedroom Semi Detached Duplex                                                        1479\n",
       "5 Bedroom Detached Duplex                                                             1088\n",
       "4 Bedroom Terrace Duplex                                                               767\n",
       "5 Bedroom Fully Detached Duplex                                                        761\n",
       "4 Bedroom Detached Duplex                                                              467\n",
       "                                                                                      ... \n",
       "New Automated Unconventional 4bedroom Terrace Duplex With Bq Swimming Pool And Gym       1\n",
       "5 Bedroom Contemporary Fully Detached Duplex + Bq                                        1\n",
       "Distressed 4bedrooms Fully Detached Duplex                                               1\n",
       "New 4bedeoom Semi Detached Duplex With Bq                                                1\n",
       "7 Bedroom Duplex + 2 Room Bq                                                             1\n",
       "Name: Title, Length: 14546, dtype: int64"
      ]
     },
     "execution_count": 77,
     "metadata": {},
     "output_type": "execute_result"
    }
   ],
   "source": [
    "lagos[\"Title\"].value_counts()"
   ]
  },
  {
   "cell_type": "code",
   "execution_count": 78,
   "id": "a7ecaca3",
   "metadata": {},
   "outputs": [],
   "source": [
    "# Seperate Detached Duplex Houses from Semi Detached houses\n",
    "lagos.loc[\n",
    "    (lagos[\"Title\"] == \"Detached Duplex\") | (lagos[\"Title\"] == \"5 Bedroom Detached Duplex\") |\n",
    "    (lagos[\"Title\"] == \"4 Bedroom Detached Duplex\") | (lagos[\"Title\"] == \"6 Bedroom Detached Duplex\"),\n",
    "    \"Title\"\n",
    "] = \"ONLY DETACHED DUPLEX\""
   ]
  },
  {
   "cell_type": "markdown",
   "metadata": {},
   "source": [
    "This is a function to differentiate whether a home is detached, semi-detached, terraced or massionette"
   ]
  },
  {
   "cell_type": "code",
   "execution_count": 79,
   "id": "7eb3a80f",
   "metadata": {},
   "outputs": [],
   "source": [
    "def type_house(col):\n",
    "    final = []\n",
    "    \n",
    "    for value in col:\n",
    "        if (\"ONLY DETACHED DUPLEX\" in value.upper()) or ('bedroom duplex' in value.lower()):\n",
    "            final.append(\"Detached Duplex\")\n",
    "        elif ('Fully Detached' in value) or ('bedroom detached duplex' in value.lower()):\n",
    "            final.append(\"Detached Duplex\")\n",
    "        elif ('bedrooms duplex' in value.lower()) or ('bedrooms detached' in value.lower()):\n",
    "            final.append(\"Detached Duplex\")\n",
    "        elif ('bed room' in value.lower()) or ('luxury' in value.lower()) or ('contemporary' in value.lower()):\n",
    "            final.append(\"Detached Duplex\")\n",
    "        elif \"semi\" in value.lower():\n",
    "            final.append(\"Semi Detached Duplex\")\n",
    "        elif \"terra\" in value.lower():\n",
    "            final.append(\"Terraced Duplex\")\n",
    "        else:\n",
    "            final.append(\"Massionette\")\n",
    "            \n",
    "    return final"
   ]
  },
  {
   "cell_type": "code",
   "execution_count": 80,
   "id": "15f100be",
   "metadata": {},
   "outputs": [],
   "source": [
    "# Applying the function\n",
    "lagos[\"Type\"] = type_house(lagos[\"Title\"])"
   ]
  },
  {
   "cell_type": "code",
   "execution_count": 81,
   "id": "07758938",
   "metadata": {},
   "outputs": [
    {
     "data": {
      "text/plain": [
       "Detached Duplex         19216\n",
       "Semi Detached Duplex     7542\n",
       "Terraced Duplex          5425\n",
       "Massionette               870\n",
       "Name: Type, dtype: int64"
      ]
     },
     "execution_count": 81,
     "metadata": {},
     "output_type": "execute_result"
    }
   ],
   "source": [
    "# Checking count of type of duplexes\n",
    "lagos[\"Type\"].value_counts()"
   ]
  },
  {
   "cell_type": "markdown",
   "id": "cb79a36f",
   "metadata": {},
   "source": [
    "We won't be needing the Title column again"
   ]
  },
  {
   "cell_type": "code",
   "execution_count": 82,
   "id": "effb2f40",
   "metadata": {},
   "outputs": [],
   "source": [
    "lagos.drop(\"Title\", axis=1, inplace=True)"
   ]
  },
  {
   "cell_type": "markdown",
   "metadata": {},
   "source": [
    "We dont also need houses that are massionette"
   ]
  },
  {
   "cell_type": "code",
   "execution_count": 83,
   "metadata": {},
   "outputs": [],
   "source": [
    "mask = lagos.loc[lagos['Type'] == 'Massionette'].index\n",
    "lagos.drop(mask, inplace=True)"
   ]
  },
  {
   "cell_type": "markdown",
   "metadata": {},
   "source": [
    "#### Cleaning and Casting of the Price column"
   ]
  },
  {
   "cell_type": "markdown",
   "id": "9847b70f",
   "metadata": {},
   "source": [
    "It seems our price column is a string, as it contains commas and also includes the price period of the properties\n",
    "\n",
    "Let's sort that out"
   ]
  },
  {
   "cell_type": "code",
   "execution_count": 84,
   "id": "af737cc1",
   "metadata": {},
   "outputs": [
    {
     "data": {
      "text/plain": [
       "61574    160,000,000\n",
       "16608    360,000,000\n",
       "41560    220,000,000\n",
       "13528    160,000,000\n",
       "1818     550,000,000\n",
       "Name: Price, dtype: object"
      ]
     },
     "execution_count": 84,
     "metadata": {},
     "output_type": "execute_result"
    }
   ],
   "source": [
    "# A sample of price values\n",
    "lagos[\"Price\"].sample(5)"
   ]
  },
  {
   "cell_type": "markdown",
   "metadata": {},
   "source": [
    "Function to differentiate whether a price is fixed or per sqm, per year etc"
   ]
  },
  {
   "cell_type": "code",
   "execution_count": 85,
   "id": "bac119ed",
   "metadata": {},
   "outputs": [],
   "source": [
    "# Remove the last item from the price\n",
    "def price_split(serie):\n",
    "    final = []\n",
    "    for value in serie:\n",
    "        # if value has a price period, extract it else let it's price period be fixed\n",
    "        try:\n",
    "            final.append(value.split(\"/\")[1])\n",
    "        except:\n",
    "            final.append(\"fixed\")\n",
    "    return final"
   ]
  },
  {
   "cell_type": "code",
   "execution_count": 86,
   "id": "1678d185",
   "metadata": {},
   "outputs": [],
   "source": [
    "# applying function\n",
    "lagos[\"Price Period\"] = price_split(lagos[\"Price\"])"
   ]
  },
  {
   "cell_type": "code",
   "execution_count": 87,
   "id": "2d75492e",
   "metadata": {},
   "outputs": [
    {
     "data": {
      "text/html": [
       "<div>\n",
       "<style scoped>\n",
       "    .dataframe tbody tr th:only-of-type {\n",
       "        vertical-align: middle;\n",
       "    }\n",
       "\n",
       "    .dataframe tbody tr th {\n",
       "        vertical-align: top;\n",
       "    }\n",
       "\n",
       "    .dataframe thead th {\n",
       "        text-align: right;\n",
       "    }\n",
       "</style>\n",
       "<table border=\"1\" class=\"dataframe\">\n",
       "  <thead>\n",
       "    <tr style=\"text-align: right;\">\n",
       "      <th></th>\n",
       "      <th>Price</th>\n",
       "      <th>Price Period</th>\n",
       "    </tr>\n",
       "  </thead>\n",
       "  <tbody>\n",
       "    <tr>\n",
       "      <th>29675</th>\n",
       "      <td>80,000,000</td>\n",
       "      <td>fixed</td>\n",
       "    </tr>\n",
       "    <tr>\n",
       "      <th>20937</th>\n",
       "      <td>120,000,000</td>\n",
       "      <td>fixed</td>\n",
       "    </tr>\n",
       "    <tr>\n",
       "      <th>37436</th>\n",
       "      <td>200,000,000</td>\n",
       "      <td>fixed</td>\n",
       "    </tr>\n",
       "    <tr>\n",
       "      <th>35045</th>\n",
       "      <td>85,000,000</td>\n",
       "      <td>fixed</td>\n",
       "    </tr>\n",
       "    <tr>\n",
       "      <th>52041</th>\n",
       "      <td>55,000,000</td>\n",
       "      <td>fixed</td>\n",
       "    </tr>\n",
       "  </tbody>\n",
       "</table>\n",
       "</div>"
      ],
      "text/plain": [
       "             Price Price Period\n",
       "29675   80,000,000        fixed\n",
       "20937  120,000,000        fixed\n",
       "37436  200,000,000        fixed\n",
       "35045   85,000,000        fixed\n",
       "52041   55,000,000        fixed"
      ]
     },
     "execution_count": 87,
     "metadata": {},
     "output_type": "execute_result"
    }
   ],
   "source": [
    "# checking samples\n",
    "lagos[[\"Price\", \"Price Period\"]].sample(5)"
   ]
  },
  {
   "cell_type": "markdown",
   "id": "02399ade",
   "metadata": {},
   "source": [
    "Now since we have parsed out the price period, let's remove the commas from them and convert them to numbers"
   ]
  },
  {
   "cell_type": "code",
   "execution_count": 88,
   "id": "6a5cca92",
   "metadata": {},
   "outputs": [],
   "source": [
    "def comma_remove(feature):\n",
    "    final = []\n",
    "    for sample in feature:\n",
    "        # Get the prices\n",
    "        sample = sample.split(\"/\")[0]\n",
    "        \n",
    "        # Remove the commas\n",
    "        if \",\" in sample:\n",
    "            final.append(sample.replace(\",\",\"\"))\n",
    "        else:\n",
    "            final.append(sample)\n",
    "    \n",
    "    # Convert them to numbers\n",
    "    int_final = [float(item) for item in final]\n",
    "    return int_final\n"
   ]
  },
  {
   "cell_type": "code",
   "execution_count": 89,
   "id": "4e4816c2",
   "metadata": {},
   "outputs": [],
   "source": [
    "# applying functions\n",
    "lagos[\"Price\"] = comma_remove(lagos[\"Price\"])"
   ]
  },
  {
   "cell_type": "code",
   "execution_count": 90,
   "id": "4d703c74",
   "metadata": {},
   "outputs": [
    {
     "data": {
      "text/html": [
       "<div>\n",
       "<style scoped>\n",
       "    .dataframe tbody tr th:only-of-type {\n",
       "        vertical-align: middle;\n",
       "    }\n",
       "\n",
       "    .dataframe tbody tr th {\n",
       "        vertical-align: top;\n",
       "    }\n",
       "\n",
       "    .dataframe thead th {\n",
       "        text-align: right;\n",
       "    }\n",
       "</style>\n",
       "<table border=\"1\" class=\"dataframe\">\n",
       "  <thead>\n",
       "    <tr style=\"text-align: right;\">\n",
       "      <th></th>\n",
       "      <th>Price</th>\n",
       "      <th>Price Period</th>\n",
       "    </tr>\n",
       "  </thead>\n",
       "  <tbody>\n",
       "    <tr>\n",
       "      <th>24896</th>\n",
       "      <td>200000000.0</td>\n",
       "      <td>fixed</td>\n",
       "    </tr>\n",
       "    <tr>\n",
       "      <th>60537</th>\n",
       "      <td>65000000.0</td>\n",
       "      <td>fixed</td>\n",
       "    </tr>\n",
       "    <tr>\n",
       "      <th>8489</th>\n",
       "      <td>165000000.0</td>\n",
       "      <td>day</td>\n",
       "    </tr>\n",
       "    <tr>\n",
       "      <th>36768</th>\n",
       "      <td>95000000.0</td>\n",
       "      <td>fixed</td>\n",
       "    </tr>\n",
       "    <tr>\n",
       "      <th>21626</th>\n",
       "      <td>40000000.0</td>\n",
       "      <td>fixed</td>\n",
       "    </tr>\n",
       "  </tbody>\n",
       "</table>\n",
       "</div>"
      ],
      "text/plain": [
       "             Price Price Period\n",
       "24896  200000000.0        fixed\n",
       "60537   65000000.0        fixed\n",
       "8489   165000000.0          day\n",
       "36768   95000000.0        fixed\n",
       "21626   40000000.0        fixed"
      ]
     },
     "execution_count": 90,
     "metadata": {},
     "output_type": "execute_result"
    }
   ],
   "source": [
    "lagos[[\"Price\", \"Price Period\"]].sample(5)"
   ]
  },
  {
   "cell_type": "markdown",
   "metadata": {},
   "source": [
    "Extracting houses only with fixed prices"
   ]
  },
  {
   "cell_type": "code",
   "execution_count": 91,
   "metadata": {},
   "outputs": [],
   "source": [
    "lagos = lagos[lagos['Price Period'] == 'fixed']"
   ]
  },
  {
   "cell_type": "markdown",
   "id": "205123a0",
   "metadata": {},
   "source": [
    "We can now perform numerical methods on the Price column now"
   ]
  },
  {
   "cell_type": "markdown",
   "metadata": {},
   "source": [
    "Minimum price"
   ]
  },
  {
   "cell_type": "code",
   "execution_count": 92,
   "id": "92aa7af6",
   "metadata": {},
   "outputs": [
    {
     "data": {
      "text/plain": [
       "0.0"
      ]
     },
     "execution_count": 92,
     "metadata": {},
     "output_type": "execute_result"
    }
   ],
   "source": [
    "lagos[\"Price\"].min()"
   ]
  },
  {
   "cell_type": "markdown",
   "metadata": {},
   "source": [
    "Average price"
   ]
  },
  {
   "cell_type": "code",
   "execution_count": 93,
   "id": "9a7aaaa4",
   "metadata": {},
   "outputs": [
    {
     "data": {
      "text/plain": [
       "100000000.0"
      ]
     },
     "execution_count": 93,
     "metadata": {},
     "output_type": "execute_result"
    }
   ],
   "source": [
    "lagos[\"Price\"].median()"
   ]
  },
  {
   "cell_type": "markdown",
   "metadata": {},
   "source": [
    "Max Price"
   ]
  },
  {
   "cell_type": "markdown",
   "id": "3ee5c32f",
   "metadata": {},
   "source": [
    "We can see that some of our other columns meant to be numbers are actually strings, so we would have take care of that"
   ]
  },
  {
   "cell_type": "code",
   "execution_count": 94,
   "id": "b4a4da41",
   "metadata": {},
   "outputs": [
    {
     "data": {
      "text/plain": [
       "140000000000000.0"
      ]
     },
     "execution_count": 94,
     "metadata": {},
     "output_type": "execute_result"
    }
   ],
   "source": [
    "lagos[\"Price\"].max()"
   ]
  },
  {
   "cell_type": "markdown",
   "metadata": {},
   "source": [
    "#### Cleaning and Casting of the Bedrooms, Bathrooms and Toilets Features"
   ]
  },
  {
   "cell_type": "code",
   "execution_count": 95,
   "id": "2aaf6dbc",
   "metadata": {},
   "outputs": [
    {
     "data": {
      "text/html": [
       "<div>\n",
       "<style scoped>\n",
       "    .dataframe tbody tr th:only-of-type {\n",
       "        vertical-align: middle;\n",
       "    }\n",
       "\n",
       "    .dataframe tbody tr th {\n",
       "        vertical-align: top;\n",
       "    }\n",
       "\n",
       "    .dataframe thead th {\n",
       "        text-align: right;\n",
       "    }\n",
       "</style>\n",
       "<table border=\"1\" class=\"dataframe\">\n",
       "  <thead>\n",
       "    <tr style=\"text-align: right;\">\n",
       "      <th></th>\n",
       "      <th>Bedrooms</th>\n",
       "      <th>Bathrooms</th>\n",
       "      <th>Toilets</th>\n",
       "    </tr>\n",
       "  </thead>\n",
       "  <tbody>\n",
       "    <tr>\n",
       "      <th>51689</th>\n",
       "      <td>5 beds</td>\n",
       "      <td>5 baths</td>\n",
       "      <td>6 Toilets</td>\n",
       "    </tr>\n",
       "    <tr>\n",
       "      <th>42270</th>\n",
       "      <td>5 beds</td>\n",
       "      <td>6 baths</td>\n",
       "      <td>6 Toilets</td>\n",
       "    </tr>\n",
       "    <tr>\n",
       "      <th>64604</th>\n",
       "      <td>4 beds</td>\n",
       "      <td>0 baths</td>\n",
       "      <td>0 Toilets</td>\n",
       "    </tr>\n",
       "    <tr>\n",
       "      <th>22554</th>\n",
       "      <td>4 beds</td>\n",
       "      <td>0 baths</td>\n",
       "      <td>0 Toilets</td>\n",
       "    </tr>\n",
       "    <tr>\n",
       "      <th>6092</th>\n",
       "      <td>5 beds</td>\n",
       "      <td>5 baths</td>\n",
       "      <td>6 Toilets</td>\n",
       "    </tr>\n",
       "  </tbody>\n",
       "</table>\n",
       "</div>"
      ],
      "text/plain": [
       "      Bedrooms Bathrooms    Toilets\n",
       "51689   5 beds   5 baths  6 Toilets\n",
       "42270   5 beds   6 baths  6 Toilets\n",
       "64604   4 beds   0 baths  0 Toilets\n",
       "22554   4 beds   0 baths  0 Toilets\n",
       "6092    5 beds   5 baths  6 Toilets"
      ]
     },
     "execution_count": 95,
     "metadata": {},
     "output_type": "execute_result"
    }
   ],
   "source": [
    "lagos[[\"Bedrooms\",\"Bathrooms\",\"Toilets\"]].sample(5)"
   ]
  },
  {
   "cell_type": "markdown",
   "metadata": {},
   "source": [
    "Function to clean and cast bathroom, bedroom and toilets features"
   ]
  },
  {
   "cell_type": "code",
   "execution_count": 96,
   "id": "e956d01f",
   "metadata": {},
   "outputs": [],
   "source": [
    "def remove_bed_strip(serie):\n",
    "    final = []\n",
    "    # If value doesn't have a number, replace it with a zero,\n",
    "    # else replace it with the number it contains\n",
    "    for value in serie:\n",
    "        if value.split(\"beds\")[0].strip() == \"\":\n",
    "            final.append(int(\"0\"))\n",
    "        else:\n",
    "            final.append(int(value.split(\"beds\")[0].strip()))\n",
    "    return final\n",
    "\n",
    "def remove_toilet_strip(serie):\n",
    "    final = []\n",
    "    for value in serie:\n",
    "        if value.split(\"Toilets\")[0].strip() == \"\":\n",
    "            final.append(int(\"0\"))\n",
    "        else:\n",
    "            final.append(int(value.split(\"Toilets\")[0].strip()))\n",
    "    return final \n",
    "\n",
    "def remove_bath_strip(serie):\n",
    "    final = []\n",
    "    for value in serie:\n",
    "        if value.split(\"baths\")[0].strip() == \"\":\n",
    "            final.append(int(\"0\"))\n",
    "        else:\n",
    "            final.append(int(value.split(\"baths\")[0].strip()))\n",
    "    return final "
   ]
  },
  {
   "cell_type": "markdown",
   "metadata": {},
   "source": [
    "Applying functions to three features"
   ]
  },
  {
   "cell_type": "code",
   "execution_count": 97,
   "id": "9e009a14",
   "metadata": {},
   "outputs": [],
   "source": [
    "lagos[\"Bedrooms\"] = remove_bed_strip(lagos[\"Bedrooms\"])"
   ]
  },
  {
   "cell_type": "code",
   "execution_count": 98,
   "id": "1b8a8a40",
   "metadata": {},
   "outputs": [],
   "source": [
    "lagos[\"Bathrooms\"] = remove_bath_strip(lagos[\"Bathrooms\"])"
   ]
  },
  {
   "cell_type": "code",
   "execution_count": 99,
   "id": "4f1737a8",
   "metadata": {},
   "outputs": [],
   "source": [
    "lagos[\"Toilets\"] = remove_toilet_strip(lagos[\"Toilets\"])"
   ]
  },
  {
   "cell_type": "code",
   "execution_count": 100,
   "id": "280c3311",
   "metadata": {},
   "outputs": [
    {
     "data": {
      "text/html": [
       "<div>\n",
       "<style scoped>\n",
       "    .dataframe tbody tr th:only-of-type {\n",
       "        vertical-align: middle;\n",
       "    }\n",
       "\n",
       "    .dataframe tbody tr th {\n",
       "        vertical-align: top;\n",
       "    }\n",
       "\n",
       "    .dataframe thead th {\n",
       "        text-align: right;\n",
       "    }\n",
       "</style>\n",
       "<table border=\"1\" class=\"dataframe\">\n",
       "  <thead>\n",
       "    <tr style=\"text-align: right;\">\n",
       "      <th></th>\n",
       "      <th>Bedrooms</th>\n",
       "      <th>Bathrooms</th>\n",
       "      <th>Toilets</th>\n",
       "    </tr>\n",
       "  </thead>\n",
       "  <tbody>\n",
       "    <tr>\n",
       "      <th>41941</th>\n",
       "      <td>0</td>\n",
       "      <td>0</td>\n",
       "      <td>0</td>\n",
       "    </tr>\n",
       "    <tr>\n",
       "      <th>29680</th>\n",
       "      <td>4</td>\n",
       "      <td>5</td>\n",
       "      <td>5</td>\n",
       "    </tr>\n",
       "    <tr>\n",
       "      <th>31607</th>\n",
       "      <td>5</td>\n",
       "      <td>5</td>\n",
       "      <td>6</td>\n",
       "    </tr>\n",
       "    <tr>\n",
       "      <th>37139</th>\n",
       "      <td>4</td>\n",
       "      <td>5</td>\n",
       "      <td>6</td>\n",
       "    </tr>\n",
       "    <tr>\n",
       "      <th>33042</th>\n",
       "      <td>6</td>\n",
       "      <td>6</td>\n",
       "      <td>8</td>\n",
       "    </tr>\n",
       "  </tbody>\n",
       "</table>\n",
       "</div>"
      ],
      "text/plain": [
       "       Bedrooms  Bathrooms  Toilets\n",
       "41941         0          0        0\n",
       "29680         4          5        5\n",
       "31607         5          5        6\n",
       "37139         4          5        6\n",
       "33042         6          6        8"
      ]
     },
     "execution_count": 100,
     "metadata": {},
     "output_type": "execute_result"
    }
   ],
   "source": [
    "lagos[[\"Bedrooms\",\"Bathrooms\",\"Toilets\"]].sample(5)"
   ]
  },
  {
   "cell_type": "markdown",
   "metadata": {},
   "source": [
    "#### Extracting City of property"
   ]
  },
  {
   "cell_type": "markdown",
   "id": "18a3218e",
   "metadata": {},
   "source": [
    "Also we need to parse out the necessary neighbourhoods from the Location column"
   ]
  },
  {
   "cell_type": "code",
   "execution_count": 101,
   "id": "a6c3a7b8",
   "metadata": {},
   "outputs": [],
   "source": [
    "# Remove location from data\n",
    "def location_parser(serie):\n",
    "    # Replace all Spaces with a comma in the values\n",
    "    location = [location.replace(\" \", \",\") for location in serie]\n",
    "    \n",
    "    # Split the values by commas, and get the second to the last item, also replace items that\n",
    "    # contain Island with Victoria Island\n",
    "    area = [area.split(\",\")[-2].replace(\"Island\", \"Victoria Island\") for area in location]\n",
    "    \n",
    "    return area"
   ]
  },
  {
   "cell_type": "markdown",
   "metadata": {},
   "source": [
    "Applying function"
   ]
  },
  {
   "cell_type": "code",
   "execution_count": 102,
   "id": "9e95c476",
   "metadata": {},
   "outputs": [],
   "source": [
    "lagos[\"City\"] = location_parser(lagos[\"Location\"])"
   ]
  },
  {
   "cell_type": "code",
   "execution_count": 103,
   "id": "2baa41e1",
   "metadata": {},
   "outputs": [
    {
     "data": {
      "text/plain": [
       "58156    Lekki\n",
       "43664    Lekki\n",
       "19175    Lekki\n",
       "38006    Lekki\n",
       "36304    Lekki\n",
       "Name: City, dtype: object"
      ]
     },
     "execution_count": 103,
     "metadata": {},
     "output_type": "execute_result"
    }
   ],
   "source": [
    "lagos[\"City\"].sample(5)"
   ]
  },
  {
   "cell_type": "markdown",
   "metadata": {},
   "source": [
    "We wont be needing the Location feature again since City has been extracted"
   ]
  },
  {
   "cell_type": "code",
   "execution_count": 104,
   "id": "011fba64",
   "metadata": {},
   "outputs": [],
   "source": [
    "lagos.drop(\"Location\", axis=1, inplace=True)"
   ]
  },
  {
   "cell_type": "code",
   "execution_count": 105,
   "id": "dfab78f2",
   "metadata": {},
   "outputs": [
    {
     "data": {
      "text/html": [
       "<div>\n",
       "<style scoped>\n",
       "    .dataframe tbody tr th:only-of-type {\n",
       "        vertical-align: middle;\n",
       "    }\n",
       "\n",
       "    .dataframe tbody tr th {\n",
       "        vertical-align: top;\n",
       "    }\n",
       "\n",
       "    .dataframe thead th {\n",
       "        text-align: right;\n",
       "    }\n",
       "</style>\n",
       "<table border=\"1\" class=\"dataframe\">\n",
       "  <thead>\n",
       "    <tr style=\"text-align: right;\">\n",
       "      <th></th>\n",
       "      <th>Currency</th>\n",
       "      <th>Price</th>\n",
       "      <th>Serviced</th>\n",
       "      <th>Newly Built</th>\n",
       "      <th>Furnished</th>\n",
       "      <th>Bedrooms</th>\n",
       "      <th>Bathrooms</th>\n",
       "      <th>Toilets</th>\n",
       "      <th>Neighborhood</th>\n",
       "      <th>Property Type</th>\n",
       "      <th>Type</th>\n",
       "      <th>Price Period</th>\n",
       "      <th>City</th>\n",
       "    </tr>\n",
       "  </thead>\n",
       "  <tbody>\n",
       "    <tr>\n",
       "      <th>11205</th>\n",
       "      <td>₦</td>\n",
       "      <td>750000000.0</td>\n",
       "      <td>0</td>\n",
       "      <td>1</td>\n",
       "      <td>0</td>\n",
       "      <td>0</td>\n",
       "      <td>0</td>\n",
       "      <td>0</td>\n",
       "      <td>Old Ikoyi</td>\n",
       "      <td>duplex</td>\n",
       "      <td>Detached Duplex</td>\n",
       "      <td>fixed</td>\n",
       "      <td>Ikoyi</td>\n",
       "    </tr>\n",
       "    <tr>\n",
       "      <th>7980</th>\n",
       "      <td>₦</td>\n",
       "      <td>180000000.0</td>\n",
       "      <td>0</td>\n",
       "      <td>1</td>\n",
       "      <td>0</td>\n",
       "      <td>4</td>\n",
       "      <td>4</td>\n",
       "      <td>5</td>\n",
       "      <td>Parkview</td>\n",
       "      <td>duplex</td>\n",
       "      <td>Terraced Duplex</td>\n",
       "      <td>fixed</td>\n",
       "      <td>Ikoyi</td>\n",
       "    </tr>\n",
       "    <tr>\n",
       "      <th>58192</th>\n",
       "      <td>₦</td>\n",
       "      <td>150000000.0</td>\n",
       "      <td>0</td>\n",
       "      <td>0</td>\n",
       "      <td>0</td>\n",
       "      <td>5</td>\n",
       "      <td>0</td>\n",
       "      <td>0</td>\n",
       "      <td>Other Lekki</td>\n",
       "      <td>duplex</td>\n",
       "      <td>Detached Duplex</td>\n",
       "      <td>fixed</td>\n",
       "      <td>Lekki</td>\n",
       "    </tr>\n",
       "    <tr>\n",
       "      <th>63354</th>\n",
       "      <td>₦</td>\n",
       "      <td>175000000.0</td>\n",
       "      <td>0</td>\n",
       "      <td>1</td>\n",
       "      <td>0</td>\n",
       "      <td>4</td>\n",
       "      <td>4</td>\n",
       "      <td>5</td>\n",
       "      <td>Oniru</td>\n",
       "      <td>duplex</td>\n",
       "      <td>Detached Duplex</td>\n",
       "      <td>fixed</td>\n",
       "      <td>Victoria Island</td>\n",
       "    </tr>\n",
       "    <tr>\n",
       "      <th>23285</th>\n",
       "      <td>₦</td>\n",
       "      <td>78000000.0</td>\n",
       "      <td>0</td>\n",
       "      <td>0</td>\n",
       "      <td>0</td>\n",
       "      <td>0</td>\n",
       "      <td>0</td>\n",
       "      <td>0</td>\n",
       "      <td>Other Lekki</td>\n",
       "      <td>duplex</td>\n",
       "      <td>Semi Detached Duplex</td>\n",
       "      <td>fixed</td>\n",
       "      <td>Lekki</td>\n",
       "    </tr>\n",
       "    <tr>\n",
       "      <th>35800</th>\n",
       "      <td>₦</td>\n",
       "      <td>60000000.0</td>\n",
       "      <td>0</td>\n",
       "      <td>1</td>\n",
       "      <td>0</td>\n",
       "      <td>4</td>\n",
       "      <td>5</td>\n",
       "      <td>5</td>\n",
       "      <td>Other Lekki</td>\n",
       "      <td>duplex</td>\n",
       "      <td>Semi Detached Duplex</td>\n",
       "      <td>fixed</td>\n",
       "      <td>Lekki</td>\n",
       "    </tr>\n",
       "    <tr>\n",
       "      <th>21281</th>\n",
       "      <td>₦</td>\n",
       "      <td>110000000.0</td>\n",
       "      <td>0</td>\n",
       "      <td>1</td>\n",
       "      <td>0</td>\n",
       "      <td>5</td>\n",
       "      <td>5</td>\n",
       "      <td>6</td>\n",
       "      <td>Lekki Phase 2</td>\n",
       "      <td>duplex</td>\n",
       "      <td>Detached Duplex</td>\n",
       "      <td>fixed</td>\n",
       "      <td>Lekki</td>\n",
       "    </tr>\n",
       "    <tr>\n",
       "      <th>47082</th>\n",
       "      <td>₦</td>\n",
       "      <td>38000000.0</td>\n",
       "      <td>0</td>\n",
       "      <td>0</td>\n",
       "      <td>0</td>\n",
       "      <td>0</td>\n",
       "      <td>0</td>\n",
       "      <td>0</td>\n",
       "      <td>Other Lekki</td>\n",
       "      <td>duplex</td>\n",
       "      <td>Terraced Duplex</td>\n",
       "      <td>fixed</td>\n",
       "      <td>Lekki</td>\n",
       "    </tr>\n",
       "    <tr>\n",
       "      <th>917</th>\n",
       "      <td>₦</td>\n",
       "      <td>180000000.0</td>\n",
       "      <td>0</td>\n",
       "      <td>0</td>\n",
       "      <td>1</td>\n",
       "      <td>5</td>\n",
       "      <td>5</td>\n",
       "      <td>5</td>\n",
       "      <td>Allen Avenue</td>\n",
       "      <td>duplex</td>\n",
       "      <td>Detached Duplex</td>\n",
       "      <td>fixed</td>\n",
       "      <td>Ikeja</td>\n",
       "    </tr>\n",
       "    <tr>\n",
       "      <th>52650</th>\n",
       "      <td>₦</td>\n",
       "      <td>110000000.0</td>\n",
       "      <td>0</td>\n",
       "      <td>1</td>\n",
       "      <td>1</td>\n",
       "      <td>5</td>\n",
       "      <td>5</td>\n",
       "      <td>6</td>\n",
       "      <td>Ikota</td>\n",
       "      <td>duplex</td>\n",
       "      <td>Detached Duplex</td>\n",
       "      <td>fixed</td>\n",
       "      <td>Lekki</td>\n",
       "    </tr>\n",
       "  </tbody>\n",
       "</table>\n",
       "</div>"
      ],
      "text/plain": [
       "      Currency        Price  Serviced  Newly Built  Furnished  Bedrooms  \\\n",
       "11205        ₦  750000000.0         0            1          0         0   \n",
       "7980         ₦  180000000.0         0            1          0         4   \n",
       "58192        ₦  150000000.0         0            0          0         5   \n",
       "63354        ₦  175000000.0         0            1          0         4   \n",
       "23285        ₦   78000000.0         0            0          0         0   \n",
       "35800        ₦   60000000.0         0            1          0         4   \n",
       "21281        ₦  110000000.0         0            1          0         5   \n",
       "47082        ₦   38000000.0         0            0          0         0   \n",
       "917          ₦  180000000.0         0            0          1         5   \n",
       "52650        ₦  110000000.0         0            1          1         5   \n",
       "\n",
       "       Bathrooms  Toilets   Neighborhood Property Type                  Type  \\\n",
       "11205          0        0      Old Ikoyi        duplex       Detached Duplex   \n",
       "7980           4        5       Parkview        duplex       Terraced Duplex   \n",
       "58192          0        0    Other Lekki        duplex       Detached Duplex   \n",
       "63354          4        5          Oniru        duplex       Detached Duplex   \n",
       "23285          0        0    Other Lekki        duplex  Semi Detached Duplex   \n",
       "35800          5        5    Other Lekki        duplex  Semi Detached Duplex   \n",
       "21281          5        6  Lekki Phase 2        duplex       Detached Duplex   \n",
       "47082          0        0    Other Lekki        duplex       Terraced Duplex   \n",
       "917            5        5   Allen Avenue        duplex       Detached Duplex   \n",
       "52650          5        6          Ikota        duplex       Detached Duplex   \n",
       "\n",
       "      Price Period             City  \n",
       "11205        fixed            Ikoyi  \n",
       "7980         fixed            Ikoyi  \n",
       "58192        fixed            Lekki  \n",
       "63354        fixed  Victoria Island  \n",
       "23285        fixed            Lekki  \n",
       "35800        fixed            Lekki  \n",
       "21281        fixed            Lekki  \n",
       "47082        fixed            Lekki  \n",
       "917          fixed            Ikeja  \n",
       "52650        fixed            Lekki  "
      ]
     },
     "execution_count": 105,
     "metadata": {},
     "output_type": "execute_result"
    }
   ],
   "source": [
    "lagos.sample(10)"
   ]
  },
  {
   "cell_type": "markdown",
   "metadata": {},
   "source": [
    "#### Handling Missing Data"
   ]
  },
  {
   "cell_type": "markdown",
   "metadata": {},
   "source": [
    "After Analysis of the data it was observed that most properties' bathrooms and bedrooms had the same values , while toilets were an increment of the bedrooms. For example a property containing 4 bedrooms will have 4 bathrooms and 5 toilets. Lets turn this idea into a function"
   ]
  },
  {
   "cell_type": "code",
   "execution_count": 106,
   "id": "aecfb289",
   "metadata": {},
   "outputs": [],
   "source": [
    "# Imputing for bathrooms and bedrooms\n",
    "def bed_bath(cols):\n",
    "    bedroom = cols[0]\n",
    "    bathroom = cols[1]\n",
    "    \n",
    "    if bathroom == 0:\n",
    "\n",
    "        if bedroom == 4:\n",
    "            return 4\n",
    "\n",
    "        elif bedroom == 5:\n",
    "            return 5\n",
    "        \n",
    "        elif bedroom == 6:\n",
    "            return 6\n",
    "\n",
    "        else:\n",
    "            return 0\n",
    "    else:\n",
    "        return bathroom"
   ]
  },
  {
   "cell_type": "code",
   "execution_count": 107,
   "id": "3fe0825e",
   "metadata": {},
   "outputs": [],
   "source": [
    "# Importing for toilets\n",
    "def bed_toilet(cols):\n",
    "    bedroom = cols[0]\n",
    "    toilet = cols[1]\n",
    "    \n",
    "    if toilet == 0:\n",
    "\n",
    "        if bedroom == 4:\n",
    "            return 5\n",
    "\n",
    "        elif bedroom == 5:\n",
    "            return 6\n",
    "\n",
    "        elif bedroom == 6:\n",
    "            return 7\n",
    "        \n",
    "        else:\n",
    "            return 0\n",
    "    else:\n",
    "        return toilet"
   ]
  },
  {
   "cell_type": "markdown",
   "metadata": {},
   "source": [
    "Applying the functions"
   ]
  },
  {
   "cell_type": "code",
   "execution_count": 108,
   "id": "d2a2356c",
   "metadata": {},
   "outputs": [],
   "source": [
    "lagos['Bedrooms'] = lagos[['Bathrooms','Bedrooms']].apply(bed_bath,axis=1)\n",
    "lagos['Bathrooms'] = lagos[['Bedrooms','Bathrooms']].apply(bed_bath,axis=1)\n",
    "lagos['Toilets'] = lagos[['Bedrooms','Toilets']].apply(bed_toilet,axis=1)"
   ]
  },
  {
   "cell_type": "markdown",
   "metadata": {},
   "source": [
    "#### Handling duplicate values"
   ]
  },
  {
   "cell_type": "markdown",
   "metadata": {},
   "source": [
    "Counting Number of duplicate values"
   ]
  },
  {
   "cell_type": "code",
   "execution_count": 109,
   "metadata": {},
   "outputs": [
    {
     "data": {
      "text/plain": [
       "16357"
      ]
     },
     "execution_count": 109,
     "metadata": {},
     "output_type": "execute_result"
    }
   ],
   "source": [
    "lagos.duplicated().value_counts()[1]"
   ]
  },
  {
   "cell_type": "markdown",
   "metadata": {},
   "source": [
    "Removing duplicate values"
   ]
  },
  {
   "cell_type": "code",
   "execution_count": 110,
   "metadata": {},
   "outputs": [],
   "source": [
    "lagos.drop_duplicates(inplace=True)"
   ]
  },
  {
   "cell_type": "markdown",
   "metadata": {},
   "source": [
    "#### Removing Inconsistent rows and features"
   ]
  },
  {
   "cell_type": "markdown",
   "metadata": {},
   "source": [
    "Extracting properties that contain only naira curriencies"
   ]
  },
  {
   "cell_type": "code",
   "execution_count": 111,
   "id": "12597e75",
   "metadata": {},
   "outputs": [],
   "source": [
    "lagos = lagos.loc[lagos[\"Currency\"] != \"$\"].copy()"
   ]
  },
  {
   "cell_type": "markdown",
   "metadata": {},
   "source": [
    "Removing rows that containing only 0 bedrooms, 0 bathrooms and 0 toilets"
   ]
  },
  {
   "cell_type": "code",
   "execution_count": 112,
   "metadata": {},
   "outputs": [],
   "source": [
    "mask = lagos.loc[(lagos['Bedrooms'] == 0) & (lagos['Bedrooms'] == 0) & (lagos['Toilets'] == 0)].index\n",
    "lagos.drop(mask, inplace=True)"
   ]
  },
  {
   "cell_type": "markdown",
   "metadata": {},
   "source": [
    "Removing Inconsistent Features"
   ]
  },
  {
   "cell_type": "code",
   "execution_count": 113,
   "id": "1615abc0",
   "metadata": {},
   "outputs": [],
   "source": [
    "lagos.drop(['Currency', 'Property Type', 'Price Period'], axis=1, inplace=True)"
   ]
  },
  {
   "cell_type": "markdown",
   "metadata": {},
   "source": [
    "##### Price Cap\n"
   ]
  },
  {
   "cell_type": "markdown",
   "metadata": {},
   "source": [
    "The average Nigerian in 2022 will not normally buy a property less than 10 million naira and higher than 500 million naira, this rows are redundant and will be removed"
   ]
  },
  {
   "cell_type": "code",
   "execution_count": 114,
   "metadata": {},
   "outputs": [],
   "source": [
    "mask = lagos.loc[(lagos[\"Price\"] < 1e7) | (lagos[\"Price\"] > 5e8)].index\n",
    "lagos.drop(mask, inplace=True)"
   ]
  },
  {
   "cell_type": "code",
   "execution_count": 115,
   "metadata": {},
   "outputs": [],
   "source": [
    "lagos = lagos.sample(frac=1).copy()"
   ]
  },
  {
   "cell_type": "markdown",
   "metadata": {},
   "source": [
    "Saving preprocessed data for EDA"
   ]
  },
  {
   "cell_type": "code",
   "execution_count": 116,
   "metadata": {},
   "outputs": [],
   "source": [
    "lagos.to_csv('clean/eda.csv', index=False)"
   ]
  },
  {
   "cell_type": "markdown",
   "metadata": {},
   "source": [
    "## Data Preprocessing"
   ]
  },
  {
   "cell_type": "markdown",
   "metadata": {},
   "source": [
    "#### Data Split"
   ]
  },
  {
   "cell_type": "markdown",
   "metadata": {},
   "source": [
    "Splitting our data before data preprocessing to avoid data leakage"
   ]
  },
  {
   "cell_type": "code",
   "execution_count": 117,
   "metadata": {},
   "outputs": [],
   "source": [
    "# Spliting to extract 20% test data\n",
    "from sklearn.model_selection import StratifiedShuffleSplit\n",
    "split = StratifiedShuffleSplit(n_splits=1, test_size=0.2, random_state=42)\n",
    "for train_index, test_index in split.split(lagos, lagos[\"Neighborhood\"]):\n",
    "    train_set = lagos.iloc[train_index]\n",
    "    test_set = lagos.iloc[test_index]"
   ]
  },
  {
   "cell_type": "code",
   "execution_count": 118,
   "metadata": {},
   "outputs": [],
   "source": [
    "# Splitting to extract 20% validation data\n",
    "split = StratifiedShuffleSplit(n_splits=1, test_size=0.2, random_state=42)\n",
    "for train_index, test_index in split.split(train_set, train_set[\"Neighborhood\"]):\n",
    "    train = train_set.iloc[train_index]\n",
    "    validation_set = train_set.iloc[test_index]"
   ]
  },
  {
   "cell_type": "code",
   "execution_count": 119,
   "metadata": {},
   "outputs": [],
   "source": [
    "lagos = train.drop(\"Price\", axis=1)\n",
    "price = train[\"Price\"]"
   ]
  },
  {
   "cell_type": "markdown",
   "id": "1711dc64",
   "metadata": {},
   "source": [
    "Let's seperate our numerical columns and our categorical ones"
   ]
  },
  {
   "cell_type": "code",
   "execution_count": 120,
   "id": "3a80d7e8",
   "metadata": {},
   "outputs": [],
   "source": [
    "categorical_col = [column for column in lagos.columns if lagos[column].dtype == \"O\"]\n",
    "numerical_col = ['Bathrooms', 'Bedrooms', 'Toilets']"
   ]
  },
  {
   "cell_type": "code",
   "execution_count": 121,
   "id": "f8abd46b",
   "metadata": {},
   "outputs": [
    {
     "data": {
      "text/html": [
       "<div>\n",
       "<style scoped>\n",
       "    .dataframe tbody tr th:only-of-type {\n",
       "        vertical-align: middle;\n",
       "    }\n",
       "\n",
       "    .dataframe tbody tr th {\n",
       "        vertical-align: top;\n",
       "    }\n",
       "\n",
       "    .dataframe thead th {\n",
       "        text-align: right;\n",
       "    }\n",
       "</style>\n",
       "<table border=\"1\" class=\"dataframe\">\n",
       "  <thead>\n",
       "    <tr style=\"text-align: right;\">\n",
       "      <th></th>\n",
       "      <th>Neighborhood</th>\n",
       "      <th>Type</th>\n",
       "      <th>City</th>\n",
       "    </tr>\n",
       "  </thead>\n",
       "  <tbody>\n",
       "    <tr>\n",
       "      <th>47624</th>\n",
       "      <td>Other Lekki</td>\n",
       "      <td>Detached Duplex</td>\n",
       "      <td>Lekki</td>\n",
       "    </tr>\n",
       "    <tr>\n",
       "      <th>23384</th>\n",
       "      <td>Other Lekki</td>\n",
       "      <td>Detached Duplex</td>\n",
       "      <td>Lekki</td>\n",
       "    </tr>\n",
       "    <tr>\n",
       "      <th>18327</th>\n",
       "      <td>Lekki Phase 1</td>\n",
       "      <td>Detached Duplex</td>\n",
       "      <td>Lekki</td>\n",
       "    </tr>\n",
       "    <tr>\n",
       "      <th>63357</th>\n",
       "      <td>Other Victoria Island</td>\n",
       "      <td>Detached Duplex</td>\n",
       "      <td>Victoria Island</td>\n",
       "    </tr>\n",
       "  </tbody>\n",
       "</table>\n",
       "</div>"
      ],
      "text/plain": [
       "                Neighborhood             Type             City\n",
       "47624            Other Lekki  Detached Duplex            Lekki\n",
       "23384            Other Lekki  Detached Duplex            Lekki\n",
       "18327          Lekki Phase 1  Detached Duplex            Lekki\n",
       "63357  Other Victoria Island  Detached Duplex  Victoria Island"
      ]
     },
     "execution_count": 121,
     "metadata": {},
     "output_type": "execute_result"
    }
   ],
   "source": [
    "lagos[categorical_col].sample(4)"
   ]
  },
  {
   "cell_type": "code",
   "execution_count": 122,
   "id": "ec7a353f",
   "metadata": {},
   "outputs": [
    {
     "data": {
      "text/html": [
       "<div>\n",
       "<style scoped>\n",
       "    .dataframe tbody tr th:only-of-type {\n",
       "        vertical-align: middle;\n",
       "    }\n",
       "\n",
       "    .dataframe tbody tr th {\n",
       "        vertical-align: top;\n",
       "    }\n",
       "\n",
       "    .dataframe thead th {\n",
       "        text-align: right;\n",
       "    }\n",
       "</style>\n",
       "<table border=\"1\" class=\"dataframe\">\n",
       "  <thead>\n",
       "    <tr style=\"text-align: right;\">\n",
       "      <th></th>\n",
       "      <th>Bathrooms</th>\n",
       "      <th>Bedrooms</th>\n",
       "      <th>Toilets</th>\n",
       "    </tr>\n",
       "  </thead>\n",
       "  <tbody>\n",
       "    <tr>\n",
       "      <th>55730</th>\n",
       "      <td>4</td>\n",
       "      <td>4</td>\n",
       "      <td>5</td>\n",
       "    </tr>\n",
       "    <tr>\n",
       "      <th>44918</th>\n",
       "      <td>4</td>\n",
       "      <td>4</td>\n",
       "      <td>4</td>\n",
       "    </tr>\n",
       "    <tr>\n",
       "      <th>25239</th>\n",
       "      <td>5</td>\n",
       "      <td>5</td>\n",
       "      <td>5</td>\n",
       "    </tr>\n",
       "    <tr>\n",
       "      <th>38132</th>\n",
       "      <td>5</td>\n",
       "      <td>4</td>\n",
       "      <td>5</td>\n",
       "    </tr>\n",
       "  </tbody>\n",
       "</table>\n",
       "</div>"
      ],
      "text/plain": [
       "       Bathrooms  Bedrooms  Toilets\n",
       "55730          4         4        5\n",
       "44918          4         4        4\n",
       "25239          5         5        5\n",
       "38132          5         4        5"
      ]
     },
     "execution_count": 122,
     "metadata": {},
     "output_type": "execute_result"
    }
   ],
   "source": [
    "lagos[numerical_col].sample(4)"
   ]
  },
  {
   "cell_type": "markdown",
   "metadata": {},
   "source": [
    "#### Handling Missing Data"
   ]
  },
  {
   "cell_type": "markdown",
   "id": "decb680d",
   "metadata": {},
   "source": [
    "Our dataset does not have missing values, but we still need to set a foundation, in case new data cotains some missing values"
   ]
  },
  {
   "cell_type": "code",
   "execution_count": 123,
   "id": "ff8b5cbe",
   "metadata": {},
   "outputs": [],
   "source": [
    "# import library for missing data \n",
    "from sklearn.impute import SimpleImputer"
   ]
  },
  {
   "cell_type": "markdown",
   "id": "5a334b5f",
   "metadata": {},
   "source": [
    "Load the imputer and replacing missing categorical variables with their mode"
   ]
  },
  {
   "cell_type": "code",
   "execution_count": 124,
   "id": "f7c0ba48",
   "metadata": {},
   "outputs": [],
   "source": [
    "categorical_imputer = SimpleImputer(strategy=\"most_frequent\")\n",
    "categorical_imputer.fit(lagos[categorical_col])\n",
    "lagos[categorical_col] = categorical_imputer.transform(lagos[categorical_col])"
   ]
  },
  {
   "cell_type": "markdown",
   "metadata": {},
   "source": [
    "Saving Imputer for future use in model deployment"
   ]
  },
  {
   "cell_type": "code",
   "execution_count": 125,
   "metadata": {},
   "outputs": [
    {
     "data": {
      "text/plain": [
       "['tools/imputer_joblib']"
      ]
     },
     "execution_count": 125,
     "metadata": {},
     "output_type": "execute_result"
    }
   ],
   "source": [
    "joblib.dump(categorical_imputer, \"tools/imputer_joblib\")"
   ]
  },
  {
   "cell_type": "markdown",
   "id": "d46148f1",
   "metadata": {},
   "source": [
    "#### Feature Scaling"
   ]
  },
  {
   "cell_type": "markdown",
   "metadata": {},
   "source": [
    "Scaling for all our features to be in the same range of -3 to 3"
   ]
  },
  {
   "cell_type": "code",
   "execution_count": 126,
   "metadata": {},
   "outputs": [],
   "source": [
    "# import library for scaling\n",
    "from sklearn.preprocessing import StandardScaler"
   ]
  },
  {
   "cell_type": "code",
   "execution_count": 127,
   "metadata": {},
   "outputs": [],
   "source": [
    "# load the scaler and scale the values\n",
    "scaler = StandardScaler()\n",
    "scaler.fit(lagos[numerical_col])\n",
    "lagos[numerical_col] = scaler.transform(lagos[numerical_col])"
   ]
  },
  {
   "cell_type": "markdown",
   "metadata": {},
   "source": [
    "Saving Scaler for future use in model deployment"
   ]
  },
  {
   "cell_type": "code",
   "execution_count": 128,
   "metadata": {},
   "outputs": [
    {
     "data": {
      "text/plain": [
       "['tools/scaler_joblib']"
      ]
     },
     "execution_count": 128,
     "metadata": {},
     "output_type": "execute_result"
    }
   ],
   "source": [
    "joblib.dump(scaler, \"tools/scaler_joblib\")"
   ]
  },
  {
   "cell_type": "markdown",
   "metadata": {},
   "source": [
    "#### Feature Encoding"
   ]
  },
  {
   "cell_type": "markdown",
   "id": "13e39754",
   "metadata": {},
   "source": [
    "We need to perform OneHotEncoding on some of the norminal categorical variables (variables with no order e.g. Nigeria, Congo, Ghana)"
   ]
  },
  {
   "cell_type": "code",
   "execution_count": 129,
   "id": "61510154",
   "metadata": {},
   "outputs": [],
   "source": [
    "# import library for encoding\n",
    "from feature_engine.encoding import OneHotEncoder"
   ]
  },
  {
   "cell_type": "code",
   "execution_count": 130,
   "metadata": {},
   "outputs": [],
   "source": [
    "encoder = OneHotEncoder()\n",
    "encoder.fit(lagos)\n",
    "lagos = encoder.transform(lagos)"
   ]
  },
  {
   "cell_type": "markdown",
   "metadata": {},
   "source": [
    "Saving Encoder for future use in model deployment"
   ]
  },
  {
   "cell_type": "code",
   "execution_count": 131,
   "metadata": {},
   "outputs": [
    {
     "data": {
      "text/plain": [
       "['tools/encoder_joblib']"
      ]
     },
     "execution_count": 131,
     "metadata": {},
     "output_type": "execute_result"
    }
   ],
   "source": [
    "joblib.dump(encoder, \"tools/encoder_joblib\")"
   ]
  },
  {
   "cell_type": "code",
   "execution_count": 132,
   "metadata": {},
   "outputs": [
    {
     "data": {
      "text/html": [
       "<div>\n",
       "<style scoped>\n",
       "    .dataframe tbody tr th:only-of-type {\n",
       "        vertical-align: middle;\n",
       "    }\n",
       "\n",
       "    .dataframe tbody tr th {\n",
       "        vertical-align: top;\n",
       "    }\n",
       "\n",
       "    .dataframe thead th {\n",
       "        text-align: right;\n",
       "    }\n",
       "</style>\n",
       "<table border=\"1\" class=\"dataframe\">\n",
       "  <thead>\n",
       "    <tr style=\"text-align: right;\">\n",
       "      <th></th>\n",
       "      <th>Serviced</th>\n",
       "      <th>Newly Built</th>\n",
       "      <th>Furnished</th>\n",
       "      <th>Bedrooms</th>\n",
       "      <th>Bathrooms</th>\n",
       "      <th>Toilets</th>\n",
       "      <th>Neighborhood_Opebi</th>\n",
       "      <th>Neighborhood_Other Lekki</th>\n",
       "      <th>Neighborhood_Adeniyi Jones</th>\n",
       "      <th>Neighborhood_Lekki Phase 1</th>\n",
       "      <th>...</th>\n",
       "      <th>Neighborhood_Airport Road</th>\n",
       "      <th>Neighborhood_Awolowo Way</th>\n",
       "      <th>Neighborhood_Agidingbi</th>\n",
       "      <th>Type_Semi Detached Duplex</th>\n",
       "      <th>Type_Detached Duplex</th>\n",
       "      <th>Type_Terraced Duplex</th>\n",
       "      <th>City_Ikeja</th>\n",
       "      <th>City_Lekki</th>\n",
       "      <th>City_Ikoyi</th>\n",
       "      <th>City_Victoria Island</th>\n",
       "    </tr>\n",
       "  </thead>\n",
       "  <tbody>\n",
       "    <tr>\n",
       "      <th>3619</th>\n",
       "      <td>0</td>\n",
       "      <td>0</td>\n",
       "      <td>0</td>\n",
       "      <td>-0.481408</td>\n",
       "      <td>-0.582738</td>\n",
       "      <td>-0.170592</td>\n",
       "      <td>1</td>\n",
       "      <td>0</td>\n",
       "      <td>0</td>\n",
       "      <td>0</td>\n",
       "      <td>...</td>\n",
       "      <td>0</td>\n",
       "      <td>0</td>\n",
       "      <td>0</td>\n",
       "      <td>1</td>\n",
       "      <td>0</td>\n",
       "      <td>0</td>\n",
       "      <td>1</td>\n",
       "      <td>0</td>\n",
       "      <td>0</td>\n",
       "      <td>0</td>\n",
       "    </tr>\n",
       "    <tr>\n",
       "      <th>35085</th>\n",
       "      <td>0</td>\n",
       "      <td>0</td>\n",
       "      <td>0</td>\n",
       "      <td>-0.481408</td>\n",
       "      <td>-0.582738</td>\n",
       "      <td>0.736067</td>\n",
       "      <td>0</td>\n",
       "      <td>1</td>\n",
       "      <td>0</td>\n",
       "      <td>0</td>\n",
       "      <td>...</td>\n",
       "      <td>0</td>\n",
       "      <td>0</td>\n",
       "      <td>0</td>\n",
       "      <td>0</td>\n",
       "      <td>1</td>\n",
       "      <td>0</td>\n",
       "      <td>0</td>\n",
       "      <td>1</td>\n",
       "      <td>0</td>\n",
       "      <td>0</td>\n",
       "    </tr>\n",
       "    <tr>\n",
       "      <th>4148</th>\n",
       "      <td>0</td>\n",
       "      <td>0</td>\n",
       "      <td>0</td>\n",
       "      <td>4.529648</td>\n",
       "      <td>3.233198</td>\n",
       "      <td>2.549384</td>\n",
       "      <td>0</td>\n",
       "      <td>0</td>\n",
       "      <td>1</td>\n",
       "      <td>0</td>\n",
       "      <td>...</td>\n",
       "      <td>0</td>\n",
       "      <td>0</td>\n",
       "      <td>0</td>\n",
       "      <td>0</td>\n",
       "      <td>1</td>\n",
       "      <td>0</td>\n",
       "      <td>1</td>\n",
       "      <td>0</td>\n",
       "      <td>0</td>\n",
       "      <td>0</td>\n",
       "    </tr>\n",
       "    <tr>\n",
       "      <th>61009</th>\n",
       "      <td>0</td>\n",
       "      <td>0</td>\n",
       "      <td>0</td>\n",
       "      <td>-0.481408</td>\n",
       "      <td>-0.582738</td>\n",
       "      <td>-1.077250</td>\n",
       "      <td>0</td>\n",
       "      <td>0</td>\n",
       "      <td>0</td>\n",
       "      <td>1</td>\n",
       "      <td>...</td>\n",
       "      <td>0</td>\n",
       "      <td>0</td>\n",
       "      <td>0</td>\n",
       "      <td>1</td>\n",
       "      <td>0</td>\n",
       "      <td>0</td>\n",
       "      <td>0</td>\n",
       "      <td>1</td>\n",
       "      <td>0</td>\n",
       "      <td>0</td>\n",
       "    </tr>\n",
       "    <tr>\n",
       "      <th>44805</th>\n",
       "      <td>0</td>\n",
       "      <td>1</td>\n",
       "      <td>0</td>\n",
       "      <td>0.771356</td>\n",
       "      <td>1.325230</td>\n",
       "      <td>-0.170592</td>\n",
       "      <td>0</td>\n",
       "      <td>1</td>\n",
       "      <td>0</td>\n",
       "      <td>0</td>\n",
       "      <td>...</td>\n",
       "      <td>0</td>\n",
       "      <td>0</td>\n",
       "      <td>0</td>\n",
       "      <td>0</td>\n",
       "      <td>1</td>\n",
       "      <td>0</td>\n",
       "      <td>0</td>\n",
       "      <td>1</td>\n",
       "      <td>0</td>\n",
       "      <td>0</td>\n",
       "    </tr>\n",
       "    <tr>\n",
       "      <th>...</th>\n",
       "      <td>...</td>\n",
       "      <td>...</td>\n",
       "      <td>...</td>\n",
       "      <td>...</td>\n",
       "      <td>...</td>\n",
       "      <td>...</td>\n",
       "      <td>...</td>\n",
       "      <td>...</td>\n",
       "      <td>...</td>\n",
       "      <td>...</td>\n",
       "      <td>...</td>\n",
       "      <td>...</td>\n",
       "      <td>...</td>\n",
       "      <td>...</td>\n",
       "      <td>...</td>\n",
       "      <td>...</td>\n",
       "      <td>...</td>\n",
       "      <td>...</td>\n",
       "      <td>...</td>\n",
       "      <td>...</td>\n",
       "      <td>...</td>\n",
       "    </tr>\n",
       "    <tr>\n",
       "      <th>54238</th>\n",
       "      <td>1</td>\n",
       "      <td>1</td>\n",
       "      <td>0</td>\n",
       "      <td>0.771356</td>\n",
       "      <td>-0.582738</td>\n",
       "      <td>-0.170592</td>\n",
       "      <td>0</td>\n",
       "      <td>0</td>\n",
       "      <td>0</td>\n",
       "      <td>0</td>\n",
       "      <td>...</td>\n",
       "      <td>0</td>\n",
       "      <td>0</td>\n",
       "      <td>0</td>\n",
       "      <td>0</td>\n",
       "      <td>1</td>\n",
       "      <td>0</td>\n",
       "      <td>0</td>\n",
       "      <td>1</td>\n",
       "      <td>0</td>\n",
       "      <td>0</td>\n",
       "    </tr>\n",
       "    <tr>\n",
       "      <th>25839</th>\n",
       "      <td>0</td>\n",
       "      <td>1</td>\n",
       "      <td>0</td>\n",
       "      <td>0.771356</td>\n",
       "      <td>0.371246</td>\n",
       "      <td>0.736067</td>\n",
       "      <td>0</td>\n",
       "      <td>0</td>\n",
       "      <td>0</td>\n",
       "      <td>0</td>\n",
       "      <td>...</td>\n",
       "      <td>0</td>\n",
       "      <td>0</td>\n",
       "      <td>0</td>\n",
       "      <td>0</td>\n",
       "      <td>1</td>\n",
       "      <td>0</td>\n",
       "      <td>0</td>\n",
       "      <td>1</td>\n",
       "      <td>0</td>\n",
       "      <td>0</td>\n",
       "    </tr>\n",
       "    <tr>\n",
       "      <th>61773</th>\n",
       "      <td>0</td>\n",
       "      <td>0</td>\n",
       "      <td>0</td>\n",
       "      <td>-0.481408</td>\n",
       "      <td>-0.582738</td>\n",
       "      <td>-0.170592</td>\n",
       "      <td>0</td>\n",
       "      <td>1</td>\n",
       "      <td>0</td>\n",
       "      <td>0</td>\n",
       "      <td>...</td>\n",
       "      <td>0</td>\n",
       "      <td>0</td>\n",
       "      <td>0</td>\n",
       "      <td>1</td>\n",
       "      <td>0</td>\n",
       "      <td>0</td>\n",
       "      <td>0</td>\n",
       "      <td>1</td>\n",
       "      <td>0</td>\n",
       "      <td>0</td>\n",
       "    </tr>\n",
       "    <tr>\n",
       "      <th>22561</th>\n",
       "      <td>0</td>\n",
       "      <td>1</td>\n",
       "      <td>0</td>\n",
       "      <td>0.771356</td>\n",
       "      <td>1.325230</td>\n",
       "      <td>0.736067</td>\n",
       "      <td>0</td>\n",
       "      <td>0</td>\n",
       "      <td>0</td>\n",
       "      <td>0</td>\n",
       "      <td>...</td>\n",
       "      <td>0</td>\n",
       "      <td>0</td>\n",
       "      <td>0</td>\n",
       "      <td>0</td>\n",
       "      <td>1</td>\n",
       "      <td>0</td>\n",
       "      <td>0</td>\n",
       "      <td>1</td>\n",
       "      <td>0</td>\n",
       "      <td>0</td>\n",
       "    </tr>\n",
       "    <tr>\n",
       "      <th>48688</th>\n",
       "      <td>0</td>\n",
       "      <td>1</td>\n",
       "      <td>0</td>\n",
       "      <td>-1.734172</td>\n",
       "      <td>-0.582738</td>\n",
       "      <td>-1.077250</td>\n",
       "      <td>0</td>\n",
       "      <td>0</td>\n",
       "      <td>0</td>\n",
       "      <td>0</td>\n",
       "      <td>...</td>\n",
       "      <td>0</td>\n",
       "      <td>0</td>\n",
       "      <td>0</td>\n",
       "      <td>0</td>\n",
       "      <td>0</td>\n",
       "      <td>1</td>\n",
       "      <td>0</td>\n",
       "      <td>1</td>\n",
       "      <td>0</td>\n",
       "      <td>0</td>\n",
       "    </tr>\n",
       "  </tbody>\n",
       "</table>\n",
       "<p>8408 rows × 45 columns</p>\n",
       "</div>"
      ],
      "text/plain": [
       "       Serviced  Newly Built  Furnished  Bedrooms  Bathrooms   Toilets  \\\n",
       "3619          0            0          0 -0.481408  -0.582738 -0.170592   \n",
       "35085         0            0          0 -0.481408  -0.582738  0.736067   \n",
       "4148          0            0          0  4.529648   3.233198  2.549384   \n",
       "61009         0            0          0 -0.481408  -0.582738 -1.077250   \n",
       "44805         0            1          0  0.771356   1.325230 -0.170592   \n",
       "...         ...          ...        ...       ...        ...       ...   \n",
       "54238         1            1          0  0.771356  -0.582738 -0.170592   \n",
       "25839         0            1          0  0.771356   0.371246  0.736067   \n",
       "61773         0            0          0 -0.481408  -0.582738 -0.170592   \n",
       "22561         0            1          0  0.771356   1.325230  0.736067   \n",
       "48688         0            1          0 -1.734172  -0.582738 -1.077250   \n",
       "\n",
       "       Neighborhood_Opebi  Neighborhood_Other Lekki  \\\n",
       "3619                    1                         0   \n",
       "35085                   0                         1   \n",
       "4148                    0                         0   \n",
       "61009                   0                         0   \n",
       "44805                   0                         1   \n",
       "...                   ...                       ...   \n",
       "54238                   0                         0   \n",
       "25839                   0                         0   \n",
       "61773                   0                         1   \n",
       "22561                   0                         0   \n",
       "48688                   0                         0   \n",
       "\n",
       "       Neighborhood_Adeniyi Jones  Neighborhood_Lekki Phase 1  ...  \\\n",
       "3619                            0                           0  ...   \n",
       "35085                           0                           0  ...   \n",
       "4148                            1                           0  ...   \n",
       "61009                           0                           1  ...   \n",
       "44805                           0                           0  ...   \n",
       "...                           ...                         ...  ...   \n",
       "54238                           0                           0  ...   \n",
       "25839                           0                           0  ...   \n",
       "61773                           0                           0  ...   \n",
       "22561                           0                           0  ...   \n",
       "48688                           0                           0  ...   \n",
       "\n",
       "       Neighborhood_Airport Road  Neighborhood_Awolowo Way  \\\n",
       "3619                           0                         0   \n",
       "35085                          0                         0   \n",
       "4148                           0                         0   \n",
       "61009                          0                         0   \n",
       "44805                          0                         0   \n",
       "...                          ...                       ...   \n",
       "54238                          0                         0   \n",
       "25839                          0                         0   \n",
       "61773                          0                         0   \n",
       "22561                          0                         0   \n",
       "48688                          0                         0   \n",
       "\n",
       "       Neighborhood_Agidingbi  Type_Semi Detached Duplex  \\\n",
       "3619                        0                          1   \n",
       "35085                       0                          0   \n",
       "4148                        0                          0   \n",
       "61009                       0                          1   \n",
       "44805                       0                          0   \n",
       "...                       ...                        ...   \n",
       "54238                       0                          0   \n",
       "25839                       0                          0   \n",
       "61773                       0                          1   \n",
       "22561                       0                          0   \n",
       "48688                       0                          0   \n",
       "\n",
       "       Type_Detached Duplex  Type_Terraced Duplex  City_Ikeja  City_Lekki  \\\n",
       "3619                      0                     0           1           0   \n",
       "35085                     1                     0           0           1   \n",
       "4148                      1                     0           1           0   \n",
       "61009                     0                     0           0           1   \n",
       "44805                     1                     0           0           1   \n",
       "...                     ...                   ...         ...         ...   \n",
       "54238                     1                     0           0           1   \n",
       "25839                     1                     0           0           1   \n",
       "61773                     0                     0           0           1   \n",
       "22561                     1                     0           0           1   \n",
       "48688                     0                     1           0           1   \n",
       "\n",
       "       City_Ikoyi  City_Victoria Island  \n",
       "3619            0                     0  \n",
       "35085           0                     0  \n",
       "4148            0                     0  \n",
       "61009           0                     0  \n",
       "44805           0                     0  \n",
       "...           ...                   ...  \n",
       "54238           0                     0  \n",
       "25839           0                     0  \n",
       "61773           0                     0  \n",
       "22561           0                     0  \n",
       "48688           0                     0  \n",
       "\n",
       "[8408 rows x 45 columns]"
      ]
     },
     "execution_count": 132,
     "metadata": {},
     "output_type": "execute_result"
    }
   ],
   "source": [
    "lagos"
   ]
  },
  {
   "cell_type": "markdown",
   "metadata": {},
   "source": [
    "Save preprocessed data for Model Building"
   ]
  },
  {
   "cell_type": "code",
   "execution_count": 133,
   "metadata": {},
   "outputs": [],
   "source": [
    "lagos = pd.concat([lagos, price], axis=1)"
   ]
  },
  {
   "cell_type": "code",
   "execution_count": 134,
   "metadata": {},
   "outputs": [],
   "source": [
    "lagos.to_csv('clean/train.csv', index=False)\n",
    "test_set.to_csv('clean/test.csv', index=False)\n",
    "validation_set.to_csv('clean/validation.csv', index=False)"
   ]
  }
 ],
 "metadata": {
  "kernelspec": {
   "display_name": "Python 3.9.12 ('base')",
   "language": "python",
   "name": "python3"
  },
  "language_info": {
   "codemirror_mode": {
    "name": "ipython",
    "version": 3
   },
   "file_extension": ".py",
   "mimetype": "text/x-python",
   "name": "python",
   "nbconvert_exporter": "python",
   "pygments_lexer": "ipython3",
   "version": "3.9.12"
  },
  "orig_nbformat": 4,
  "vscode": {
   "interpreter": {
    "hash": "397fa5c989aefacd265b089cd9fa90a007575229207dba4eead3a1aa550249df"
   }
  }
 },
 "nbformat": 4,
 "nbformat_minor": 2
}
