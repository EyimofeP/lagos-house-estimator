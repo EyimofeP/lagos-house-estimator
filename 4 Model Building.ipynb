{
 "cells": [
  {
   "cell_type": "markdown",
   "id": "e5def406",
   "metadata": {},
   "source": [
    "# Lagos House Predictor\n",
    "\n",
    "Predicting the price of homes in Lagos based off data scraped from [PropertPro.ng](https://www.propertypro.ng/property-for-sale/in/lagos)\n",
    "\n",
    "___\n",
    "\n",
    "* Type of Machine Learning Method\n",
    "    * Supervised Learning\n",
    "        * Regression\n",
    "            * LightGBM Regressor\n",
    "                * MAE - ₦45.9 million\n",
    "___\n",
    "* Dataset Used\n",
    "     * Data was scraped from [PropertPro.ng](https://www.propertypro.ng/property-for-sale/in/lagos), code for the script is found at Web Scraper notebook"
   ]
  },
  {
   "cell_type": "markdown",
   "id": "3cfb91d0",
   "metadata": {},
   "source": [
    "## Import Dataset\n",
    "\n",
    "We first would import the necessary libraries we need at the moment, we will import others as when they are needed"
   ]
  },
  {
   "cell_type": "code",
   "execution_count": 93,
   "id": "59efff48",
   "metadata": {},
   "outputs": [],
   "source": [
    "import numpy as np # for numerical analysis\n",
    "import pandas as pd # for data manipulation\n",
    "import joblib # for saving tools for future use\n",
    "\n",
    "# for plotting graphs\n",
    "import seaborn as sns \n",
    "import matplotlib.pyplot as plt\n",
    "%matplotlib inline\n",
    "sns.set_style(\"darkgrid\")"
   ]
  },
  {
   "cell_type": "markdown",
   "id": "57d9faf6",
   "metadata": {},
   "source": [
    "Importing train, test and validation dataset"
   ]
  },
  {
   "cell_type": "code",
   "execution_count": 94,
   "id": "0faec604",
   "metadata": {},
   "outputs": [],
   "source": [
    "train = pd.read_csv(\"clean/train.csv\")\n",
    "test = pd.read_csv(\"clean/test.csv\")\n",
    "validation = pd.read_csv(\"clean/validation.csv\")"
   ]
  },
  {
   "cell_type": "code",
   "execution_count": 95,
   "id": "9cd114ae",
   "metadata": {},
   "outputs": [
    {
     "data": {
      "text/html": [
       "<div>\n",
       "<style scoped>\n",
       "    .dataframe tbody tr th:only-of-type {\n",
       "        vertical-align: middle;\n",
       "    }\n",
       "\n",
       "    .dataframe tbody tr th {\n",
       "        vertical-align: top;\n",
       "    }\n",
       "\n",
       "    .dataframe thead th {\n",
       "        text-align: right;\n",
       "    }\n",
       "</style>\n",
       "<table border=\"1\" class=\"dataframe\">\n",
       "  <thead>\n",
       "    <tr style=\"text-align: right;\">\n",
       "      <th></th>\n",
       "      <th>Serviced</th>\n",
       "      <th>Newly Built</th>\n",
       "      <th>Furnished</th>\n",
       "      <th>Bedrooms</th>\n",
       "      <th>Bathrooms</th>\n",
       "      <th>Toilets</th>\n",
       "      <th>Neighborhood_Opebi</th>\n",
       "      <th>Neighborhood_Other Lekki</th>\n",
       "      <th>Neighborhood_Adeniyi Jones</th>\n",
       "      <th>Neighborhood_Lekki Phase 1</th>\n",
       "      <th>...</th>\n",
       "      <th>Neighborhood_Awolowo Way</th>\n",
       "      <th>Neighborhood_Agidingbi</th>\n",
       "      <th>Type_Semi Detached Duplex</th>\n",
       "      <th>Type_Detached Duplex</th>\n",
       "      <th>Type_Terraced Duplex</th>\n",
       "      <th>City_Ikeja</th>\n",
       "      <th>City_Lekki</th>\n",
       "      <th>City_Ikoyi</th>\n",
       "      <th>City_Victoria Island</th>\n",
       "      <th>Price</th>\n",
       "    </tr>\n",
       "  </thead>\n",
       "  <tbody>\n",
       "    <tr>\n",
       "      <th>0</th>\n",
       "      <td>0</td>\n",
       "      <td>0</td>\n",
       "      <td>0</td>\n",
       "      <td>-0.481408</td>\n",
       "      <td>-0.582738</td>\n",
       "      <td>-0.170592</td>\n",
       "      <td>1</td>\n",
       "      <td>0</td>\n",
       "      <td>0</td>\n",
       "      <td>0</td>\n",
       "      <td>...</td>\n",
       "      <td>0</td>\n",
       "      <td>0</td>\n",
       "      <td>1</td>\n",
       "      <td>0</td>\n",
       "      <td>0</td>\n",
       "      <td>1</td>\n",
       "      <td>0</td>\n",
       "      <td>0</td>\n",
       "      <td>0</td>\n",
       "      <td>90000000.0</td>\n",
       "    </tr>\n",
       "    <tr>\n",
       "      <th>1</th>\n",
       "      <td>0</td>\n",
       "      <td>0</td>\n",
       "      <td>0</td>\n",
       "      <td>-0.481408</td>\n",
       "      <td>-0.582738</td>\n",
       "      <td>0.736067</td>\n",
       "      <td>0</td>\n",
       "      <td>1</td>\n",
       "      <td>0</td>\n",
       "      <td>0</td>\n",
       "      <td>...</td>\n",
       "      <td>0</td>\n",
       "      <td>0</td>\n",
       "      <td>0</td>\n",
       "      <td>1</td>\n",
       "      <td>0</td>\n",
       "      <td>0</td>\n",
       "      <td>1</td>\n",
       "      <td>0</td>\n",
       "      <td>0</td>\n",
       "      <td>125000000.0</td>\n",
       "    </tr>\n",
       "    <tr>\n",
       "      <th>2</th>\n",
       "      <td>0</td>\n",
       "      <td>0</td>\n",
       "      <td>0</td>\n",
       "      <td>4.529648</td>\n",
       "      <td>3.233198</td>\n",
       "      <td>2.549384</td>\n",
       "      <td>0</td>\n",
       "      <td>0</td>\n",
       "      <td>1</td>\n",
       "      <td>0</td>\n",
       "      <td>...</td>\n",
       "      <td>0</td>\n",
       "      <td>0</td>\n",
       "      <td>0</td>\n",
       "      <td>1</td>\n",
       "      <td>0</td>\n",
       "      <td>1</td>\n",
       "      <td>0</td>\n",
       "      <td>0</td>\n",
       "      <td>0</td>\n",
       "      <td>300000000.0</td>\n",
       "    </tr>\n",
       "    <tr>\n",
       "      <th>3</th>\n",
       "      <td>0</td>\n",
       "      <td>0</td>\n",
       "      <td>0</td>\n",
       "      <td>-0.481408</td>\n",
       "      <td>-0.582738</td>\n",
       "      <td>-1.077250</td>\n",
       "      <td>0</td>\n",
       "      <td>0</td>\n",
       "      <td>0</td>\n",
       "      <td>1</td>\n",
       "      <td>...</td>\n",
       "      <td>0</td>\n",
       "      <td>0</td>\n",
       "      <td>1</td>\n",
       "      <td>0</td>\n",
       "      <td>0</td>\n",
       "      <td>0</td>\n",
       "      <td>1</td>\n",
       "      <td>0</td>\n",
       "      <td>0</td>\n",
       "      <td>180000000.0</td>\n",
       "    </tr>\n",
       "    <tr>\n",
       "      <th>4</th>\n",
       "      <td>0</td>\n",
       "      <td>1</td>\n",
       "      <td>0</td>\n",
       "      <td>0.771356</td>\n",
       "      <td>1.325230</td>\n",
       "      <td>-0.170592</td>\n",
       "      <td>0</td>\n",
       "      <td>1</td>\n",
       "      <td>0</td>\n",
       "      <td>0</td>\n",
       "      <td>...</td>\n",
       "      <td>0</td>\n",
       "      <td>0</td>\n",
       "      <td>0</td>\n",
       "      <td>1</td>\n",
       "      <td>0</td>\n",
       "      <td>0</td>\n",
       "      <td>1</td>\n",
       "      <td>0</td>\n",
       "      <td>0</td>\n",
       "      <td>55000000.0</td>\n",
       "    </tr>\n",
       "  </tbody>\n",
       "</table>\n",
       "<p>5 rows × 46 columns</p>\n",
       "</div>"
      ],
      "text/plain": [
       "   Serviced  Newly Built  Furnished  Bedrooms  Bathrooms   Toilets  \\\n",
       "0         0            0          0 -0.481408  -0.582738 -0.170592   \n",
       "1         0            0          0 -0.481408  -0.582738  0.736067   \n",
       "2         0            0          0  4.529648   3.233198  2.549384   \n",
       "3         0            0          0 -0.481408  -0.582738 -1.077250   \n",
       "4         0            1          0  0.771356   1.325230 -0.170592   \n",
       "\n",
       "   Neighborhood_Opebi  Neighborhood_Other Lekki  Neighborhood_Adeniyi Jones  \\\n",
       "0                   1                         0                           0   \n",
       "1                   0                         1                           0   \n",
       "2                   0                         0                           1   \n",
       "3                   0                         0                           0   \n",
       "4                   0                         1                           0   \n",
       "\n",
       "   Neighborhood_Lekki Phase 1  ...  Neighborhood_Awolowo Way  \\\n",
       "0                           0  ...                         0   \n",
       "1                           0  ...                         0   \n",
       "2                           0  ...                         0   \n",
       "3                           1  ...                         0   \n",
       "4                           0  ...                         0   \n",
       "\n",
       "   Neighborhood_Agidingbi  Type_Semi Detached Duplex  Type_Detached Duplex  \\\n",
       "0                       0                          1                     0   \n",
       "1                       0                          0                     1   \n",
       "2                       0                          0                     1   \n",
       "3                       0                          1                     0   \n",
       "4                       0                          0                     1   \n",
       "\n",
       "   Type_Terraced Duplex  City_Ikeja  City_Lekki  City_Ikoyi  \\\n",
       "0                     0           1           0           0   \n",
       "1                     0           0           1           0   \n",
       "2                     0           1           0           0   \n",
       "3                     0           0           1           0   \n",
       "4                     0           0           1           0   \n",
       "\n",
       "   City_Victoria Island        Price  \n",
       "0                     0   90000000.0  \n",
       "1                     0  125000000.0  \n",
       "2                     0  300000000.0  \n",
       "3                     0  180000000.0  \n",
       "4                     0   55000000.0  \n",
       "\n",
       "[5 rows x 46 columns]"
      ]
     },
     "execution_count": 95,
     "metadata": {},
     "output_type": "execute_result"
    }
   ],
   "source": [
    "train.head()"
   ]
  },
  {
   "cell_type": "markdown",
   "id": "ab42d062",
   "metadata": {},
   "source": [
    "We can see from the data above we have 44 features as our Target Variable is **Price**"
   ]
  },
  {
   "cell_type": "code",
   "execution_count": 96,
   "id": "fb1146df",
   "metadata": {},
   "outputs": [
    {
     "data": {
      "text/plain": [
       "(8408, 46)"
      ]
     },
     "execution_count": 96,
     "metadata": {},
     "output_type": "execute_result"
    }
   ],
   "source": [
    "train.shape"
   ]
  },
  {
   "cell_type": "markdown",
   "id": "fddf3bde",
   "metadata": {},
   "source": [
    "## Preprocessing of Validation data"
   ]
  },
  {
   "cell_type": "markdown",
   "id": "aa9f5e70",
   "metadata": {},
   "source": [
    "Let's do the necessary splits"
   ]
  },
  {
   "cell_type": "code",
   "execution_count": 97,
   "id": "b51bf824",
   "metadata": {},
   "outputs": [],
   "source": [
    "X_train = train.drop([\"Price\"], axis=1)\n",
    "y_train = train[\"Price\"]"
   ]
  },
  {
   "cell_type": "markdown",
   "id": "7dbd4234",
   "metadata": {},
   "source": [
    "Here are the categorical and numerical features that need to be preprocessed"
   ]
  },
  {
   "cell_type": "code",
   "execution_count": 98,
   "id": "9d654fec",
   "metadata": {},
   "outputs": [],
   "source": [
    "category = ['Neighborhood', 'Type', 'City']\n",
    "numerical = ['Bathrooms', 'Bedrooms', 'Toilets']"
   ]
  },
  {
   "cell_type": "markdown",
   "id": "8bfc604b",
   "metadata": {},
   "source": [
    "Importing tools needed for preprocessing"
   ]
  },
  {
   "cell_type": "code",
   "execution_count": 99,
   "id": "3908790f",
   "metadata": {},
   "outputs": [],
   "source": [
    "encoder = joblib.load(\"tools/encoder_joblib\")\n",
    "imputer = joblib.load(\"tools/imputer_joblib\")\n",
    "scaler = joblib.load(\"tools/scaler_joblib\")"
   ]
  },
  {
   "cell_type": "markdown",
   "id": "38aa5e22",
   "metadata": {},
   "source": [
    "Splitting validation data"
   ]
  },
  {
   "cell_type": "code",
   "execution_count": 100,
   "id": "fea66ea4",
   "metadata": {},
   "outputs": [],
   "source": [
    "X_val = validation.drop([\"Price\"], axis=1)\n",
    "y_val = validation[\"Price\"]"
   ]
  },
  {
   "cell_type": "markdown",
   "id": "5096ed5f",
   "metadata": {},
   "source": [
    "Here we are preprocessing the validation data so it can be used by the machine learning model"
   ]
  },
  {
   "cell_type": "code",
   "execution_count": 101,
   "id": "7bb35012",
   "metadata": {},
   "outputs": [],
   "source": [
    "X_val[category] = imputer.transform(X_val[category]) # imputing missing values\n",
    "X_val[numerical] = scaler.transform(X_val[numerical]) # scaling numerical values \n",
    "X_val = encoder.transform(X_val) # enconding categorical values"
   ]
  },
  {
   "cell_type": "markdown",
   "id": "b3a1c6f6",
   "metadata": {},
   "source": [
    "## Model Building and Validation"
   ]
  },
  {
   "cell_type": "markdown",
   "id": "ae28f59b",
   "metadata": {},
   "source": [
    "Lets import the necessary machinne learning models that would be used for fitting the data"
   ]
  },
  {
   "cell_type": "code",
   "execution_count": 102,
   "id": "8e02ac2d",
   "metadata": {},
   "outputs": [],
   "source": [
    "from sklearn.ensemble import RandomForestRegressor # Random Forest\n",
    "from xgboost import XGBRegressor # XGBoost\n",
    "from sklearn.svm import SVR # SVM\n",
    "from sklearn.neighbors import KNeighborsRegressor # KNN\n",
    "from lightgbm import LGBMRegressor # LightGBM"
   ]
  },
  {
   "cell_type": "markdown",
   "id": "fd9791fa",
   "metadata": {},
   "source": [
    "### Random Forest"
   ]
  },
  {
   "cell_type": "markdown",
   "id": "2552f3d4",
   "metadata": {},
   "source": [
    "Here we are initializing the model, then fitting the data and making prediction on the validation data"
   ]
  },
  {
   "cell_type": "code",
   "execution_count": 103,
   "id": "1782488f",
   "metadata": {},
   "outputs": [],
   "source": [
    "rf = RandomForestRegressor(random_state=51) \n",
    "rf.fit(X_train, y_train)\n",
    "rf_predictions = rf.predict(X_val)"
   ]
  },
  {
   "cell_type": "markdown",
   "id": "6b866e4f",
   "metadata": {},
   "source": [
    "### XGBoost"
   ]
  },
  {
   "cell_type": "code",
   "execution_count": 104,
   "id": "ae751344",
   "metadata": {},
   "outputs": [],
   "source": [
    "xgb = XGBRegressor(random_state=51, n_estimators=10, max_depth=5)\n",
    "xgb.fit(X_train, y_train)\n",
    "xgb_predictions = xgb.predict(X_val)"
   ]
  },
  {
   "cell_type": "markdown",
   "id": "6b866e4f",
   "metadata": {},
   "source": [
    "### LightGBM"
   ]
  },
  {
   "cell_type": "code",
   "execution_count": 105,
   "id": "ae751344",
   "metadata": {},
   "outputs": [],
   "source": [
    "lgb = LGBMRegressor(random_state=51, n_jobs=-1, boosting_type=\"dart\", num_leaves=50, max_depth=7, subsample_for_bin=200, min_child_samples=16)\n",
    "lgb.fit(X_train, y_train)\n",
    "lgb_predictions = lgb.predict(X_val)"
   ]
  },
  {
   "cell_type": "markdown",
   "id": "ee840f2a",
   "metadata": {},
   "source": [
    "### SVM"
   ]
  },
  {
   "cell_type": "code",
   "execution_count": 106,
   "id": "8fe3bc32",
   "metadata": {},
   "outputs": [],
   "source": [
    "svm = SVR()\n",
    "svm.fit(X_train, y_train)\n",
    "svm_predictions = svm.predict(X_val)"
   ]
  },
  {
   "cell_type": "markdown",
   "id": "fc16cc92",
   "metadata": {},
   "source": [
    "### KNN"
   ]
  },
  {
   "cell_type": "code",
   "execution_count": 107,
   "id": "f338846d",
   "metadata": {},
   "outputs": [],
   "source": [
    "knn = KNeighborsRegressor(n_neighbors=16, algorithm=\"ball_tree\")\n",
    "knn.fit(X_train, y_train)\n",
    "knn_predictions = knn.predict(X_val)"
   ]
  },
  {
   "cell_type": "markdown",
   "id": "1b5ca86d",
   "metadata": {},
   "source": [
    "### Model Performance on Validation data"
   ]
  },
  {
   "cell_type": "markdown",
   "id": "fd011792",
   "metadata": {},
   "source": [
    "Here we are checking the performance of the machine learning models on the validation data"
   ]
  },
  {
   "cell_type": "code",
   "execution_count": 108,
   "id": "a90a05f4",
   "metadata": {},
   "outputs": [],
   "source": [
    "# import MAE metric\n",
    "from sklearn.metrics import mean_absolute_error"
   ]
  },
  {
   "cell_type": "code",
   "execution_count": 109,
   "id": "9e101454",
   "metadata": {},
   "outputs": [
    {
     "name": "stdout",
     "output_type": "stream",
     "text": [
      "Random Forests: 48.813402195445256\n",
      "XGBoost: 45.57799470233001\n",
      "LightGBM: 44.631932426370426\n",
      "SVM: 65.83482951681282\n",
      "KNN: 47.52342858559201\n"
     ]
    }
   ],
   "source": [
    "print(f\"Random Forests: {mean_absolute_error(y_val, rf_predictions) / 1e6}\")\n",
    "print(f\"XGBoost: {mean_absolute_error(y_val, xgb_predictions) / 1e6}\")\n",
    "print(f\"LightGBM: {mean_absolute_error(y_val, lgb_predictions) / 1e6}\")\n",
    "print(f\"SVM: {mean_absolute_error(y_val, svm_predictions) / 1e6}\")\n",
    "print(f\"KNN: {mean_absolute_error(y_val, knn_predictions) / 1e6}\")"
   ]
  },
  {
   "cell_type": "markdown",
   "id": "b908237d",
   "metadata": {},
   "source": [
    "## Final Model Building and Prediction on Test Data"
   ]
  },
  {
   "cell_type": "markdown",
   "id": "257d59c2",
   "metadata": {},
   "source": [
    "### Preprocessing on Test Data"
   ]
  },
  {
   "cell_type": "markdown",
   "id": "6eecab2e",
   "metadata": {},
   "source": [
    "Merge Train and Validation data to improve performance"
   ]
  },
  {
   "cell_type": "code",
   "execution_count": 110,
   "id": "a1d7828a",
   "metadata": {},
   "outputs": [],
   "source": [
    "validation = pd.concat([X_val, y_val], axis=1)\n",
    "join_df = pd.concat([train, validation]).sample(frac=1)\n",
    "X = join_df.drop(\"Price\", axis=1)\n",
    "y = join_df[\"Price\"]"
   ]
  },
  {
   "cell_type": "markdown",
   "id": "a9621541",
   "metadata": {},
   "source": [
    "Data Split"
   ]
  },
  {
   "cell_type": "code",
   "execution_count": 111,
   "id": "17eab90c",
   "metadata": {},
   "outputs": [],
   "source": [
    "X_train = join_df.drop([\"Price\"], axis=1)\n",
    "y_train = join_df[\"Price\"]"
   ]
  },
  {
   "cell_type": "markdown",
   "id": "496544dc",
   "metadata": {},
   "source": [
    "Preprocessing Test Data"
   ]
  },
  {
   "cell_type": "code",
   "execution_count": 112,
   "id": "06b49f38",
   "metadata": {},
   "outputs": [],
   "source": [
    "X_test = test.drop([\"Price\"], axis=1)\n",
    "y_test = test[\"Price\"]"
   ]
  },
  {
   "cell_type": "code",
   "execution_count": 113,
   "id": "7bb35012",
   "metadata": {},
   "outputs": [],
   "source": [
    "X_test[category] = imputer.transform(X_test[category])\n",
    "X_test[numerical] = scaler.transform(X_test[numerical])\n",
    "X_test = encoder.transform(X_test)"
   ]
  },
  {
   "cell_type": "markdown",
   "id": "fd9791fa",
   "metadata": {},
   "source": [
    "### Random Forest"
   ]
  },
  {
   "cell_type": "code",
   "execution_count": 136,
   "id": "1782488f",
   "metadata": {},
   "outputs": [
    {
     "data": {
      "text/html": [
       "<style>#sk-container-id-1 {color: black;background-color: white;}#sk-container-id-1 pre{padding: 0;}#sk-container-id-1 div.sk-toggleable {background-color: white;}#sk-container-id-1 label.sk-toggleable__label {cursor: pointer;display: block;width: 100%;margin-bottom: 0;padding: 0.3em;box-sizing: border-box;text-align: center;}#sk-container-id-1 label.sk-toggleable__label-arrow:before {content: \"▸\";float: left;margin-right: 0.25em;color: #696969;}#sk-container-id-1 label.sk-toggleable__label-arrow:hover:before {color: black;}#sk-container-id-1 div.sk-estimator:hover label.sk-toggleable__label-arrow:before {color: black;}#sk-container-id-1 div.sk-toggleable__content {max-height: 0;max-width: 0;overflow: hidden;text-align: left;background-color: #f0f8ff;}#sk-container-id-1 div.sk-toggleable__content pre {margin: 0.2em;color: black;border-radius: 0.25em;background-color: #f0f8ff;}#sk-container-id-1 input.sk-toggleable__control:checked~div.sk-toggleable__content {max-height: 200px;max-width: 100%;overflow: auto;}#sk-container-id-1 input.sk-toggleable__control:checked~label.sk-toggleable__label-arrow:before {content: \"▾\";}#sk-container-id-1 div.sk-estimator input.sk-toggleable__control:checked~label.sk-toggleable__label {background-color: #d4ebff;}#sk-container-id-1 div.sk-label input.sk-toggleable__control:checked~label.sk-toggleable__label {background-color: #d4ebff;}#sk-container-id-1 input.sk-hidden--visually {border: 0;clip: rect(1px 1px 1px 1px);clip: rect(1px, 1px, 1px, 1px);height: 1px;margin: -1px;overflow: hidden;padding: 0;position: absolute;width: 1px;}#sk-container-id-1 div.sk-estimator {font-family: monospace;background-color: #f0f8ff;border: 1px dotted black;border-radius: 0.25em;box-sizing: border-box;margin-bottom: 0.5em;}#sk-container-id-1 div.sk-estimator:hover {background-color: #d4ebff;}#sk-container-id-1 div.sk-parallel-item::after {content: \"\";width: 100%;border-bottom: 1px solid gray;flex-grow: 1;}#sk-container-id-1 div.sk-label:hover label.sk-toggleable__label {background-color: #d4ebff;}#sk-container-id-1 div.sk-serial::before {content: \"\";position: absolute;border-left: 1px solid gray;box-sizing: border-box;top: 0;bottom: 0;left: 50%;z-index: 0;}#sk-container-id-1 div.sk-serial {display: flex;flex-direction: column;align-items: center;background-color: white;padding-right: 0.2em;padding-left: 0.2em;position: relative;}#sk-container-id-1 div.sk-item {position: relative;z-index: 1;}#sk-container-id-1 div.sk-parallel {display: flex;align-items: stretch;justify-content: center;background-color: white;position: relative;}#sk-container-id-1 div.sk-item::before, #sk-container-id-1 div.sk-parallel-item::before {content: \"\";position: absolute;border-left: 1px solid gray;box-sizing: border-box;top: 0;bottom: 0;left: 50%;z-index: -1;}#sk-container-id-1 div.sk-parallel-item {display: flex;flex-direction: column;z-index: 1;position: relative;background-color: white;}#sk-container-id-1 div.sk-parallel-item:first-child::after {align-self: flex-end;width: 50%;}#sk-container-id-1 div.sk-parallel-item:last-child::after {align-self: flex-start;width: 50%;}#sk-container-id-1 div.sk-parallel-item:only-child::after {width: 0;}#sk-container-id-1 div.sk-dashed-wrapped {border: 1px dashed gray;margin: 0 0.4em 0.5em 0.4em;box-sizing: border-box;padding-bottom: 0.4em;background-color: white;}#sk-container-id-1 div.sk-label label {font-family: monospace;font-weight: bold;display: inline-block;line-height: 1.2em;}#sk-container-id-1 div.sk-label-container {text-align: center;}#sk-container-id-1 div.sk-container {/* jupyter's `normalize.less` sets `[hidden] { display: none; }` but bootstrap.min.css set `[hidden] { display: none !important; }` so we also need the `!important` here to be able to override the default hidden behavior on the sphinx rendered scikit-learn.org. See: https://github.com/scikit-learn/scikit-learn/issues/21755 */display: inline-block !important;position: relative;}#sk-container-id-1 div.sk-text-repr-fallback {display: none;}</style><div id=\"sk-container-id-1\" class=\"sk-top-container\"><div class=\"sk-text-repr-fallback\"><pre>RandomForestRegressor(max_depth=10, random_state=51)</pre><b>In a Jupyter environment, please rerun this cell to show the HTML representation or trust the notebook. <br />On GitHub, the HTML representation is unable to render, please try loading this page with nbviewer.org.</b></div><div class=\"sk-container\" hidden><div class=\"sk-item\"><div class=\"sk-estimator sk-toggleable\"><input class=\"sk-toggleable__control sk-hidden--visually\" id=\"sk-estimator-id-1\" type=\"checkbox\" checked><label for=\"sk-estimator-id-1\" class=\"sk-toggleable__label sk-toggleable__label-arrow\">RandomForestRegressor</label><div class=\"sk-toggleable__content\"><pre>RandomForestRegressor(max_depth=10, random_state=51)</pre></div></div></div></div></div>"
      ],
      "text/plain": [
       "RandomForestRegressor(max_depth=10, random_state=51)"
      ]
     },
     "execution_count": 136,
     "metadata": {},
     "output_type": "execute_result"
    }
   ],
   "source": [
    "rf = RandomForestRegressor(random_state=51, max_depth=10)\n",
    "rf.fit(X_train, y_train)"
   ]
  },
  {
   "cell_type": "code",
   "execution_count": 137,
   "id": "485d9703",
   "metadata": {},
   "outputs": [],
   "source": [
    "rf_predictions = rf.predict(X_test)"
   ]
  },
  {
   "cell_type": "markdown",
   "id": "6b866e4f",
   "metadata": {},
   "source": [
    "### XGBoost"
   ]
  },
  {
   "cell_type": "code",
   "execution_count": 138,
   "id": "ae751344",
   "metadata": {},
   "outputs": [
    {
     "data": {
      "text/html": [
       "<style>#sk-container-id-2 {color: black;background-color: white;}#sk-container-id-2 pre{padding: 0;}#sk-container-id-2 div.sk-toggleable {background-color: white;}#sk-container-id-2 label.sk-toggleable__label {cursor: pointer;display: block;width: 100%;margin-bottom: 0;padding: 0.3em;box-sizing: border-box;text-align: center;}#sk-container-id-2 label.sk-toggleable__label-arrow:before {content: \"▸\";float: left;margin-right: 0.25em;color: #696969;}#sk-container-id-2 label.sk-toggleable__label-arrow:hover:before {color: black;}#sk-container-id-2 div.sk-estimator:hover label.sk-toggleable__label-arrow:before {color: black;}#sk-container-id-2 div.sk-toggleable__content {max-height: 0;max-width: 0;overflow: hidden;text-align: left;background-color: #f0f8ff;}#sk-container-id-2 div.sk-toggleable__content pre {margin: 0.2em;color: black;border-radius: 0.25em;background-color: #f0f8ff;}#sk-container-id-2 input.sk-toggleable__control:checked~div.sk-toggleable__content {max-height: 200px;max-width: 100%;overflow: auto;}#sk-container-id-2 input.sk-toggleable__control:checked~label.sk-toggleable__label-arrow:before {content: \"▾\";}#sk-container-id-2 div.sk-estimator input.sk-toggleable__control:checked~label.sk-toggleable__label {background-color: #d4ebff;}#sk-container-id-2 div.sk-label input.sk-toggleable__control:checked~label.sk-toggleable__label {background-color: #d4ebff;}#sk-container-id-2 input.sk-hidden--visually {border: 0;clip: rect(1px 1px 1px 1px);clip: rect(1px, 1px, 1px, 1px);height: 1px;margin: -1px;overflow: hidden;padding: 0;position: absolute;width: 1px;}#sk-container-id-2 div.sk-estimator {font-family: monospace;background-color: #f0f8ff;border: 1px dotted black;border-radius: 0.25em;box-sizing: border-box;margin-bottom: 0.5em;}#sk-container-id-2 div.sk-estimator:hover {background-color: #d4ebff;}#sk-container-id-2 div.sk-parallel-item::after {content: \"\";width: 100%;border-bottom: 1px solid gray;flex-grow: 1;}#sk-container-id-2 div.sk-label:hover label.sk-toggleable__label {background-color: #d4ebff;}#sk-container-id-2 div.sk-serial::before {content: \"\";position: absolute;border-left: 1px solid gray;box-sizing: border-box;top: 0;bottom: 0;left: 50%;z-index: 0;}#sk-container-id-2 div.sk-serial {display: flex;flex-direction: column;align-items: center;background-color: white;padding-right: 0.2em;padding-left: 0.2em;position: relative;}#sk-container-id-2 div.sk-item {position: relative;z-index: 1;}#sk-container-id-2 div.sk-parallel {display: flex;align-items: stretch;justify-content: center;background-color: white;position: relative;}#sk-container-id-2 div.sk-item::before, #sk-container-id-2 div.sk-parallel-item::before {content: \"\";position: absolute;border-left: 1px solid gray;box-sizing: border-box;top: 0;bottom: 0;left: 50%;z-index: -1;}#sk-container-id-2 div.sk-parallel-item {display: flex;flex-direction: column;z-index: 1;position: relative;background-color: white;}#sk-container-id-2 div.sk-parallel-item:first-child::after {align-self: flex-end;width: 50%;}#sk-container-id-2 div.sk-parallel-item:last-child::after {align-self: flex-start;width: 50%;}#sk-container-id-2 div.sk-parallel-item:only-child::after {width: 0;}#sk-container-id-2 div.sk-dashed-wrapped {border: 1px dashed gray;margin: 0 0.4em 0.5em 0.4em;box-sizing: border-box;padding-bottom: 0.4em;background-color: white;}#sk-container-id-2 div.sk-label label {font-family: monospace;font-weight: bold;display: inline-block;line-height: 1.2em;}#sk-container-id-2 div.sk-label-container {text-align: center;}#sk-container-id-2 div.sk-container {/* jupyter's `normalize.less` sets `[hidden] { display: none; }` but bootstrap.min.css set `[hidden] { display: none !important; }` so we also need the `!important` here to be able to override the default hidden behavior on the sphinx rendered scikit-learn.org. See: https://github.com/scikit-learn/scikit-learn/issues/21755 */display: inline-block !important;position: relative;}#sk-container-id-2 div.sk-text-repr-fallback {display: none;}</style><div id=\"sk-container-id-2\" class=\"sk-top-container\"><div class=\"sk-text-repr-fallback\"><pre>XGBRegressor(base_score=0.5, booster=&#x27;gbtree&#x27;, callbacks=None,\n",
       "             colsample_bylevel=1, colsample_bynode=1, colsample_bytree=1,\n",
       "             early_stopping_rounds=None, enable_categorical=False,\n",
       "             eval_metric=None, gamma=0, gpu_id=-1, grow_policy=&#x27;depthwise&#x27;,\n",
       "             importance_type=None, interaction_constraints=&#x27;&#x27;,\n",
       "             learning_rate=0.300000012, max_bin=256, max_cat_to_onehot=4,\n",
       "             max_delta_step=0, max_depth=5, max_leaves=0, min_child_weight=1,\n",
       "             missing=nan, monotone_constraints=&#x27;()&#x27;, n_estimators=10, n_jobs=0,\n",
       "             num_parallel_tree=1, predictor=&#x27;auto&#x27;, random_state=51,\n",
       "             reg_alpha=0, reg_lambda=1, ...)</pre><b>In a Jupyter environment, please rerun this cell to show the HTML representation or trust the notebook. <br />On GitHub, the HTML representation is unable to render, please try loading this page with nbviewer.org.</b></div><div class=\"sk-container\" hidden><div class=\"sk-item\"><div class=\"sk-estimator sk-toggleable\"><input class=\"sk-toggleable__control sk-hidden--visually\" id=\"sk-estimator-id-2\" type=\"checkbox\" checked><label for=\"sk-estimator-id-2\" class=\"sk-toggleable__label sk-toggleable__label-arrow\">XGBRegressor</label><div class=\"sk-toggleable__content\"><pre>XGBRegressor(base_score=0.5, booster=&#x27;gbtree&#x27;, callbacks=None,\n",
       "             colsample_bylevel=1, colsample_bynode=1, colsample_bytree=1,\n",
       "             early_stopping_rounds=None, enable_categorical=False,\n",
       "             eval_metric=None, gamma=0, gpu_id=-1, grow_policy=&#x27;depthwise&#x27;,\n",
       "             importance_type=None, interaction_constraints=&#x27;&#x27;,\n",
       "             learning_rate=0.300000012, max_bin=256, max_cat_to_onehot=4,\n",
       "             max_delta_step=0, max_depth=5, max_leaves=0, min_child_weight=1,\n",
       "             missing=nan, monotone_constraints=&#x27;()&#x27;, n_estimators=10, n_jobs=0,\n",
       "             num_parallel_tree=1, predictor=&#x27;auto&#x27;, random_state=51,\n",
       "             reg_alpha=0, reg_lambda=1, ...)</pre></div></div></div></div></div>"
      ],
      "text/plain": [
       "XGBRegressor(base_score=0.5, booster='gbtree', callbacks=None,\n",
       "             colsample_bylevel=1, colsample_bynode=1, colsample_bytree=1,\n",
       "             early_stopping_rounds=None, enable_categorical=False,\n",
       "             eval_metric=None, gamma=0, gpu_id=-1, grow_policy='depthwise',\n",
       "             importance_type=None, interaction_constraints='',\n",
       "             learning_rate=0.300000012, max_bin=256, max_cat_to_onehot=4,\n",
       "             max_delta_step=0, max_depth=5, max_leaves=0, min_child_weight=1,\n",
       "             missing=nan, monotone_constraints='()', n_estimators=10, n_jobs=0,\n",
       "             num_parallel_tree=1, predictor='auto', random_state=51,\n",
       "             reg_alpha=0, reg_lambda=1, ...)"
      ]
     },
     "execution_count": 138,
     "metadata": {},
     "output_type": "execute_result"
    }
   ],
   "source": [
    "xgb = XGBRegressor(random_state=51, n_estimators=10, max_depth=5)\n",
    "xgb.fit(X_train, y_train)"
   ]
  },
  {
   "cell_type": "code",
   "execution_count": 139,
   "id": "edacef0d",
   "metadata": {},
   "outputs": [],
   "source": [
    "xgb_predictions = xgb.predict(X_test)"
   ]
  },
  {
   "cell_type": "markdown",
   "id": "6b866e4f",
   "metadata": {},
   "source": [
    "### LightGBM"
   ]
  },
  {
   "cell_type": "code",
   "execution_count": 140,
   "id": "ae751344",
   "metadata": {},
   "outputs": [
    {
     "data": {
      "text/html": [
       "<style>#sk-container-id-3 {color: black;background-color: white;}#sk-container-id-3 pre{padding: 0;}#sk-container-id-3 div.sk-toggleable {background-color: white;}#sk-container-id-3 label.sk-toggleable__label {cursor: pointer;display: block;width: 100%;margin-bottom: 0;padding: 0.3em;box-sizing: border-box;text-align: center;}#sk-container-id-3 label.sk-toggleable__label-arrow:before {content: \"▸\";float: left;margin-right: 0.25em;color: #696969;}#sk-container-id-3 label.sk-toggleable__label-arrow:hover:before {color: black;}#sk-container-id-3 div.sk-estimator:hover label.sk-toggleable__label-arrow:before {color: black;}#sk-container-id-3 div.sk-toggleable__content {max-height: 0;max-width: 0;overflow: hidden;text-align: left;background-color: #f0f8ff;}#sk-container-id-3 div.sk-toggleable__content pre {margin: 0.2em;color: black;border-radius: 0.25em;background-color: #f0f8ff;}#sk-container-id-3 input.sk-toggleable__control:checked~div.sk-toggleable__content {max-height: 200px;max-width: 100%;overflow: auto;}#sk-container-id-3 input.sk-toggleable__control:checked~label.sk-toggleable__label-arrow:before {content: \"▾\";}#sk-container-id-3 div.sk-estimator input.sk-toggleable__control:checked~label.sk-toggleable__label {background-color: #d4ebff;}#sk-container-id-3 div.sk-label input.sk-toggleable__control:checked~label.sk-toggleable__label {background-color: #d4ebff;}#sk-container-id-3 input.sk-hidden--visually {border: 0;clip: rect(1px 1px 1px 1px);clip: rect(1px, 1px, 1px, 1px);height: 1px;margin: -1px;overflow: hidden;padding: 0;position: absolute;width: 1px;}#sk-container-id-3 div.sk-estimator {font-family: monospace;background-color: #f0f8ff;border: 1px dotted black;border-radius: 0.25em;box-sizing: border-box;margin-bottom: 0.5em;}#sk-container-id-3 div.sk-estimator:hover {background-color: #d4ebff;}#sk-container-id-3 div.sk-parallel-item::after {content: \"\";width: 100%;border-bottom: 1px solid gray;flex-grow: 1;}#sk-container-id-3 div.sk-label:hover label.sk-toggleable__label {background-color: #d4ebff;}#sk-container-id-3 div.sk-serial::before {content: \"\";position: absolute;border-left: 1px solid gray;box-sizing: border-box;top: 0;bottom: 0;left: 50%;z-index: 0;}#sk-container-id-3 div.sk-serial {display: flex;flex-direction: column;align-items: center;background-color: white;padding-right: 0.2em;padding-left: 0.2em;position: relative;}#sk-container-id-3 div.sk-item {position: relative;z-index: 1;}#sk-container-id-3 div.sk-parallel {display: flex;align-items: stretch;justify-content: center;background-color: white;position: relative;}#sk-container-id-3 div.sk-item::before, #sk-container-id-3 div.sk-parallel-item::before {content: \"\";position: absolute;border-left: 1px solid gray;box-sizing: border-box;top: 0;bottom: 0;left: 50%;z-index: -1;}#sk-container-id-3 div.sk-parallel-item {display: flex;flex-direction: column;z-index: 1;position: relative;background-color: white;}#sk-container-id-3 div.sk-parallel-item:first-child::after {align-self: flex-end;width: 50%;}#sk-container-id-3 div.sk-parallel-item:last-child::after {align-self: flex-start;width: 50%;}#sk-container-id-3 div.sk-parallel-item:only-child::after {width: 0;}#sk-container-id-3 div.sk-dashed-wrapped {border: 1px dashed gray;margin: 0 0.4em 0.5em 0.4em;box-sizing: border-box;padding-bottom: 0.4em;background-color: white;}#sk-container-id-3 div.sk-label label {font-family: monospace;font-weight: bold;display: inline-block;line-height: 1.2em;}#sk-container-id-3 div.sk-label-container {text-align: center;}#sk-container-id-3 div.sk-container {/* jupyter's `normalize.less` sets `[hidden] { display: none; }` but bootstrap.min.css set `[hidden] { display: none !important; }` so we also need the `!important` here to be able to override the default hidden behavior on the sphinx rendered scikit-learn.org. See: https://github.com/scikit-learn/scikit-learn/issues/21755 */display: inline-block !important;position: relative;}#sk-container-id-3 div.sk-text-repr-fallback {display: none;}</style><div id=\"sk-container-id-3\" class=\"sk-top-container\"><div class=\"sk-text-repr-fallback\"><pre>LGBMRegressor(boosting_type=&#x27;dart&#x27;, max_depth=17, min_child_samples=21,\n",
       "              n_estimators=160, num_leaves=40, random_state=51,\n",
       "              subsample_for_bin=200)</pre><b>In a Jupyter environment, please rerun this cell to show the HTML representation or trust the notebook. <br />On GitHub, the HTML representation is unable to render, please try loading this page with nbviewer.org.</b></div><div class=\"sk-container\" hidden><div class=\"sk-item\"><div class=\"sk-estimator sk-toggleable\"><input class=\"sk-toggleable__control sk-hidden--visually\" id=\"sk-estimator-id-3\" type=\"checkbox\" checked><label for=\"sk-estimator-id-3\" class=\"sk-toggleable__label sk-toggleable__label-arrow\">LGBMRegressor</label><div class=\"sk-toggleable__content\"><pre>LGBMRegressor(boosting_type=&#x27;dart&#x27;, max_depth=17, min_child_samples=21,\n",
       "              n_estimators=160, num_leaves=40, random_state=51,\n",
       "              subsample_for_bin=200)</pre></div></div></div></div></div>"
      ],
      "text/plain": [
       "LGBMRegressor(boosting_type='dart', max_depth=17, min_child_samples=21,\n",
       "              n_estimators=160, num_leaves=40, random_state=51,\n",
       "              subsample_for_bin=200)"
      ]
     },
     "execution_count": 140,
     "metadata": {},
     "output_type": "execute_result"
    }
   ],
   "source": [
    "lgb = LGBMRegressor(random_state=51, n_jobs=-1, boosting_type=\"dart\", subsample_for_bin=200, num_leaves=40, n_estimators=160, min_child_samples=21, max_depth=17)\n",
    "lgb.fit(X_train, y_train)"
   ]
  },
  {
   "cell_type": "code",
   "execution_count": 141,
   "id": "5b10790a",
   "metadata": {},
   "outputs": [],
   "source": [
    "lgb_predictions = lgb.predict(X_test)"
   ]
  },
  {
   "cell_type": "markdown",
   "id": "ee840f2a",
   "metadata": {},
   "source": [
    "### SVM"
   ]
  },
  {
   "cell_type": "code",
   "execution_count": 146,
   "id": "8fe3bc32",
   "metadata": {},
   "outputs": [
    {
     "data": {
      "text/html": [
       "<style>#sk-container-id-5 {color: black;background-color: white;}#sk-container-id-5 pre{padding: 0;}#sk-container-id-5 div.sk-toggleable {background-color: white;}#sk-container-id-5 label.sk-toggleable__label {cursor: pointer;display: block;width: 100%;margin-bottom: 0;padding: 0.3em;box-sizing: border-box;text-align: center;}#sk-container-id-5 label.sk-toggleable__label-arrow:before {content: \"▸\";float: left;margin-right: 0.25em;color: #696969;}#sk-container-id-5 label.sk-toggleable__label-arrow:hover:before {color: black;}#sk-container-id-5 div.sk-estimator:hover label.sk-toggleable__label-arrow:before {color: black;}#sk-container-id-5 div.sk-toggleable__content {max-height: 0;max-width: 0;overflow: hidden;text-align: left;background-color: #f0f8ff;}#sk-container-id-5 div.sk-toggleable__content pre {margin: 0.2em;color: black;border-radius: 0.25em;background-color: #f0f8ff;}#sk-container-id-5 input.sk-toggleable__control:checked~div.sk-toggleable__content {max-height: 200px;max-width: 100%;overflow: auto;}#sk-container-id-5 input.sk-toggleable__control:checked~label.sk-toggleable__label-arrow:before {content: \"▾\";}#sk-container-id-5 div.sk-estimator input.sk-toggleable__control:checked~label.sk-toggleable__label {background-color: #d4ebff;}#sk-container-id-5 div.sk-label input.sk-toggleable__control:checked~label.sk-toggleable__label {background-color: #d4ebff;}#sk-container-id-5 input.sk-hidden--visually {border: 0;clip: rect(1px 1px 1px 1px);clip: rect(1px, 1px, 1px, 1px);height: 1px;margin: -1px;overflow: hidden;padding: 0;position: absolute;width: 1px;}#sk-container-id-5 div.sk-estimator {font-family: monospace;background-color: #f0f8ff;border: 1px dotted black;border-radius: 0.25em;box-sizing: border-box;margin-bottom: 0.5em;}#sk-container-id-5 div.sk-estimator:hover {background-color: #d4ebff;}#sk-container-id-5 div.sk-parallel-item::after {content: \"\";width: 100%;border-bottom: 1px solid gray;flex-grow: 1;}#sk-container-id-5 div.sk-label:hover label.sk-toggleable__label {background-color: #d4ebff;}#sk-container-id-5 div.sk-serial::before {content: \"\";position: absolute;border-left: 1px solid gray;box-sizing: border-box;top: 0;bottom: 0;left: 50%;z-index: 0;}#sk-container-id-5 div.sk-serial {display: flex;flex-direction: column;align-items: center;background-color: white;padding-right: 0.2em;padding-left: 0.2em;position: relative;}#sk-container-id-5 div.sk-item {position: relative;z-index: 1;}#sk-container-id-5 div.sk-parallel {display: flex;align-items: stretch;justify-content: center;background-color: white;position: relative;}#sk-container-id-5 div.sk-item::before, #sk-container-id-5 div.sk-parallel-item::before {content: \"\";position: absolute;border-left: 1px solid gray;box-sizing: border-box;top: 0;bottom: 0;left: 50%;z-index: -1;}#sk-container-id-5 div.sk-parallel-item {display: flex;flex-direction: column;z-index: 1;position: relative;background-color: white;}#sk-container-id-5 div.sk-parallel-item:first-child::after {align-self: flex-end;width: 50%;}#sk-container-id-5 div.sk-parallel-item:last-child::after {align-self: flex-start;width: 50%;}#sk-container-id-5 div.sk-parallel-item:only-child::after {width: 0;}#sk-container-id-5 div.sk-dashed-wrapped {border: 1px dashed gray;margin: 0 0.4em 0.5em 0.4em;box-sizing: border-box;padding-bottom: 0.4em;background-color: white;}#sk-container-id-5 div.sk-label label {font-family: monospace;font-weight: bold;display: inline-block;line-height: 1.2em;}#sk-container-id-5 div.sk-label-container {text-align: center;}#sk-container-id-5 div.sk-container {/* jupyter's `normalize.less` sets `[hidden] { display: none; }` but bootstrap.min.css set `[hidden] { display: none !important; }` so we also need the `!important` here to be able to override the default hidden behavior on the sphinx rendered scikit-learn.org. See: https://github.com/scikit-learn/scikit-learn/issues/21755 */display: inline-block !important;position: relative;}#sk-container-id-5 div.sk-text-repr-fallback {display: none;}</style><div id=\"sk-container-id-5\" class=\"sk-top-container\"><div class=\"sk-text-repr-fallback\"><pre>SVR()</pre><b>In a Jupyter environment, please rerun this cell to show the HTML representation or trust the notebook. <br />On GitHub, the HTML representation is unable to render, please try loading this page with nbviewer.org.</b></div><div class=\"sk-container\" hidden><div class=\"sk-item\"><div class=\"sk-estimator sk-toggleable\"><input class=\"sk-toggleable__control sk-hidden--visually\" id=\"sk-estimator-id-5\" type=\"checkbox\" checked><label for=\"sk-estimator-id-5\" class=\"sk-toggleable__label sk-toggleable__label-arrow\">SVR</label><div class=\"sk-toggleable__content\"><pre>SVR()</pre></div></div></div></div></div>"
      ],
      "text/plain": [
       "SVR()"
      ]
     },
     "execution_count": 146,
     "metadata": {},
     "output_type": "execute_result"
    }
   ],
   "source": [
    "svm = SVR()\n",
    "svm.fit(X_train, y_train)"
   ]
  },
  {
   "cell_type": "code",
   "execution_count": 147,
   "id": "b99efed8",
   "metadata": {},
   "outputs": [],
   "source": [
    "svm_predictions = svm.predict(X_test)"
   ]
  },
  {
   "cell_type": "markdown",
   "id": "fc16cc92",
   "metadata": {},
   "source": [
    "### KNN"
   ]
  },
  {
   "cell_type": "code",
   "execution_count": 144,
   "id": "f338846d",
   "metadata": {},
   "outputs": [
    {
     "data": {
      "text/html": [
       "<style>#sk-container-id-4 {color: black;background-color: white;}#sk-container-id-4 pre{padding: 0;}#sk-container-id-4 div.sk-toggleable {background-color: white;}#sk-container-id-4 label.sk-toggleable__label {cursor: pointer;display: block;width: 100%;margin-bottom: 0;padding: 0.3em;box-sizing: border-box;text-align: center;}#sk-container-id-4 label.sk-toggleable__label-arrow:before {content: \"▸\";float: left;margin-right: 0.25em;color: #696969;}#sk-container-id-4 label.sk-toggleable__label-arrow:hover:before {color: black;}#sk-container-id-4 div.sk-estimator:hover label.sk-toggleable__label-arrow:before {color: black;}#sk-container-id-4 div.sk-toggleable__content {max-height: 0;max-width: 0;overflow: hidden;text-align: left;background-color: #f0f8ff;}#sk-container-id-4 div.sk-toggleable__content pre {margin: 0.2em;color: black;border-radius: 0.25em;background-color: #f0f8ff;}#sk-container-id-4 input.sk-toggleable__control:checked~div.sk-toggleable__content {max-height: 200px;max-width: 100%;overflow: auto;}#sk-container-id-4 input.sk-toggleable__control:checked~label.sk-toggleable__label-arrow:before {content: \"▾\";}#sk-container-id-4 div.sk-estimator input.sk-toggleable__control:checked~label.sk-toggleable__label {background-color: #d4ebff;}#sk-container-id-4 div.sk-label input.sk-toggleable__control:checked~label.sk-toggleable__label {background-color: #d4ebff;}#sk-container-id-4 input.sk-hidden--visually {border: 0;clip: rect(1px 1px 1px 1px);clip: rect(1px, 1px, 1px, 1px);height: 1px;margin: -1px;overflow: hidden;padding: 0;position: absolute;width: 1px;}#sk-container-id-4 div.sk-estimator {font-family: monospace;background-color: #f0f8ff;border: 1px dotted black;border-radius: 0.25em;box-sizing: border-box;margin-bottom: 0.5em;}#sk-container-id-4 div.sk-estimator:hover {background-color: #d4ebff;}#sk-container-id-4 div.sk-parallel-item::after {content: \"\";width: 100%;border-bottom: 1px solid gray;flex-grow: 1;}#sk-container-id-4 div.sk-label:hover label.sk-toggleable__label {background-color: #d4ebff;}#sk-container-id-4 div.sk-serial::before {content: \"\";position: absolute;border-left: 1px solid gray;box-sizing: border-box;top: 0;bottom: 0;left: 50%;z-index: 0;}#sk-container-id-4 div.sk-serial {display: flex;flex-direction: column;align-items: center;background-color: white;padding-right: 0.2em;padding-left: 0.2em;position: relative;}#sk-container-id-4 div.sk-item {position: relative;z-index: 1;}#sk-container-id-4 div.sk-parallel {display: flex;align-items: stretch;justify-content: center;background-color: white;position: relative;}#sk-container-id-4 div.sk-item::before, #sk-container-id-4 div.sk-parallel-item::before {content: \"\";position: absolute;border-left: 1px solid gray;box-sizing: border-box;top: 0;bottom: 0;left: 50%;z-index: -1;}#sk-container-id-4 div.sk-parallel-item {display: flex;flex-direction: column;z-index: 1;position: relative;background-color: white;}#sk-container-id-4 div.sk-parallel-item:first-child::after {align-self: flex-end;width: 50%;}#sk-container-id-4 div.sk-parallel-item:last-child::after {align-self: flex-start;width: 50%;}#sk-container-id-4 div.sk-parallel-item:only-child::after {width: 0;}#sk-container-id-4 div.sk-dashed-wrapped {border: 1px dashed gray;margin: 0 0.4em 0.5em 0.4em;box-sizing: border-box;padding-bottom: 0.4em;background-color: white;}#sk-container-id-4 div.sk-label label {font-family: monospace;font-weight: bold;display: inline-block;line-height: 1.2em;}#sk-container-id-4 div.sk-label-container {text-align: center;}#sk-container-id-4 div.sk-container {/* jupyter's `normalize.less` sets `[hidden] { display: none; }` but bootstrap.min.css set `[hidden] { display: none !important; }` so we also need the `!important` here to be able to override the default hidden behavior on the sphinx rendered scikit-learn.org. See: https://github.com/scikit-learn/scikit-learn/issues/21755 */display: inline-block !important;position: relative;}#sk-container-id-4 div.sk-text-repr-fallback {display: none;}</style><div id=\"sk-container-id-4\" class=\"sk-top-container\"><div class=\"sk-text-repr-fallback\"><pre>KNeighborsRegressor(algorithm=&#x27;ball_tree&#x27;, n_neighbors=16)</pre><b>In a Jupyter environment, please rerun this cell to show the HTML representation or trust the notebook. <br />On GitHub, the HTML representation is unable to render, please try loading this page with nbviewer.org.</b></div><div class=\"sk-container\" hidden><div class=\"sk-item\"><div class=\"sk-estimator sk-toggleable\"><input class=\"sk-toggleable__control sk-hidden--visually\" id=\"sk-estimator-id-4\" type=\"checkbox\" checked><label for=\"sk-estimator-id-4\" class=\"sk-toggleable__label sk-toggleable__label-arrow\">KNeighborsRegressor</label><div class=\"sk-toggleable__content\"><pre>KNeighborsRegressor(algorithm=&#x27;ball_tree&#x27;, n_neighbors=16)</pre></div></div></div></div></div>"
      ],
      "text/plain": [
       "KNeighborsRegressor(algorithm='ball_tree', n_neighbors=16)"
      ]
     },
     "execution_count": 144,
     "metadata": {},
     "output_type": "execute_result"
    }
   ],
   "source": [
    "knn = KNeighborsRegressor(n_neighbors=16, algorithm=\"ball_tree\")\n",
    "knn.fit(X_train, y_train)"
   ]
  },
  {
   "cell_type": "code",
   "execution_count": 145,
   "id": "deb7dff8",
   "metadata": {},
   "outputs": [],
   "source": [
    "knn_predictions = knn.predict(X_test)"
   ]
  },
  {
   "cell_type": "markdown",
   "id": "1b5ca86d",
   "metadata": {},
   "source": [
    "### Model Performance on Test data"
   ]
  },
  {
   "cell_type": "markdown",
   "id": "6079f63a",
   "metadata": {},
   "source": [
    "Here we are checking the performance of the machine learning models on the test data"
   ]
  },
  {
   "cell_type": "code",
   "execution_count": 119,
   "id": "9e101454",
   "metadata": {},
   "outputs": [
    {
     "name": "stdout",
     "output_type": "stream",
     "text": [
      "Random Forests: 47.981976310101885\n",
      "XGBoost: 47.66071288051751\n",
      "LightGBM: 46.281797674950845\n",
      "SVM: 68.47029698827649\n",
      "KNN: 49.07626288582097\n"
     ]
    }
   ],
   "source": [
    "print(f\"Random Forests: {mean_absolute_error(y_test, rf_predictions) / 1e6}\")\n",
    "print(f\"XGBoost: {mean_absolute_error(y_test, xgb_predictions) / 1e6}\")\n",
    "print(f\"LightGBM: {mean_absolute_error(y_test, lgb_predictions) / 1e6}\")\n",
    "print(f\"SVM: {mean_absolute_error(y_test, svm_predictions) / 1e6}\")\n",
    "print(f\"KNN: {mean_absolute_error(y_test, knn_predictions) / 1e6}\")"
   ]
  },
  {
   "cell_type": "markdown",
   "id": "57f586e6",
   "metadata": {},
   "source": [
    "Renaming LightGBM to final model "
   ]
  },
  {
   "cell_type": "code",
   "execution_count": 120,
   "id": "a91cb736",
   "metadata": {},
   "outputs": [],
   "source": [
    "model = lgb"
   ]
  },
  {
   "cell_type": "markdown",
   "id": "e91c0f73",
   "metadata": {},
   "source": [
    "## Case Prediction"
   ]
  },
  {
   "cell_type": "markdown",
   "id": "77ad1e06",
   "metadata": {},
   "source": [
    "We would create a function to help us perform predictions from new data "
   ]
  },
  {
   "cell_type": "code",
   "execution_count": 121,
   "id": "1e868e7b",
   "metadata": {},
   "outputs": [],
   "source": [
    "def predict_house(data):\n",
    "    test = pd.DataFrame([data])\n",
    "    category = ['Neighborhood', 'Type', 'City']\n",
    "    numerical = ['Bathrooms', 'Bedrooms', 'Toilets']\n",
    "\n",
    "    test[category] = imputer.transform(test[category])\n",
    "    test[numerical] = scaler.transform(test[numerical])\n",
    "    test = encoder.transform(test)\n",
    "\n",
    "    prediction = model.predict(test)[0]\n",
    "    \n",
    "    print(f\"The price of the requested property is {prediction / 1e6:.0f} million naira\")"
   ]
  },
  {
   "cell_type": "markdown",
   "id": "e3fb9284",
   "metadata": {},
   "source": [
    "Let's assume we want to buy a newly built, serviced, unfurnished detached duplex in Osapa London, Lekki,that has 4 Bedrooms each with bathrooms, and a guest toilet"
   ]
  },
  {
   "cell_type": "code",
   "execution_count": 122,
   "id": "de39c657",
   "metadata": {},
   "outputs": [
    {
     "name": "stdout",
     "output_type": "stream",
     "text": [
      "The price of the requested property is 112 million naira\n"
     ]
    }
   ],
   "source": [
    "new_input = {\n",
    "    \"Serviced\" : 1,\n",
    "    \"Newly Built\" : 1,\n",
    "    \"Furnished\" : 0,\n",
    "    \"Bedrooms\" : 4,\n",
    "    \"Bathrooms\" : 4,\n",
    "    \"Toilets\" : 5,\n",
    "    \"Neighborhood\" : \"Osapa London\",\n",
    "    \"Type\" : \"Detached Duplex\",\n",
    "    \"City\" : \"Lekki\"\n",
    "}\n",
    "\n",
    "predict_house(new_input)"
   ]
  },
  {
   "cell_type": "markdown",
   "id": "5a77d232",
   "metadata": {},
   "source": [
    "Semi-Detached House in Banana Island, Ikoyi with 5 bedroom and bathrooms with 6 toilets"
   ]
  },
  {
   "cell_type": "code",
   "execution_count": 123,
   "id": "d978c854",
   "metadata": {},
   "outputs": [
    {
     "name": "stdout",
     "output_type": "stream",
     "text": [
      "The price of the requested property is 347 million naira\n"
     ]
    }
   ],
   "source": [
    "new_input = {\n",
    "    \"Serviced\" : 0,\n",
    "    \"Newly Built\" : 0,\n",
    "    \"Furnished\" : 0,\n",
    "    \"Bedrooms\" : 5,\n",
    "    \"Bathrooms\" : 5,\n",
    "    \"Toilets\" : 6,\n",
    "    \"Neighborhood\" : \"Banana Island\",\n",
    "    \"Type\" : \"Semi Detached Duplex\",\n",
    "    \"City\" : \"Ikoyi\"\n",
    "}\n",
    "\n",
    "predict_house(new_input)"
   ]
  },
  {
   "cell_type": "markdown",
   "id": "aa60d187",
   "metadata": {},
   "source": [
    "### Important Features\n",
    "We check for the features that are the most important features for determining the house prices\n",
    "* Newly built\n",
    "* Bedrooms\n",
    "* Toilets\n",
    "* Bathrooms"
   ]
  },
  {
   "cell_type": "code",
   "execution_count": 124,
   "id": "0e36445c",
   "metadata": {},
   "outputs": [],
   "source": [
    "importance_df = pd.DataFrame({\n",
    "    'feature': X_train.columns,\n",
    "    'importance': model.feature_importances_\n",
    "}).sort_values('importance', ascending=False)"
   ]
  },
  {
   "cell_type": "code",
   "execution_count": 125,
   "id": "a05ffa33",
   "metadata": {},
   "outputs": [
    {
     "data": {
      "text/html": [
       "<div>\n",
       "<style scoped>\n",
       "    .dataframe tbody tr th:only-of-type {\n",
       "        vertical-align: middle;\n",
       "    }\n",
       "\n",
       "    .dataframe tbody tr th {\n",
       "        vertical-align: top;\n",
       "    }\n",
       "\n",
       "    .dataframe thead th {\n",
       "        text-align: right;\n",
       "    }\n",
       "</style>\n",
       "<table border=\"1\" class=\"dataframe\">\n",
       "  <thead>\n",
       "    <tr style=\"text-align: right;\">\n",
       "      <th></th>\n",
       "      <th>feature</th>\n",
       "      <th>importance</th>\n",
       "    </tr>\n",
       "  </thead>\n",
       "  <tbody>\n",
       "    <tr>\n",
       "      <th>3</th>\n",
       "      <td>Bedrooms</td>\n",
       "      <td>606</td>\n",
       "    </tr>\n",
       "    <tr>\n",
       "      <th>4</th>\n",
       "      <td>Bathrooms</td>\n",
       "      <td>487</td>\n",
       "    </tr>\n",
       "    <tr>\n",
       "      <th>5</th>\n",
       "      <td>Toilets</td>\n",
       "      <td>460</td>\n",
       "    </tr>\n",
       "    <tr>\n",
       "      <th>39</th>\n",
       "      <td>Type_Detached Duplex</td>\n",
       "      <td>415</td>\n",
       "    </tr>\n",
       "    <tr>\n",
       "      <th>1</th>\n",
       "      <td>Newly Built</td>\n",
       "      <td>407</td>\n",
       "    </tr>\n",
       "    <tr>\n",
       "      <th>9</th>\n",
       "      <td>Neighborhood_Lekki Phase 1</td>\n",
       "      <td>351</td>\n",
       "    </tr>\n",
       "    <tr>\n",
       "      <th>18</th>\n",
       "      <td>Neighborhood_GRA</td>\n",
       "      <td>346</td>\n",
       "    </tr>\n",
       "    <tr>\n",
       "      <th>43</th>\n",
       "      <td>City_Ikoyi</td>\n",
       "      <td>316</td>\n",
       "    </tr>\n",
       "    <tr>\n",
       "      <th>13</th>\n",
       "      <td>Neighborhood_Ikate</td>\n",
       "      <td>302</td>\n",
       "    </tr>\n",
       "    <tr>\n",
       "      <th>44</th>\n",
       "      <td>City_Victoria Island</td>\n",
       "      <td>279</td>\n",
       "    </tr>\n",
       "  </tbody>\n",
       "</table>\n",
       "</div>"
      ],
      "text/plain": [
       "                       feature  importance\n",
       "3                     Bedrooms         606\n",
       "4                    Bathrooms         487\n",
       "5                      Toilets         460\n",
       "39        Type_Detached Duplex         415\n",
       "1                  Newly Built         407\n",
       "9   Neighborhood_Lekki Phase 1         351\n",
       "18            Neighborhood_GRA         346\n",
       "43                  City_Ikoyi         316\n",
       "13          Neighborhood_Ikate         302\n",
       "44        City_Victoria Island         279"
      ]
     },
     "execution_count": 125,
     "metadata": {},
     "output_type": "execute_result"
    }
   ],
   "source": [
    "importance_df.head(10)"
   ]
  },
  {
   "cell_type": "code",
   "execution_count": 126,
   "id": "1d3738a4",
   "metadata": {},
   "outputs": [
    {
     "data": {
      "image/png": "[encoded data removed]",
      "text/plain": [
       "<Figure size 720x360 with 1 Axes>"
      ]
     },
     "metadata": {},
     "output_type": "display_data"
    }
   ],
   "source": [
    "plt.figure(figsize=[10,5])\n",
    "plt.title(\"LightGBM Important Features\")\n",
    "sns.barplot(data=importance_df.head(10), x=\"importance\", y=\"feature\");"
   ]
  },
  {
   "cell_type": "code",
   "execution_count": 127,
   "id": "0e36445c",
   "metadata": {},
   "outputs": [],
   "source": [
    "xgb_df = pd.DataFrame({\n",
    "    'feature': X_train.columns,\n",
    "    'importance': xgb.feature_importances_\n",
    "}).sort_values('importance', ascending=False)"
   ]
  },
  {
   "cell_type": "code",
   "execution_count": 128,
   "id": "a05ffa33",
   "metadata": {},
   "outputs": [
    {
     "data": {
      "text/html": [
       "<div>\n",
       "<style scoped>\n",
       "    .dataframe tbody tr th:only-of-type {\n",
       "        vertical-align: middle;\n",
       "    }\n",
       "\n",
       "    .dataframe tbody tr th {\n",
       "        vertical-align: top;\n",
       "    }\n",
       "\n",
       "    .dataframe thead th {\n",
       "        text-align: right;\n",
       "    }\n",
       "</style>\n",
       "<table border=\"1\" class=\"dataframe\">\n",
       "  <thead>\n",
       "    <tr style=\"text-align: right;\">\n",
       "      <th></th>\n",
       "      <th>feature</th>\n",
       "      <th>importance</th>\n",
       "    </tr>\n",
       "  </thead>\n",
       "  <tbody>\n",
       "    <tr>\n",
       "      <th>3</th>\n",
       "      <td>Bedrooms</td>\n",
       "      <td>606</td>\n",
       "    </tr>\n",
       "    <tr>\n",
       "      <th>4</th>\n",
       "      <td>Bathrooms</td>\n",
       "      <td>487</td>\n",
       "    </tr>\n",
       "    <tr>\n",
       "      <th>5</th>\n",
       "      <td>Toilets</td>\n",
       "      <td>460</td>\n",
       "    </tr>\n",
       "    <tr>\n",
       "      <th>39</th>\n",
       "      <td>Type_Detached Duplex</td>\n",
       "      <td>415</td>\n",
       "    </tr>\n",
       "    <tr>\n",
       "      <th>1</th>\n",
       "      <td>Newly Built</td>\n",
       "      <td>407</td>\n",
       "    </tr>\n",
       "    <tr>\n",
       "      <th>9</th>\n",
       "      <td>Neighborhood_Lekki Phase 1</td>\n",
       "      <td>351</td>\n",
       "    </tr>\n",
       "    <tr>\n",
       "      <th>18</th>\n",
       "      <td>Neighborhood_GRA</td>\n",
       "      <td>346</td>\n",
       "    </tr>\n",
       "    <tr>\n",
       "      <th>43</th>\n",
       "      <td>City_Ikoyi</td>\n",
       "      <td>316</td>\n",
       "    </tr>\n",
       "    <tr>\n",
       "      <th>13</th>\n",
       "      <td>Neighborhood_Ikate</td>\n",
       "      <td>302</td>\n",
       "    </tr>\n",
       "    <tr>\n",
       "      <th>44</th>\n",
       "      <td>City_Victoria Island</td>\n",
       "      <td>279</td>\n",
       "    </tr>\n",
       "  </tbody>\n",
       "</table>\n",
       "</div>"
      ],
      "text/plain": [
       "                       feature  importance\n",
       "3                     Bedrooms         606\n",
       "4                    Bathrooms         487\n",
       "5                      Toilets         460\n",
       "39        Type_Detached Duplex         415\n",
       "1                  Newly Built         407\n",
       "9   Neighborhood_Lekki Phase 1         351\n",
       "18            Neighborhood_GRA         346\n",
       "43                  City_Ikoyi         316\n",
       "13          Neighborhood_Ikate         302\n",
       "44        City_Victoria Island         279"
      ]
     },
     "execution_count": 128,
     "metadata": {},
     "output_type": "execute_result"
    }
   ],
   "source": [
    "importance_df.head(10)"
   ]
  },
  {
   "cell_type": "code",
   "execution_count": 129,
   "id": "1d3738a4",
   "metadata": {},
   "outputs": [
    {
     "data": {
      "image/png": "[encoded data removed]",
      "text/plain": [
       "<Figure size 720x360 with 1 Axes>"
      ]
     },
     "metadata": {},
     "output_type": "display_data"
    }
   ],
   "source": [
    "plt.figure(figsize=[10,5])\n",
    "plt.title(\"XGBoost Important Features\")\n",
    "sns.barplot(data=importance_df.head(10), x=\"importance\", y=\"feature\");"
   ]
  },
  {
   "cell_type": "code",
   "execution_count": 130,
   "id": "0e36445c",
   "metadata": {},
   "outputs": [],
   "source": [
    "importance_df = pd.DataFrame({\n",
    "    'feature': X_train.columns,\n",
    "    'importance': rf.feature_importances_\n",
    "}).sort_values('importance', ascending=False)"
   ]
  },
  {
   "cell_type": "code",
   "execution_count": 131,
   "id": "a05ffa33",
   "metadata": {},
   "outputs": [
    {
     "data": {
      "text/html": [
       "<div>\n",
       "<style scoped>\n",
       "    .dataframe tbody tr th:only-of-type {\n",
       "        vertical-align: middle;\n",
       "    }\n",
       "\n",
       "    .dataframe tbody tr th {\n",
       "        vertical-align: top;\n",
       "    }\n",
       "\n",
       "    .dataframe thead th {\n",
       "        text-align: right;\n",
       "    }\n",
       "</style>\n",
       "<table border=\"1\" class=\"dataframe\">\n",
       "  <thead>\n",
       "    <tr style=\"text-align: right;\">\n",
       "      <th></th>\n",
       "      <th>feature</th>\n",
       "      <th>importance</th>\n",
       "    </tr>\n",
       "  </thead>\n",
       "  <tbody>\n",
       "    <tr>\n",
       "      <th>3</th>\n",
       "      <td>Bedrooms</td>\n",
       "      <td>0.310359</td>\n",
       "    </tr>\n",
       "    <tr>\n",
       "      <th>43</th>\n",
       "      <td>City_Ikoyi</td>\n",
       "      <td>0.280807</td>\n",
       "    </tr>\n",
       "    <tr>\n",
       "      <th>9</th>\n",
       "      <td>Neighborhood_Lekki Phase 1</td>\n",
       "      <td>0.062894</td>\n",
       "    </tr>\n",
       "    <tr>\n",
       "      <th>39</th>\n",
       "      <td>Type_Detached Duplex</td>\n",
       "      <td>0.046530</td>\n",
       "    </tr>\n",
       "    <tr>\n",
       "      <th>5</th>\n",
       "      <td>Toilets</td>\n",
       "      <td>0.042742</td>\n",
       "    </tr>\n",
       "    <tr>\n",
       "      <th>44</th>\n",
       "      <td>City_Victoria Island</td>\n",
       "      <td>0.034378</td>\n",
       "    </tr>\n",
       "    <tr>\n",
       "      <th>4</th>\n",
       "      <td>Bathrooms</td>\n",
       "      <td>0.031908</td>\n",
       "    </tr>\n",
       "    <tr>\n",
       "      <th>18</th>\n",
       "      <td>Neighborhood_GRA</td>\n",
       "      <td>0.025592</td>\n",
       "    </tr>\n",
       "    <tr>\n",
       "      <th>15</th>\n",
       "      <td>Neighborhood_Osapa London</td>\n",
       "      <td>0.023718</td>\n",
       "    </tr>\n",
       "    <tr>\n",
       "      <th>1</th>\n",
       "      <td>Newly Built</td>\n",
       "      <td>0.021720</td>\n",
       "    </tr>\n",
       "  </tbody>\n",
       "</table>\n",
       "</div>"
      ],
      "text/plain": [
       "                       feature  importance\n",
       "3                     Bedrooms    0.310359\n",
       "43                  City_Ikoyi    0.280807\n",
       "9   Neighborhood_Lekki Phase 1    0.062894\n",
       "39        Type_Detached Duplex    0.046530\n",
       "5                      Toilets    0.042742\n",
       "44        City_Victoria Island    0.034378\n",
       "4                    Bathrooms    0.031908\n",
       "18            Neighborhood_GRA    0.025592\n",
       "15   Neighborhood_Osapa London    0.023718\n",
       "1                  Newly Built    0.021720"
      ]
     },
     "execution_count": 131,
     "metadata": {},
     "output_type": "execute_result"
    }
   ],
   "source": [
    "importance_df.head(10)"
   ]
  },
  {
   "cell_type": "code",
   "execution_count": 132,
   "id": "1d3738a4",
   "metadata": {},
   "outputs": [
    {
     "data": {
      "image/png": "[encoded data removed]",
      "text/plain": [
       "<Figure size 720x360 with 1 Axes>"
      ]
     },
     "metadata": {},
     "output_type": "display_data"
    }
   ],
   "source": [
    "plt.figure(figsize=[10,5])\n",
    "plt.title(\"Random Forest Important Features\")\n",
    "sns.barplot(data=importance_df.head(10), x=\"importance\", y=\"feature\");"
   ]
  },
  {
   "cell_type": "markdown",
   "id": "1e6e2ee6",
   "metadata": {},
   "source": [
    "## Save Model"
   ]
  },
  {
   "cell_type": "markdown",
   "id": "bb8b9c8b",
   "metadata": {},
   "source": [
    "Saving the model for model deployment"
   ]
  },
  {
   "cell_type": "code",
   "execution_count": 133,
   "id": "ec1dcdbe",
   "metadata": {},
   "outputs": [],
   "source": [
    "import joblib"
   ]
  },
  {
   "cell_type": "code",
   "execution_count": 135,
   "id": "93cf2afb",
   "metadata": {},
   "outputs": [
    {
     "data": {
      "text/plain": [
       "['tools/model_joblib']"
      ]
     },
     "execution_count": 135,
     "metadata": {},
     "output_type": "execute_result"
    }
   ],
   "source": [
    "# joblib.dump(model, \"tools/model_joblib\")"
   ]
  }
 ],
 "metadata": {
  "kernelspec": {
   "display_name": "Python 3.9.12 ('base')",
   "language": "python",
   "name": "python3"
  },
  "language_info": {
   "codemirror_mode": {
    "name": "ipython",
    "version": 3
   },
   "file_extension": ".py",
   "mimetype": "text/x-python",
   "name": "python",
   "nbconvert_exporter": "python",
   "pygments_lexer": "ipython3",
   "version": "3.9.12"
  },
  "toc": {
   "base_numbering": 1,
   "nav_menu": {},
   "number_sections": true,
   "sideBar": true,
   "skip_h1_title": false,
   "title_cell": "Table of Contents",
   "title_sidebar": "Contents",
   "toc_cell": false,
   "toc_position": {},
   "toc_section_display": true,
   "toc_window_display": false
  },
  "vscode": {
   "interpreter": {
    "hash": "397fa5c989aefacd265b089cd9fa90a007575229207dba4eead3a1aa550249df"
   }
  }
 },
 "nbformat": 4,
 "nbformat_minor": 5
}
